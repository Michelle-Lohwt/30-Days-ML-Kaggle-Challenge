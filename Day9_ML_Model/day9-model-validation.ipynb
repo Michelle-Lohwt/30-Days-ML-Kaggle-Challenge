{
 "cells": [
  {
   "cell_type": "markdown",
   "id": "e8c3860f",
   "metadata": {
    "papermill": {
     "duration": 0.015443,
     "end_time": "2021-08-10T02:06:40.869021",
     "exception": false,
     "start_time": "2021-08-10T02:06:40.853578",
     "status": "completed"
    },
    "tags": []
   },
   "source": [
    "**This notebook is an exercise in the [Introduction to Machine Learning](https://www.kaggle.com/learn/intro-to-machine-learning) course.  You can reference the tutorial at [this link](https://www.kaggle.com/dansbecker/model-validation).**\n",
    "\n",
    "---\n"
   ]
  },
  {
   "cell_type": "markdown",
   "id": "c391af4d",
   "metadata": {
    "papermill": {
     "duration": 0.014543,
     "end_time": "2021-08-10T02:06:40.899311",
     "exception": false,
     "start_time": "2021-08-10T02:06:40.884768",
     "status": "completed"
    },
    "tags": []
   },
   "source": [
    "## Recap\n",
    "You've built a model. In this exercise you will test how good your model is.\n",
    "\n",
    "Run the cell below to set up your coding environment where the previous exercise left off."
   ]
  },
  {
   "cell_type": "code",
   "execution_count": 1,
   "id": "9d48eaa8",
   "metadata": {
    "execution": {
     "iopub.execute_input": "2021-08-10T02:06:40.933169Z",
     "iopub.status.busy": "2021-08-10T02:06:40.931903Z",
     "iopub.status.idle": "2021-08-10T02:06:42.371412Z",
     "shell.execute_reply": "2021-08-10T02:06:42.370347Z",
     "shell.execute_reply.started": "2021-08-10T01:56:28.811089Z"
    },
    "papermill": {
     "duration": 1.458153,
     "end_time": "2021-08-10T02:06:42.371797",
     "exception": false,
     "start_time": "2021-08-10T02:06:40.913644",
     "status": "completed"
    },
    "tags": []
   },
   "outputs": [
    {
     "name": "stdout",
     "output_type": "stream",
     "text": [
      "First in-sample predictions: [208500. 181500. 223500. 140000. 250000.]\n",
      "Actual target values for those homes: [208500, 181500, 223500, 140000, 250000]\n",
      "Setup Complete\n"
     ]
    }
   ],
   "source": [
    "# Code you have previously used to load data\n",
    "import pandas as pd\n",
    "from sklearn.tree import DecisionTreeRegressor\n",
    "\n",
    "# Path of the file to read\n",
    "iowa_file_path = '../input/home-data-for-ml-course/train.csv'\n",
    "\n",
    "home_data = pd.read_csv(iowa_file_path)\n",
    "y = home_data.SalePrice\n",
    "feature_columns = ['LotArea', 'YearBuilt', '1stFlrSF', '2ndFlrSF', 'FullBath', 'BedroomAbvGr', 'TotRmsAbvGrd']\n",
    "X = home_data[feature_columns]\n",
    "\n",
    "# Specify Model\n",
    "iowa_model = DecisionTreeRegressor()\n",
    "# Fit Model\n",
    "iowa_model.fit(X, y)\n",
    "\n",
    "print(\"First in-sample predictions:\", iowa_model.predict(X.head()))\n",
    "print(\"Actual target values for those homes:\", y.head().tolist())\n",
    "\n",
    "# Set up code checking\n",
    "from learntools.core import binder\n",
    "binder.bind(globals())\n",
    "from learntools.machine_learning.ex4 import *\n",
    "print(\"Setup Complete\")"
   ]
  },
  {
   "cell_type": "markdown",
   "id": "e1036dce",
   "metadata": {
    "papermill": {
     "duration": 0.014564,
     "end_time": "2021-08-10T02:06:42.401889",
     "exception": false,
     "start_time": "2021-08-10T02:06:42.387325",
     "status": "completed"
    },
    "tags": []
   },
   "source": [
    "# Exercises\n",
    "\n",
    "## Step 1: Split Your Data\n",
    "Use the `train_test_split` function to split up your data.\n",
    "\n",
    "Give it the argument `random_state=1` so the `check` functions know what to expect when verifying your code.\n",
    "\n",
    "Recall, your features are loaded in the DataFrame **X** and your target is loaded in **y**.\n"
   ]
  },
  {
   "cell_type": "code",
   "execution_count": 2,
   "id": "1be19ea8",
   "metadata": {
    "execution": {
     "iopub.execute_input": "2021-08-10T02:06:42.442238Z",
     "iopub.status.busy": "2021-08-10T02:06:42.441483Z",
     "iopub.status.idle": "2021-08-10T02:06:42.469376Z",
     "shell.execute_reply": "2021-08-10T02:06:42.468767Z",
     "shell.execute_reply.started": "2021-08-10T01:56:45.901282Z"
    },
    "papermill": {
     "duration": 0.052992,
     "end_time": "2021-08-10T02:06:42.469521",
     "exception": false,
     "start_time": "2021-08-10T02:06:42.416529",
     "status": "completed"
    },
    "tags": []
   },
   "outputs": [
    {
     "data": {
      "application/javascript": [
       "parent.postMessage({\"jupyterEvent\": \"custom.exercise_interaction\", \"data\": {\"outcomeType\": 1, \"valueTowardsCompletion\": 0.25, \"interactionType\": 1, \"questionType\": 2, \"questionId\": \"1_SplitData\", \"learnToolsVersion\": \"0.3.4\", \"failureMessage\": \"\", \"exceptionClass\": \"\", \"trace\": \"\"}}, \"*\")"
      ],
      "text/plain": [
       "<IPython.core.display.Javascript object>"
      ]
     },
     "metadata": {},
     "output_type": "display_data"
    },
    {
     "data": {
      "text/markdown": [
       "<span style=\"color:#33cc33\">Correct</span>"
      ],
      "text/plain": [
       "Correct"
      ]
     },
     "metadata": {},
     "output_type": "display_data"
    }
   ],
   "source": [
    "# Import the train_test_split function and uncomment\n",
    "from sklearn.model_selection import train_test_split\n",
    "\n",
    "# fill in and uncomment\n",
    "train_X, val_X, train_y, val_y = train_test_split(X, y, random_state = 1)\n",
    "\n",
    "# Check your answer\n",
    "step_1.check()"
   ]
  },
  {
   "cell_type": "code",
   "execution_count": 3,
   "id": "631c3ceb",
   "metadata": {
    "execution": {
     "iopub.execute_input": "2021-08-10T02:06:42.507949Z",
     "iopub.status.busy": "2021-08-10T02:06:42.507226Z",
     "iopub.status.idle": "2021-08-10T02:06:42.511929Z",
     "shell.execute_reply": "2021-08-10T02:06:42.512431Z",
     "shell.execute_reply.started": "2021-08-10T01:56:49.914625Z"
    },
    "papermill": {
     "duration": 0.02674,
     "end_time": "2021-08-10T02:06:42.512599",
     "exception": false,
     "start_time": "2021-08-10T02:06:42.485859",
     "status": "completed"
    },
    "tags": []
   },
   "outputs": [
    {
     "data": {
      "application/javascript": [
       "parent.postMessage({\"jupyterEvent\": \"custom.exercise_interaction\", \"data\": {\"interactionType\": 3, \"questionType\": 2, \"questionId\": \"1_SplitData\", \"learnToolsVersion\": \"0.3.4\", \"valueTowardsCompletion\": 0.0, \"failureMessage\": \"\", \"exceptionClass\": \"\", \"trace\": \"\", \"outcomeType\": 4}}, \"*\")"
      ],
      "text/plain": [
       "<IPython.core.display.Javascript object>"
      ]
     },
     "metadata": {},
     "output_type": "display_data"
    },
    {
     "data": {
      "text/markdown": [
       "<span style=\"color:#33cc99\">Solution:</span> \n",
       "```python\n",
       "from sklearn.model_selection import train_test_split\n",
       "train_X, val_X, train_y, val_y = train_test_split(X, y, random_state=1)\n",
       "```"
      ],
      "text/plain": [
       "Solution: \n",
       "```python\n",
       "from sklearn.model_selection import train_test_split\n",
       "train_X, val_X, train_y, val_y = train_test_split(X, y, random_state=1)\n",
       "```"
      ]
     },
     "metadata": {},
     "output_type": "display_data"
    }
   ],
   "source": [
    "# The lines below will show you a hint or the solution.\n",
    "# step_1.hint() \n",
    "step_1.solution()\n"
   ]
  },
  {
   "cell_type": "markdown",
   "id": "df3b9c8e",
   "metadata": {
    "papermill": {
     "duration": 0.016227,
     "end_time": "2021-08-10T02:06:42.545582",
     "exception": false,
     "start_time": "2021-08-10T02:06:42.529355",
     "status": "completed"
    },
    "tags": []
   },
   "source": [
    "## Step 2: Specify and Fit the Model\n",
    "\n",
    "Create a `DecisionTreeRegressor` model and fit it to the relevant data.\n",
    "Set `random_state` to 1 again when creating the model."
   ]
  },
  {
   "cell_type": "code",
   "execution_count": 4,
   "id": "50b0c8ff",
   "metadata": {
    "execution": {
     "iopub.execute_input": "2021-08-10T02:06:42.582316Z",
     "iopub.status.busy": "2021-08-10T02:06:42.581627Z",
     "iopub.status.idle": "2021-08-10T02:06:42.612629Z",
     "shell.execute_reply": "2021-08-10T02:06:42.612098Z",
     "shell.execute_reply.started": "2021-08-10T01:57:47.627850Z"
    },
    "papermill": {
     "duration": 0.050556,
     "end_time": "2021-08-10T02:06:42.612777",
     "exception": false,
     "start_time": "2021-08-10T02:06:42.562221",
     "status": "completed"
    },
    "tags": []
   },
   "outputs": [
    {
     "name": "stdout",
     "output_type": "stream",
     "text": [
      "[186500. 184000. 130000.  92000. 164500. 220000. 335000. 144152. 215000.\n",
      " 262000.]\n",
      "[186500. 184000. 130000.  92000. 164500. 220000. 335000. 144152. 215000.\n",
      " 262000.]\n"
     ]
    },
    {
     "data": {
      "application/javascript": [
       "parent.postMessage({\"jupyterEvent\": \"custom.exercise_interaction\", \"data\": {\"outcomeType\": 1, \"valueTowardsCompletion\": 0.25, \"interactionType\": 1, \"questionType\": 2, \"questionId\": \"2_FitModelWithTrain\", \"learnToolsVersion\": \"0.3.4\", \"failureMessage\": \"\", \"exceptionClass\": \"\", \"trace\": \"\"}}, \"*\")"
      ],
      "text/plain": [
       "<IPython.core.display.Javascript object>"
      ]
     },
     "metadata": {},
     "output_type": "display_data"
    },
    {
     "data": {
      "text/markdown": [
       "<span style=\"color:#33cc33\">Correct</span>"
      ],
      "text/plain": [
       "Correct"
      ]
     },
     "metadata": {},
     "output_type": "display_data"
    }
   ],
   "source": [
    "# You imported DecisionTreeRegressor in your last exercise\n",
    "# and that code has been copied to the setup code above. So, no need to\n",
    "# import it again\n",
    "\n",
    "# Specify the model\n",
    "iowa_model = DecisionTreeRegressor(random_state = 1)\n",
    "\n",
    "# Fit iowa_model with the training data.\n",
    "iowa_model.fit(train_X, train_y)\n",
    "\n",
    "# Check your answer\n",
    "step_2.check()"
   ]
  },
  {
   "cell_type": "code",
   "execution_count": 5,
   "id": "4f6e1ae6",
   "metadata": {
    "execution": {
     "iopub.execute_input": "2021-08-10T02:06:42.658519Z",
     "iopub.status.busy": "2021-08-10T02:06:42.657473Z",
     "iopub.status.idle": "2021-08-10T02:06:42.664602Z",
     "shell.execute_reply": "2021-08-10T02:06:42.663741Z",
     "shell.execute_reply.started": "2021-08-10T01:57:53.179395Z"
    },
    "papermill": {
     "duration": 0.032424,
     "end_time": "2021-08-10T02:06:42.664911",
     "exception": false,
     "start_time": "2021-08-10T02:06:42.632487",
     "status": "completed"
    },
    "tags": []
   },
   "outputs": [
    {
     "data": {
      "application/javascript": [
       "parent.postMessage({\"jupyterEvent\": \"custom.exercise_interaction\", \"data\": {\"interactionType\": 3, \"questionType\": 2, \"questionId\": \"2_FitModelWithTrain\", \"learnToolsVersion\": \"0.3.4\", \"valueTowardsCompletion\": 0.0, \"failureMessage\": \"\", \"exceptionClass\": \"\", \"trace\": \"\", \"outcomeType\": 4}}, \"*\")"
      ],
      "text/plain": [
       "<IPython.core.display.Javascript object>"
      ]
     },
     "metadata": {},
     "output_type": "display_data"
    },
    {
     "data": {
      "text/markdown": [
       "<span style=\"color:#33cc99\">Solution:</span> \n",
       "```python\n",
       "iowa_model = DecisionTreeRegressor(random_state=1)\n",
       "iowa_model.fit(train_X, train_y)\n",
       "```"
      ],
      "text/plain": [
       "Solution: \n",
       "```python\n",
       "iowa_model = DecisionTreeRegressor(random_state=1)\n",
       "iowa_model.fit(train_X, train_y)\n",
       "```"
      ]
     },
     "metadata": {},
     "output_type": "display_data"
    }
   ],
   "source": [
    "# step_2.hint()\n",
    "step_2.solution()"
   ]
  },
  {
   "cell_type": "markdown",
   "id": "8cf223eb",
   "metadata": {
    "papermill": {
     "duration": 0.020781,
     "end_time": "2021-08-10T02:06:42.705729",
     "exception": false,
     "start_time": "2021-08-10T02:06:42.684948",
     "status": "completed"
    },
    "tags": []
   },
   "source": [
    "## Step 3: Make Predictions with Validation data\n"
   ]
  },
  {
   "cell_type": "code",
   "execution_count": 6,
   "id": "48c6872f",
   "metadata": {
    "execution": {
     "iopub.execute_input": "2021-08-10T02:06:42.753160Z",
     "iopub.status.busy": "2021-08-10T02:06:42.752114Z",
     "iopub.status.idle": "2021-08-10T02:06:42.760144Z",
     "shell.execute_reply": "2021-08-10T02:06:42.759486Z",
     "shell.execute_reply.started": "2021-08-10T01:58:28.945085Z"
    },
    "papermill": {
     "duration": 0.035546,
     "end_time": "2021-08-10T02:06:42.760286",
     "exception": false,
     "start_time": "2021-08-10T02:06:42.724740",
     "status": "completed"
    },
    "tags": []
   },
   "outputs": [
    {
     "data": {
      "application/javascript": [
       "parent.postMessage({\"jupyterEvent\": \"custom.exercise_interaction\", \"data\": {\"outcomeType\": 1, \"valueTowardsCompletion\": 0.25, \"interactionType\": 1, \"questionType\": 2, \"questionId\": \"3_ValPreds\", \"learnToolsVersion\": \"0.3.4\", \"failureMessage\": \"\", \"exceptionClass\": \"\", \"trace\": \"\"}}, \"*\")"
      ],
      "text/plain": [
       "<IPython.core.display.Javascript object>"
      ]
     },
     "metadata": {},
     "output_type": "display_data"
    },
    {
     "data": {
      "text/markdown": [
       "<span style=\"color:#33cc33\">Correct</span>"
      ],
      "text/plain": [
       "Correct"
      ]
     },
     "metadata": {},
     "output_type": "display_data"
    }
   ],
   "source": [
    "# Predict with all validation observations\n",
    "val_predictions = iowa_model.predict(val_X)\n",
    "\n",
    "# Check your answer\n",
    "step_3.check()"
   ]
  },
  {
   "cell_type": "code",
   "execution_count": 7,
   "id": "40ad9f40",
   "metadata": {
    "execution": {
     "iopub.execute_input": "2021-08-10T02:06:42.804265Z",
     "iopub.status.busy": "2021-08-10T02:06:42.803536Z",
     "iopub.status.idle": "2021-08-10T02:06:42.811948Z",
     "shell.execute_reply": "2021-08-10T02:06:42.811260Z",
     "shell.execute_reply.started": "2021-08-10T01:58:33.403995Z"
    },
    "papermill": {
     "duration": 0.031914,
     "end_time": "2021-08-10T02:06:42.812104",
     "exception": false,
     "start_time": "2021-08-10T02:06:42.780190",
     "status": "completed"
    },
    "tags": []
   },
   "outputs": [
    {
     "data": {
      "application/javascript": [
       "parent.postMessage({\"jupyterEvent\": \"custom.exercise_interaction\", \"data\": {\"interactionType\": 3, \"questionType\": 2, \"questionId\": \"3_ValPreds\", \"learnToolsVersion\": \"0.3.4\", \"valueTowardsCompletion\": 0.0, \"failureMessage\": \"\", \"exceptionClass\": \"\", \"trace\": \"\", \"outcomeType\": 4}}, \"*\")"
      ],
      "text/plain": [
       "<IPython.core.display.Javascript object>"
      ]
     },
     "metadata": {},
     "output_type": "display_data"
    },
    {
     "data": {
      "text/markdown": [
       "<span style=\"color:#33cc99\">Solution:</span> \n",
       "```python\n",
       "val_predictions = iowa_model.predict(val_X)\n",
       "```"
      ],
      "text/plain": [
       "Solution: \n",
       "```python\n",
       "val_predictions = iowa_model.predict(val_X)\n",
       "```"
      ]
     },
     "metadata": {},
     "output_type": "display_data"
    }
   ],
   "source": [
    "# step_3.hint()\n",
    "step_3.solution()"
   ]
  },
  {
   "cell_type": "markdown",
   "id": "65063331",
   "metadata": {
    "papermill": {
     "duration": 0.02086,
     "end_time": "2021-08-10T02:06:42.854084",
     "exception": false,
     "start_time": "2021-08-10T02:06:42.833224",
     "status": "completed"
    },
    "tags": []
   },
   "source": [
    "Inspect your predictions and actual values from validation data."
   ]
  },
  {
   "cell_type": "code",
   "execution_count": 8,
   "id": "d9abfd64",
   "metadata": {
    "execution": {
     "iopub.execute_input": "2021-08-10T02:06:42.904679Z",
     "iopub.status.busy": "2021-08-10T02:06:42.903986Z",
     "iopub.status.idle": "2021-08-10T02:06:42.908286Z",
     "shell.execute_reply": "2021-08-10T02:06:42.907627Z",
     "shell.execute_reply.started": "2021-08-10T02:00:21.551539Z"
    },
    "papermill": {
     "duration": 0.033444,
     "end_time": "2021-08-10T02:06:42.908450",
     "exception": false,
     "start_time": "2021-08-10T02:06:42.875006",
     "status": "completed"
    },
    "tags": []
   },
   "outputs": [
    {
     "name": "stdout",
     "output_type": "stream",
     "text": [
      "[186500. 184000. 130000.  92000. 164500.]\n",
      "6       307000\n",
      "807     223500\n",
      "955     145000\n",
      "1040    155000\n",
      "701     140000\n",
      "Name: SalePrice, dtype: int64\n"
     ]
    }
   ],
   "source": [
    "# print the top few validation predictions\n",
    "print(val_predictions[:5])\n",
    "# print the top few actual prices from validation data\n",
    "print(train_y.head())"
   ]
  },
  {
   "cell_type": "code",
   "execution_count": 9,
   "id": "6364e184",
   "metadata": {
    "execution": {
     "iopub.execute_input": "2021-08-10T02:06:42.956959Z",
     "iopub.status.busy": "2021-08-10T02:06:42.955853Z",
     "iopub.status.idle": "2021-08-10T02:06:42.959374Z",
     "shell.execute_reply": "2021-08-10T02:06:42.958756Z",
     "shell.execute_reply.started": "2021-08-10T02:05:01.012358Z"
    },
    "papermill": {
     "duration": 0.029685,
     "end_time": "2021-08-10T02:06:42.959531",
     "exception": false,
     "start_time": "2021-08-10T02:06:42.929846",
     "status": "completed"
    },
    "tags": []
   },
   "outputs": [],
   "source": [
    "# The model will appear accurate if the model is given \"in-sample\" training data.\n",
    "\n",
    "# But if this pattern doesn't hold when the model sees new data, the model would be very inaccurate when used in practice.\n",
    "\n",
    "# Since models' practical value come from making predictions on new data, we measure performance on data that wasn't used \n",
    "# to build the model. The most straightforward way to do this is to exclude some data from the model-building process, and \n",
    "# then use those to test the model's accuracy on data it hasn't seen before. This data is called validation data.\n"
   ]
  },
  {
   "cell_type": "markdown",
   "id": "11e51bce",
   "metadata": {
    "papermill": {
     "duration": 0.020955,
     "end_time": "2021-08-10T02:06:43.001932",
     "exception": false,
     "start_time": "2021-08-10T02:06:42.980977",
     "status": "completed"
    },
    "tags": []
   },
   "source": [
    "What do you notice that is different from what you saw with in-sample predictions (which are printed after the top code cell in this page).\n",
    "\n",
    "Do you remember why validation predictions differ from in-sample (or training) predictions? This is an important idea from the last lesson.\n",
    "\n",
    "## Step 4: Calculate the Mean Absolute Error in Validation Data\n"
   ]
  },
  {
   "cell_type": "code",
   "execution_count": 10,
   "id": "f7d8b2da",
   "metadata": {
    "execution": {
     "iopub.execute_input": "2021-08-10T02:06:43.051939Z",
     "iopub.status.busy": "2021-08-10T02:06:43.051099Z",
     "iopub.status.idle": "2021-08-10T02:06:43.058415Z",
     "shell.execute_reply": "2021-08-10T02:06:43.057898Z",
     "shell.execute_reply.started": "2021-08-10T02:06:05.854299Z"
    },
    "papermill": {
     "duration": 0.035225,
     "end_time": "2021-08-10T02:06:43.058560",
     "exception": false,
     "start_time": "2021-08-10T02:06:43.023335",
     "status": "completed"
    },
    "tags": []
   },
   "outputs": [
    {
     "name": "stdout",
     "output_type": "stream",
     "text": [
      "29652.931506849316\n"
     ]
    },
    {
     "data": {
      "application/javascript": [
       "parent.postMessage({\"jupyterEvent\": \"custom.exercise_interaction\", \"data\": {\"outcomeType\": 1, \"valueTowardsCompletion\": 0.25, \"interactionType\": 1, \"questionType\": 1, \"questionId\": \"4_MAE\", \"learnToolsVersion\": \"0.3.4\", \"failureMessage\": \"\", \"exceptionClass\": \"\", \"trace\": \"\"}}, \"*\")"
      ],
      "text/plain": [
       "<IPython.core.display.Javascript object>"
      ]
     },
     "metadata": {},
     "output_type": "display_data"
    },
    {
     "data": {
      "text/markdown": [
       "<span style=\"color:#33cc33\">Correct</span>"
      ],
      "text/plain": [
       "Correct"
      ]
     },
     "metadata": {},
     "output_type": "display_data"
    }
   ],
   "source": [
    "from sklearn.metrics import mean_absolute_error\n",
    "val_mae = mean_absolute_error(val_y, val_predictions)\n",
    "\n",
    "# uncomment following line to see the validation_mae\n",
    "print(val_mae)\n",
    "\n",
    "# Check your answer\n",
    "step_4.check()"
   ]
  },
  {
   "cell_type": "code",
   "execution_count": 11,
   "id": "2255b85a",
   "metadata": {
    "execution": {
     "iopub.execute_input": "2021-08-10T02:06:43.110283Z",
     "iopub.status.busy": "2021-08-10T02:06:43.109580Z",
     "iopub.status.idle": "2021-08-10T02:06:43.115336Z",
     "shell.execute_reply": "2021-08-10T02:06:43.114713Z",
     "shell.execute_reply.started": "2021-08-10T02:06:11.279685Z"
    },
    "papermill": {
     "duration": 0.03445,
     "end_time": "2021-08-10T02:06:43.115515",
     "exception": false,
     "start_time": "2021-08-10T02:06:43.081065",
     "status": "completed"
    },
    "tags": []
   },
   "outputs": [
    {
     "data": {
      "application/javascript": [
       "parent.postMessage({\"jupyterEvent\": \"custom.exercise_interaction\", \"data\": {\"interactionType\": 3, \"questionType\": 1, \"questionId\": \"4_MAE\", \"learnToolsVersion\": \"0.3.4\", \"valueTowardsCompletion\": 0.0, \"failureMessage\": \"\", \"exceptionClass\": \"\", \"trace\": \"\", \"outcomeType\": 4}}, \"*\")"
      ],
      "text/plain": [
       "<IPython.core.display.Javascript object>"
      ]
     },
     "metadata": {},
     "output_type": "display_data"
    },
    {
     "data": {
      "text/markdown": [
       "<span style=\"color:#33cc99\">Solution:</span> \n",
       "```python\n",
       "val_mae = mean_absolute_error(val_predictions, val_y)\n",
       "```"
      ],
      "text/plain": [
       "Solution: \n",
       "```python\n",
       "val_mae = mean_absolute_error(val_predictions, val_y)\n",
       "```"
      ]
     },
     "metadata": {},
     "output_type": "display_data"
    }
   ],
   "source": [
    "# step_4.hint()\n",
    "step_4.solution()"
   ]
  },
  {
   "cell_type": "markdown",
   "id": "8ab1e35b",
   "metadata": {
    "papermill": {
     "duration": 0.023106,
     "end_time": "2021-08-10T02:06:43.161877",
     "exception": false,
     "start_time": "2021-08-10T02:06:43.138771",
     "status": "completed"
    },
    "tags": []
   },
   "source": [
    "Is that MAE good?  There isn't a general rule for what values are good that applies across applications. But you'll see how to use (and improve) this number in the next step.\n",
    "\n",
    "# Keep Going\n",
    "\n",
    "You are ready for **[Underfitting and Overfitting](https://www.kaggle.com/dansbecker/underfitting-and-overfitting).**\n"
   ]
  },
  {
   "cell_type": "markdown",
   "id": "fce79445",
   "metadata": {
    "papermill": {
     "duration": 0.022848,
     "end_time": "2021-08-10T02:06:43.208319",
     "exception": false,
     "start_time": "2021-08-10T02:06:43.185471",
     "status": "completed"
    },
    "tags": []
   },
   "source": [
    "---\n",
    "\n",
    "\n",
    "\n",
    "\n",
    "*Have questions or comments? Visit the [Learn Discussion forum](https://www.kaggle.com/learn-forum/161285) to chat with other Learners.*"
   ]
  }
 ],
 "metadata": {
  "kernelspec": {
   "display_name": "Python 3",
   "language": "python",
   "name": "python3"
  },
  "language_info": {
   "codemirror_mode": {
    "name": "ipython",
    "version": 3
   },
   "file_extension": ".py",
   "mimetype": "text/x-python",
   "name": "python",
   "nbconvert_exporter": "python",
   "pygments_lexer": "ipython3",
   "version": "3.7.10"
  },
  "papermill": {
   "default_parameters": {},
   "duration": 12.505189,
   "end_time": "2021-08-10T02:06:44.043058",
   "environment_variables": {},
   "exception": null,
   "input_path": "__notebook__.ipynb",
   "output_path": "__notebook__.ipynb",
   "parameters": {},
   "start_time": "2021-08-10T02:06:31.537869",
   "version": "2.3.3"
  }
 },
 "nbformat": 4,
 "nbformat_minor": 5
}
