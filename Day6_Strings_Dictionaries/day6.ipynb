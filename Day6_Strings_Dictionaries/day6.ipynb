{
 "cells": [
  {
   "cell_type": "markdown",
   "id": "1356fa80",
   "metadata": {
    "papermill": {
     "duration": 0.013258,
     "end_time": "2021-08-06T14:32:27.405007",
     "exception": false,
     "start_time": "2021-08-06T14:32:27.391749",
     "status": "completed"
    },
    "tags": []
   },
   "source": [
    "**This notebook is an exercise in the [Python](https://www.kaggle.com/learn/python) course.  You can reference the tutorial at [this link](https://www.kaggle.com/colinmorris/strings-and-dictionaries).**\n",
    "\n",
    "---\n"
   ]
  },
  {
   "cell_type": "markdown",
   "id": "86065ef6",
   "metadata": {
    "papermill": {
     "duration": 0.011734,
     "end_time": "2021-08-06T14:32:27.429431",
     "exception": false,
     "start_time": "2021-08-06T14:32:27.417697",
     "status": "completed"
    },
    "tags": []
   },
   "source": [
    "You are almost done with the course. Nice job!\n",
    "\n",
    "We have a couple more interesting problems for you before you go. \n",
    "\n",
    "As always, run the setup code below before working on the questions."
   ]
  },
  {
   "cell_type": "code",
   "execution_count": 1,
   "id": "cb4a5d15",
   "metadata": {
    "execution": {
     "iopub.execute_input": "2021-08-06T14:32:27.463011Z",
     "iopub.status.busy": "2021-08-06T14:32:27.462412Z",
     "iopub.status.idle": "2021-08-06T14:32:27.595186Z",
     "shell.execute_reply": "2021-08-06T14:32:27.595591Z",
     "shell.execute_reply.started": "2021-08-06T13:28:11.966201Z"
    },
    "papermill": {
     "duration": 0.153271,
     "end_time": "2021-08-06T14:32:27.595896",
     "exception": false,
     "start_time": "2021-08-06T14:32:27.442625",
     "status": "completed"
    },
    "tags": []
   },
   "outputs": [
    {
     "name": "stdout",
     "output_type": "stream",
     "text": [
      "Setup complete.\n"
     ]
    }
   ],
   "source": [
    "from learntools.core import binder; binder.bind(globals())\n",
    "from learntools.python.ex6 import *\n",
    "print('Setup complete.')"
   ]
  },
  {
   "cell_type": "markdown",
   "id": "6e0d73f1",
   "metadata": {
    "papermill": {
     "duration": 0.012053,
     "end_time": "2021-08-06T14:32:27.620760",
     "exception": false,
     "start_time": "2021-08-06T14:32:27.608707",
     "status": "completed"
    },
    "tags": []
   },
   "source": [
    "Let's start with a string lightning round to warm up. What are the lengths of the strings below?\n",
    "\n",
    "For each of the five strings below, predict what `len()` would return when passed that string. Use the variable `length` to record your answer, then run the cell to check whether you were right.  \n",
    "\n",
    "# 0a."
   ]
  },
  {
   "cell_type": "code",
   "execution_count": 2,
   "id": "d599d973",
   "metadata": {
    "execution": {
     "iopub.execute_input": "2021-08-06T14:32:27.652584Z",
     "iopub.status.busy": "2021-08-06T14:32:27.651921Z",
     "iopub.status.idle": "2021-08-06T14:32:27.657716Z",
     "shell.execute_reply": "2021-08-06T14:32:27.657255Z",
     "shell.execute_reply.started": "2021-08-06T13:28:20.898458Z"
    },
    "papermill": {
     "duration": 0.024728,
     "end_time": "2021-08-06T14:32:27.657857",
     "exception": false,
     "start_time": "2021-08-06T14:32:27.633129",
     "status": "completed"
    },
    "tags": []
   },
   "outputs": [
    {
     "data": {
      "application/javascript": [
       "parent.postMessage({\"jupyterEvent\": \"custom.exercise_interaction\", \"data\": {\"outcomeType\": 1, \"valueTowardsCompletion\": 0.3333333333333333, \"interactionType\": 1, \"questionType\": 1, \"questionId\": \"0.1_ZA\", \"learnToolsVersion\": \"0.3.4\", \"failureMessage\": \"\", \"exceptionClass\": \"\", \"trace\": \"\"}}, \"*\")"
      ],
      "text/plain": [
       "<IPython.core.display.Javascript object>"
      ]
     },
     "metadata": {},
     "output_type": "display_data"
    },
    {
     "data": {
      "text/markdown": [
       "<span style=\"color:#33cc33\">Correct:</span> \n",
       "\n",
       "The empty string has length zero. Note that the empty string is also the only string that Python considers as False when converting to boolean."
      ],
      "text/plain": [
       "Correct: \n",
       "\n",
       "The empty string has length zero. Note that the empty string is also the only string that Python considers as False when converting to boolean."
      ]
     },
     "metadata": {},
     "output_type": "display_data"
    }
   ],
   "source": [
    "a = \"\"\n",
    "length = len(a)\n",
    "q0.a.check()"
   ]
  },
  {
   "cell_type": "markdown",
   "id": "8529976e",
   "metadata": {
    "papermill": {
     "duration": 0.015566,
     "end_time": "2021-08-06T14:32:27.687648",
     "exception": false,
     "start_time": "2021-08-06T14:32:27.672082",
     "status": "completed"
    },
    "tags": []
   },
   "source": [
    "# 0b."
   ]
  },
  {
   "cell_type": "code",
   "execution_count": 3,
   "id": "623417d2",
   "metadata": {
    "execution": {
     "iopub.execute_input": "2021-08-06T14:32:27.719653Z",
     "iopub.status.busy": "2021-08-06T14:32:27.719090Z",
     "iopub.status.idle": "2021-08-06T14:32:27.725514Z",
     "shell.execute_reply": "2021-08-06T14:32:27.724777Z",
     "shell.execute_reply.started": "2021-08-06T13:28:49.352421Z"
    },
    "papermill": {
     "duration": 0.024735,
     "end_time": "2021-08-06T14:32:27.725650",
     "exception": false,
     "start_time": "2021-08-06T14:32:27.700915",
     "status": "completed"
    },
    "tags": []
   },
   "outputs": [
    {
     "name": "stdout",
     "output_type": "stream",
     "text": [
      "7\n"
     ]
    },
    {
     "data": {
      "application/javascript": [
       "parent.postMessage({\"jupyterEvent\": \"custom.exercise_interaction\", \"data\": {\"outcomeType\": 1, \"valueTowardsCompletion\": 0.3333333333333333, \"interactionType\": 1, \"questionType\": 1, \"questionId\": \"0.2_ZB\", \"learnToolsVersion\": \"0.3.4\", \"failureMessage\": \"\", \"exceptionClass\": \"\", \"trace\": \"\"}}, \"*\")"
      ],
      "text/plain": [
       "<IPython.core.display.Javascript object>"
      ]
     },
     "metadata": {},
     "output_type": "display_data"
    },
    {
     "data": {
      "text/markdown": [
       "<span style=\"color:#33cc33\">Correct:</span> \n",
       "\n",
       "Keep in mind Python includes spaces (and punctuation) when counting string length."
      ],
      "text/plain": [
       "Correct: \n",
       "\n",
       "Keep in mind Python includes spaces (and punctuation) when counting string length."
      ]
     },
     "metadata": {},
     "output_type": "display_data"
    }
   ],
   "source": [
    "b = \"it's ok\"\n",
    "length = len(b)\n",
    "print(length)\n",
    "q0.b.check()"
   ]
  },
  {
   "cell_type": "markdown",
   "id": "00e3788d",
   "metadata": {
    "papermill": {
     "duration": 0.014089,
     "end_time": "2021-08-06T14:32:27.754155",
     "exception": false,
     "start_time": "2021-08-06T14:32:27.740066",
     "status": "completed"
    },
    "tags": []
   },
   "source": [
    "# 0c."
   ]
  },
  {
   "cell_type": "code",
   "execution_count": 4,
   "id": "30e1ac9e",
   "metadata": {
    "execution": {
     "iopub.execute_input": "2021-08-06T14:32:27.789339Z",
     "iopub.status.busy": "2021-08-06T14:32:27.788683Z",
     "iopub.status.idle": "2021-08-06T14:32:27.795107Z",
     "shell.execute_reply": "2021-08-06T14:32:27.794612Z",
     "shell.execute_reply.started": "2021-08-06T13:29:01.986345Z"
    },
    "papermill": {
     "duration": 0.025944,
     "end_time": "2021-08-06T14:32:27.795240",
     "exception": false,
     "start_time": "2021-08-06T14:32:27.769296",
     "status": "completed"
    },
    "tags": []
   },
   "outputs": [
    {
     "name": "stdout",
     "output_type": "stream",
     "text": [
      "7\n"
     ]
    },
    {
     "data": {
      "application/javascript": [
       "parent.postMessage({\"jupyterEvent\": \"custom.exercise_interaction\", \"data\": {\"outcomeType\": 1, \"valueTowardsCompletion\": 0.3333333333333333, \"interactionType\": 1, \"questionType\": 1, \"questionId\": \"0.3_ZC\", \"learnToolsVersion\": \"0.3.4\", \"failureMessage\": \"\", \"exceptionClass\": \"\", \"trace\": \"\"}}, \"*\")"
      ],
      "text/plain": [
       "<IPython.core.display.Javascript object>"
      ]
     },
     "metadata": {},
     "output_type": "display_data"
    },
    {
     "data": {
      "text/markdown": [
       "<span style=\"color:#33cc33\">Correct:</span> \n",
       "\n",
       "Even though we use different syntax to create it, the string `c` is identical to `b`. In particular, note that the backslash is not part of the string, so it doesn't contribute to its length."
      ],
      "text/plain": [
       "Correct: \n",
       "\n",
       "Even though we use different syntax to create it, the string `c` is identical to `b`. In particular, note that the backslash is not part of the string, so it doesn't contribute to its length."
      ]
     },
     "metadata": {},
     "output_type": "display_data"
    }
   ],
   "source": [
    "c = 'it\\'s ok'\n",
    "length = len(c)\n",
    "print(length)\n",
    "q0.c.check()"
   ]
  },
  {
   "cell_type": "markdown",
   "id": "0ec022d7",
   "metadata": {
    "papermill": {
     "duration": 0.014792,
     "end_time": "2021-08-06T14:32:27.825238",
     "exception": false,
     "start_time": "2021-08-06T14:32:27.810446",
     "status": "completed"
    },
    "tags": []
   },
   "source": [
    "# 0d."
   ]
  },
  {
   "cell_type": "code",
   "execution_count": 5,
   "id": "99ac19e3",
   "metadata": {
    "execution": {
     "iopub.execute_input": "2021-08-06T14:32:27.861285Z",
     "iopub.status.busy": "2021-08-06T14:32:27.860488Z",
     "iopub.status.idle": "2021-08-06T14:32:27.867062Z",
     "shell.execute_reply": "2021-08-06T14:32:27.867440Z",
     "shell.execute_reply.started": "2021-08-06T13:29:21.817931Z"
    },
    "papermill": {
     "duration": 0.027144,
     "end_time": "2021-08-06T14:32:27.867597",
     "exception": false,
     "start_time": "2021-08-06T14:32:27.840453",
     "status": "completed"
    },
    "tags": []
   },
   "outputs": [
    {
     "name": "stdout",
     "output_type": "stream",
     "text": [
      "3\n"
     ]
    },
    {
     "data": {
      "application/javascript": [
       "parent.postMessage({\"jupyterEvent\": \"custom.exercise_interaction\", \"data\": {\"outcomeType\": 1, \"valueTowardsCompletion\": 0.3333333333333333, \"interactionType\": 1, \"questionType\": 1, \"questionId\": \"0.4_ZD\", \"learnToolsVersion\": \"0.3.4\", \"failureMessage\": \"\", \"exceptionClass\": \"\", \"trace\": \"\"}}, \"*\")"
      ],
      "text/plain": [
       "<IPython.core.display.Javascript object>"
      ]
     },
     "metadata": {},
     "output_type": "display_data"
    },
    {
     "data": {
      "text/markdown": [
       "<span style=\"color:#33cc33\">Correct:</span> \n",
       "\n",
       "The fact that this string was created using triple-quote syntax doesn't make any difference in terms of its content or length. This string is exactly the same as `'hey'`."
      ],
      "text/plain": [
       "Correct: \n",
       "\n",
       "The fact that this string was created using triple-quote syntax doesn't make any difference in terms of its content or length. This string is exactly the same as `'hey'`."
      ]
     },
     "metadata": {},
     "output_type": "display_data"
    }
   ],
   "source": [
    "d = \"\"\"hey\"\"\"\n",
    "length = len(d)\n",
    "print(length)\n",
    "q0.d.check()"
   ]
  },
  {
   "cell_type": "markdown",
   "id": "1a3b8997",
   "metadata": {
    "papermill": {
     "duration": 0.015664,
     "end_time": "2021-08-06T14:32:27.899295",
     "exception": false,
     "start_time": "2021-08-06T14:32:27.883631",
     "status": "completed"
    },
    "tags": []
   },
   "source": [
    "# 0e."
   ]
  },
  {
   "cell_type": "code",
   "execution_count": 6,
   "id": "9c8aae8a",
   "metadata": {
    "execution": {
     "iopub.execute_input": "2021-08-06T14:32:27.937305Z",
     "iopub.status.busy": "2021-08-06T14:32:27.936458Z",
     "iopub.status.idle": "2021-08-06T14:32:27.943849Z",
     "shell.execute_reply": "2021-08-06T14:32:27.944357Z",
     "shell.execute_reply.started": "2021-08-06T13:29:33.711271Z"
    },
    "papermill": {
     "duration": 0.029373,
     "end_time": "2021-08-06T14:32:27.944531",
     "exception": false,
     "start_time": "2021-08-06T14:32:27.915158",
     "status": "completed"
    },
    "tags": []
   },
   "outputs": [
    {
     "name": "stdout",
     "output_type": "stream",
     "text": [
      "1\n"
     ]
    },
    {
     "data": {
      "application/javascript": [
       "parent.postMessage({\"jupyterEvent\": \"custom.exercise_interaction\", \"data\": {\"outcomeType\": 1, \"valueTowardsCompletion\": 0.3333333333333333, \"interactionType\": 1, \"questionType\": 1, \"questionId\": \"0.5_ZE\", \"learnToolsVersion\": \"0.3.4\", \"failureMessage\": \"\", \"exceptionClass\": \"\", \"trace\": \"\"}}, \"*\")"
      ],
      "text/plain": [
       "<IPython.core.display.Javascript object>"
      ]
     },
     "metadata": {},
     "output_type": "display_data"
    },
    {
     "data": {
      "text/markdown": [
       "<span style=\"color:#33cc33\">Correct:</span> \n",
       "\n",
       "The newline character is just a single character! (Even though we represent it to Python using a combination of two characters.)"
      ],
      "text/plain": [
       "Correct: \n",
       "\n",
       "The newline character is just a single character! (Even though we represent it to Python using a combination of two characters.)"
      ]
     },
     "metadata": {},
     "output_type": "display_data"
    }
   ],
   "source": [
    "e = '\\n'\n",
    "length = len(e)\n",
    "print(length)\n",
    "q0.e.check()"
   ]
  },
  {
   "cell_type": "markdown",
   "id": "65405e34",
   "metadata": {
    "papermill": {
     "duration": 0.016908,
     "end_time": "2021-08-06T14:32:27.979261",
     "exception": false,
     "start_time": "2021-08-06T14:32:27.962353",
     "status": "completed"
    },
    "tags": []
   },
   "source": [
    "# 1.\n",
    "\n",
    "There is a saying that \"Data scientists spend 80% of their time cleaning data, and 20% of their time complaining about cleaning data.\" Let's see if you can write a function to help clean US zip code data. Given a string, it should return whether or not that string represents a valid zip code. For our purposes, a valid zip code is any string consisting of exactly 5 digits.\n",
    "\n",
    "HINT: `str` has a method that will be useful here. Use `help(str)` to review a list of string methods."
   ]
  },
  {
   "cell_type": "code",
   "execution_count": 7,
   "id": "3d17c313",
   "metadata": {
    "execution": {
     "iopub.execute_input": "2021-08-06T14:32:28.019849Z",
     "iopub.status.busy": "2021-08-06T14:32:28.019040Z",
     "iopub.status.idle": "2021-08-06T14:32:28.024715Z",
     "shell.execute_reply": "2021-08-06T14:32:28.024266Z",
     "shell.execute_reply.started": "2021-08-06T13:35:31.234467Z"
    },
    "papermill": {
     "duration": 0.028084,
     "end_time": "2021-08-06T14:32:28.024859",
     "exception": false,
     "start_time": "2021-08-06T14:32:27.996775",
     "status": "completed"
    },
    "tags": []
   },
   "outputs": [
    {
     "data": {
      "application/javascript": [
       "parent.postMessage({\"jupyterEvent\": \"custom.exercise_interaction\", \"data\": {\"outcomeType\": 1, \"valueTowardsCompletion\": 0.3333333333333333, \"interactionType\": 1, \"questionType\": 2, \"questionId\": \"1_ZipValidator\", \"learnToolsVersion\": \"0.3.4\", \"failureMessage\": \"\", \"exceptionClass\": \"\", \"trace\": \"\"}}, \"*\")"
      ],
      "text/plain": [
       "<IPython.core.display.Javascript object>"
      ]
     },
     "metadata": {},
     "output_type": "display_data"
    },
    {
     "data": {
      "text/markdown": [
       "<span style=\"color:#33cc33\">Correct</span>"
      ],
      "text/plain": [
       "Correct"
      ]
     },
     "metadata": {},
     "output_type": "display_data"
    }
   ],
   "source": [
    "def is_valid_zip(zip_code):\n",
    "    \"\"\"Returns whether the input string is a valid (5 digit) zip code\n",
    "    \"\"\"\n",
    "    return len(zip_code) == 5 and zip_code.isdigit()\n",
    "\n",
    "# Check your answer\n",
    "q1.check()"
   ]
  },
  {
   "cell_type": "code",
   "execution_count": 8,
   "id": "da87f735",
   "metadata": {
    "execution": {
     "iopub.execute_input": "2021-08-06T14:32:28.065200Z",
     "iopub.status.busy": "2021-08-06T14:32:28.064554Z",
     "iopub.status.idle": "2021-08-06T14:32:28.067748Z",
     "shell.execute_reply": "2021-08-06T14:32:28.067254Z",
     "shell.execute_reply.started": "2021-08-06T13:35:34.960287Z"
    },
    "papermill": {
     "duration": 0.024938,
     "end_time": "2021-08-06T14:32:28.067885",
     "exception": false,
     "start_time": "2021-08-06T14:32:28.042947",
     "status": "completed"
    },
    "tags": []
   },
   "outputs": [],
   "source": [
    "#q1.hint()\n",
    "#q1.solution()"
   ]
  },
  {
   "cell_type": "markdown",
   "id": "0879e37a",
   "metadata": {
    "papermill": {
     "duration": 0.018807,
     "end_time": "2021-08-06T14:32:28.105598",
     "exception": false,
     "start_time": "2021-08-06T14:32:28.086791",
     "status": "completed"
    },
    "tags": []
   },
   "source": [
    "# 2.\n",
    "\n",
    "A researcher has gathered thousands of news articles. But she wants to focus her attention on articles including a specific word. Complete the function below to help her filter her list of articles.\n",
    "\n",
    "Your function should meet the following criteria:\n",
    "\n",
    "- Do not include documents where the keyword string shows up only as a part of a larger word. For example, if she were looking for the keyword “closed”, you would not include the string “enclosed.” \n",
    "- She does not want you to distinguish upper case from lower case letters. So the phrase “Closed the case.” would be included when the keyword is “closed”\n",
    "- Do not let periods or commas affect what is matched. “It is closed.” would be included when the keyword is “closed”. But you can assume there are no other types of punctuation."
   ]
  },
  {
   "cell_type": "code",
   "execution_count": 9,
   "id": "c215adb3",
   "metadata": {
    "execution": {
     "iopub.execute_input": "2021-08-06T14:32:28.149321Z",
     "iopub.status.busy": "2021-08-06T14:32:28.148520Z",
     "iopub.status.idle": "2021-08-06T14:32:28.154103Z",
     "shell.execute_reply": "2021-08-06T14:32:28.153598Z",
     "shell.execute_reply.started": "2021-08-06T14:18:28.574672Z"
    },
    "papermill": {
     "duration": 0.029524,
     "end_time": "2021-08-06T14:32:28.154235",
     "exception": false,
     "start_time": "2021-08-06T14:32:28.124711",
     "status": "completed"
    },
    "tags": []
   },
   "outputs": [
    {
     "data": {
      "application/javascript": [
       "parent.postMessage({\"jupyterEvent\": \"custom.exercise_interaction\", \"data\": {\"outcomeType\": 1, \"valueTowardsCompletion\": 0.3333333333333333, \"interactionType\": 1, \"questionType\": 2, \"questionId\": \"2_WordSearch\", \"learnToolsVersion\": \"0.3.4\", \"failureMessage\": \"\", \"exceptionClass\": \"\", \"trace\": \"\"}}, \"*\")"
      ],
      "text/plain": [
       "<IPython.core.display.Javascript object>"
      ]
     },
     "metadata": {},
     "output_type": "display_data"
    },
    {
     "data": {
      "text/markdown": [
       "<span style=\"color:#33cc33\">Correct</span>"
      ],
      "text/plain": [
       "Correct"
      ]
     },
     "metadata": {},
     "output_type": "display_data"
    }
   ],
   "source": [
    "def word_search(doc_list, keyword):\n",
    "    \"\"\"\n",
    "    Takes a list of documents (each document is a string) and a keyword. \n",
    "    Returns list of the index values into the original list for all documents \n",
    "    containing the keyword.\n",
    "\n",
    "    Example:\n",
    "    doc_list = [\"The Learn Python Challenge Casino.\", \"They bought a car\", \"Casinoville\"]\n",
    "    >>> word_search(doc_list, 'casino')\n",
    "    >>> [0]\n",
    "    \"\"\"\n",
    "    search = []\n",
    "    for i, doc in enumerate(doc_list):\n",
    "        words_with_punctuation = doc.split()\n",
    "        words = [w.strip(\",.\").lower() for w in words_with_punctuation]\n",
    "        if keyword in words:\n",
    "            search.append(i)\n",
    "    return search\n",
    "\n",
    "# Check your answer\n",
    "q2.check()"
   ]
  },
  {
   "cell_type": "code",
   "execution_count": 10,
   "id": "311412ff",
   "metadata": {
    "execution": {
     "iopub.execute_input": "2021-08-06T14:32:28.197874Z",
     "iopub.status.busy": "2021-08-06T14:32:28.197254Z",
     "iopub.status.idle": "2021-08-06T14:32:28.201681Z",
     "shell.execute_reply": "2021-08-06T14:32:28.202215Z",
     "shell.execute_reply.started": "2021-08-06T13:57:11.245519Z"
    },
    "papermill": {
     "duration": 0.028562,
     "end_time": "2021-08-06T14:32:28.202376",
     "exception": false,
     "start_time": "2021-08-06T14:32:28.173814",
     "status": "completed"
    },
    "tags": []
   },
   "outputs": [
    {
     "data": {
      "application/javascript": [
       "parent.postMessage({\"jupyterEvent\": \"custom.exercise_interaction\", \"data\": {\"interactionType\": 3, \"questionType\": 2, \"questionId\": \"2_WordSearch\", \"learnToolsVersion\": \"0.3.4\", \"valueTowardsCompletion\": 0.0, \"failureMessage\": \"\", \"exceptionClass\": \"\", \"trace\": \"\", \"outcomeType\": 4}}, \"*\")"
      ],
      "text/plain": [
       "<IPython.core.display.Javascript object>"
      ]
     },
     "metadata": {},
     "output_type": "display_data"
    },
    {
     "data": {
      "text/markdown": [
       "<span style=\"color:#33cc99\">Solution:</span> \n",
       "```python\n",
       "def word_search(documents, keyword):\n",
       "    # list to hold the indices of matching documents\n",
       "    indices = [] \n",
       "    # Iterate through the indices (i) and elements (doc) of documents\n",
       "    for i, doc in enumerate(documents):\n",
       "        # Split the string doc into a list of words (according to whitespace)\n",
       "        tokens = doc.split()\n",
       "        # Make a transformed list where we 'normalize' each word to facilitate matching.\n",
       "        # Periods and commas are removed from the end of each word, and it's set to all lowercase.\n",
       "        normalized = [token.rstrip('.,').lower() for token in tokens]\n",
       "        # Is there a match? If so, update the list of matching indices.\n",
       "        if keyword.lower() in normalized:\n",
       "            indices.append(i)\n",
       "    return indices\n",
       "```"
      ],
      "text/plain": [
       "Solution: \n",
       "```python\n",
       "def word_search(documents, keyword):\n",
       "    # list to hold the indices of matching documents\n",
       "    indices = [] \n",
       "    # Iterate through the indices (i) and elements (doc) of documents\n",
       "    for i, doc in enumerate(documents):\n",
       "        # Split the string doc into a list of words (according to whitespace)\n",
       "        tokens = doc.split()\n",
       "        # Make a transformed list where we 'normalize' each word to facilitate matching.\n",
       "        # Periods and commas are removed from the end of each word, and it's set to all lowercase.\n",
       "        normalized = [token.rstrip('.,').lower() for token in tokens]\n",
       "        # Is there a match? If so, update the list of matching indices.\n",
       "        if keyword.lower() in normalized:\n",
       "            indices.append(i)\n",
       "    return indices\n",
       "```"
      ]
     },
     "metadata": {},
     "output_type": "display_data"
    }
   ],
   "source": [
    "#q2.hint()\n",
    "q2.solution()"
   ]
  },
  {
   "cell_type": "markdown",
   "id": "a9309c55",
   "metadata": {
    "papermill": {
     "duration": 0.019027,
     "end_time": "2021-08-06T14:32:28.240810",
     "exception": false,
     "start_time": "2021-08-06T14:32:28.221783",
     "status": "completed"
    },
    "tags": []
   },
   "source": [
    "# 3.\n",
    "\n",
    "Now the researcher wants to supply multiple keywords to search for. Complete the function below to help her.\n",
    "\n",
    "(You're encouraged to use the `word_search` function you just wrote when implementing this function. Reusing code in this way makes your programs more robust and readable - and it saves typing!)"
   ]
  },
  {
   "cell_type": "code",
   "execution_count": 11,
   "id": "512ed34b",
   "metadata": {
    "execution": {
     "iopub.execute_input": "2021-08-06T14:32:28.282079Z",
     "iopub.status.busy": "2021-08-06T14:32:28.281521Z",
     "iopub.status.idle": "2021-08-06T14:32:28.288221Z",
     "shell.execute_reply": "2021-08-06T14:32:28.288735Z",
     "shell.execute_reply.started": "2021-08-06T14:32:07.749037Z"
    },
    "papermill": {
     "duration": 0.028667,
     "end_time": "2021-08-06T14:32:28.288898",
     "exception": false,
     "start_time": "2021-08-06T14:32:28.260231",
     "status": "completed"
    },
    "tags": []
   },
   "outputs": [
    {
     "data": {
      "application/javascript": [
       "parent.postMessage({\"jupyterEvent\": \"custom.exercise_interaction\", \"data\": {\"outcomeType\": 1, \"valueTowardsCompletion\": 0.3333333333333333, \"interactionType\": 1, \"questionType\": 2, \"questionId\": \"3_MultiWordSearch\", \"learnToolsVersion\": \"0.3.4\", \"failureMessage\": \"\", \"exceptionClass\": \"\", \"trace\": \"\"}}, \"*\")"
      ],
      "text/plain": [
       "<IPython.core.display.Javascript object>"
      ]
     },
     "metadata": {},
     "output_type": "display_data"
    },
    {
     "data": {
      "text/markdown": [
       "<span style=\"color:#33cc33\">Correct</span>"
      ],
      "text/plain": [
       "Correct"
      ]
     },
     "metadata": {},
     "output_type": "display_data"
    }
   ],
   "source": [
    "def multi_word_search(doc_list, keywords):\n",
    "    \"\"\"\n",
    "    Takes list of documents (each document is a string) and a list of keywords.  \n",
    "    Returns a dictionary where each key is a keyword, and the value is a list of indices\n",
    "    (from doc_list) of the documents containing that keyword\n",
    "\n",
    "    >>> doc_list = [\"The Learn Python Challenge Casino.\", \"They bought a car and a casino\", \"Casinoville\"]\n",
    "    >>> keywords = ['casino', 'they']\n",
    "    >>> multi_word_search(doc_list, keywords)\n",
    "    {'casino': [0, 1], 'they': [1]}\n",
    "    \"\"\"\n",
    "    word_dict = {}\n",
    "    for key in keywords:\n",
    "        word_dict[key] = word_search(doc_list, key)\n",
    "    return word_dict\n",
    "\n",
    "# Check your answer\n",
    "q3.check()"
   ]
  },
  {
   "cell_type": "code",
   "execution_count": 12,
   "id": "d822a016",
   "metadata": {
    "execution": {
     "iopub.execute_input": "2021-08-06T14:32:28.332123Z",
     "iopub.status.busy": "2021-08-06T14:32:28.331505Z",
     "iopub.status.idle": "2021-08-06T14:32:28.338575Z",
     "shell.execute_reply": "2021-08-06T14:32:28.338080Z",
     "shell.execute_reply.started": "2021-08-06T14:31:46.568594Z"
    },
    "papermill": {
     "duration": 0.029623,
     "end_time": "2021-08-06T14:32:28.338735",
     "exception": false,
     "start_time": "2021-08-06T14:32:28.309112",
     "status": "completed"
    },
    "tags": []
   },
   "outputs": [
    {
     "data": {
      "application/javascript": [
       "parent.postMessage({\"jupyterEvent\": \"custom.exercise_interaction\", \"data\": {\"interactionType\": 3, \"questionType\": 2, \"questionId\": \"3_MultiWordSearch\", \"learnToolsVersion\": \"0.3.4\", \"valueTowardsCompletion\": 0.0, \"failureMessage\": \"\", \"exceptionClass\": \"\", \"trace\": \"\", \"outcomeType\": 4}}, \"*\")"
      ],
      "text/plain": [
       "<IPython.core.display.Javascript object>"
      ]
     },
     "metadata": {},
     "output_type": "display_data"
    },
    {
     "data": {
      "text/markdown": [
       "<span style=\"color:#33cc99\">Solution:</span> \n",
       "```python\n",
       "def multi_word_search(documents, keywords):\n",
       "    keyword_to_indices = {}\n",
       "    for keyword in keywords:\n",
       "        keyword_to_indices[keyword] = word_search(documents, keyword)\n",
       "    return keyword_to_indices\n",
       "```"
      ],
      "text/plain": [
       "Solution: \n",
       "```python\n",
       "def multi_word_search(documents, keywords):\n",
       "    keyword_to_indices = {}\n",
       "    for keyword in keywords:\n",
       "        keyword_to_indices[keyword] = word_search(documents, keyword)\n",
       "    return keyword_to_indices\n",
       "```"
      ]
     },
     "metadata": {},
     "output_type": "display_data"
    }
   ],
   "source": [
    "q3.solution()"
   ]
  },
  {
   "cell_type": "markdown",
   "id": "3f993649",
   "metadata": {
    "papermill": {
     "duration": 0.020978,
     "end_time": "2021-08-06T14:32:28.380994",
     "exception": false,
     "start_time": "2021-08-06T14:32:28.360016",
     "status": "completed"
    },
    "tags": []
   },
   "source": [
    "# Keep Going\n",
    "\n",
    "You've learned a lot. But even the best programmers rely heavily on \"libraries\" of code from other programmers. You'll learn about that in **[the last lesson](https://www.kaggle.com/colinmorris/working-with-external-libraries)**.\n"
   ]
  },
  {
   "cell_type": "markdown",
   "id": "d1c6d49e",
   "metadata": {
    "papermill": {
     "duration": 0.020742,
     "end_time": "2021-08-06T14:32:28.423138",
     "exception": false,
     "start_time": "2021-08-06T14:32:28.402396",
     "status": "completed"
    },
    "tags": []
   },
   "source": [
    "---\n",
    "\n",
    "\n",
    "\n",
    "\n",
    "*Have questions or comments? Visit the [Learn Discussion forum](https://www.kaggle.com/learn-forum/161283) to chat with other Learners.*"
   ]
  }
 ],
 "metadata": {
  "kernelspec": {
   "display_name": "Python 3",
   "language": "python",
   "name": "python3"
  },
  "language_info": {
   "codemirror_mode": {
    "name": "ipython",
    "version": 3
   },
   "file_extension": ".py",
   "mimetype": "text/x-python",
   "name": "python",
   "nbconvert_exporter": "python",
   "pygments_lexer": "ipython3",
   "version": "3.7.10"
  },
  "papermill": {
   "default_parameters": {},
   "duration": 8.590984,
   "end_time": "2021-08-06T14:32:29.154136",
   "environment_variables": {},
   "exception": null,
   "input_path": "__notebook__.ipynb",
   "output_path": "__notebook__.ipynb",
   "parameters": {},
   "start_time": "2021-08-06T14:32:20.563152",
   "version": "2.3.3"
  }
 },
 "nbformat": 4,
 "nbformat_minor": 5
}
