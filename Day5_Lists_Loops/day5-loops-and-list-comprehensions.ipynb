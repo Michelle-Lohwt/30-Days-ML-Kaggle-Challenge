{
 "cells": [
  {
   "cell_type": "markdown",
   "id": "74aaf88b",
   "metadata": {
    "papermill": {
     "duration": 0.017167,
     "end_time": "2021-08-06T09:13:11.699941",
     "exception": false,
     "start_time": "2021-08-06T09:13:11.682774",
     "status": "completed"
    },
    "tags": []
   },
   "source": [
    "**This notebook is an exercise in the [Python](https://www.kaggle.com/learn/python) course.  You can reference the tutorial at [this link](https://www.kaggle.com/colinmorris/loops-and-list-comprehensions).**\n",
    "\n",
    "---\n"
   ]
  },
  {
   "cell_type": "markdown",
   "id": "56984f91",
   "metadata": {
    "papermill": {
     "duration": 0.015807,
     "end_time": "2021-08-06T09:13:11.732791",
     "exception": false,
     "start_time": "2021-08-06T09:13:11.716984",
     "status": "completed"
    },
    "tags": []
   },
   "source": [
    "With all you've learned, you can start writing much more interesting programs. See if you can solve the problems below.\n",
    "\n",
    "As always, run the setup code below before working on the questions."
   ]
  },
  {
   "cell_type": "code",
   "execution_count": 1,
   "id": "c670aa9c",
   "metadata": {
    "execution": {
     "iopub.execute_input": "2021-08-06T09:13:11.770598Z",
     "iopub.status.busy": "2021-08-06T09:13:11.769414Z",
     "iopub.status.idle": "2021-08-06T09:13:11.839982Z",
     "shell.execute_reply": "2021-08-06T09:13:11.839262Z",
     "shell.execute_reply.started": "2021-08-06T08:40:17.857038Z"
    },
    "papermill": {
     "duration": 0.090125,
     "end_time": "2021-08-06T09:13:11.840188",
     "exception": false,
     "start_time": "2021-08-06T09:13:11.750063",
     "status": "completed"
    },
    "tags": []
   },
   "outputs": [
    {
     "name": "stdout",
     "output_type": "stream",
     "text": [
      "Setup complete.\n"
     ]
    }
   ],
   "source": [
    "from learntools.core import binder; binder.bind(globals())\n",
    "from learntools.python.ex5 import *\n",
    "print('Setup complete.')"
   ]
  },
  {
   "cell_type": "markdown",
   "id": "5d1f45c6",
   "metadata": {
    "papermill": {
     "duration": 0.016326,
     "end_time": "2021-08-06T09:13:11.873732",
     "exception": false,
     "start_time": "2021-08-06T09:13:11.857406",
     "status": "completed"
    },
    "tags": []
   },
   "source": [
    "# 1.\n",
    "\n",
    "Have you ever felt debugging involved a bit of luck? The following program has a bug. Try to identify the bug and fix it."
   ]
  },
  {
   "cell_type": "code",
   "execution_count": 2,
   "id": "ac402a89",
   "metadata": {
    "execution": {
     "iopub.execute_input": "2021-08-06T09:13:12.011179Z",
     "iopub.status.busy": "2021-08-06T09:13:12.010265Z",
     "iopub.status.idle": "2021-08-06T09:13:12.014752Z",
     "shell.execute_reply": "2021-08-06T09:13:12.014027Z",
     "shell.execute_reply.started": "2021-08-06T08:40:21.904099Z"
    },
    "papermill": {
     "duration": 0.123015,
     "end_time": "2021-08-06T09:13:12.014904",
     "exception": false,
     "start_time": "2021-08-06T09:13:11.891889",
     "status": "completed"
    },
    "tags": []
   },
   "outputs": [],
   "source": [
    "def has_lucky_number(nums):\n",
    "    \"\"\"Return whether the given list of numbers is lucky. A lucky list contains\n",
    "    at least one number divisible by 7.\n",
    "    \"\"\"\n",
    "    for num in nums:\n",
    "        if num % 7 == 0:\n",
    "            return True\n",
    "        else:\n",
    "            return False"
   ]
  },
  {
   "cell_type": "markdown",
   "id": "6dad6049",
   "metadata": {
    "papermill": {
     "duration": 0.017727,
     "end_time": "2021-08-06T09:13:12.050011",
     "exception": false,
     "start_time": "2021-08-06T09:13:12.032284",
     "status": "completed"
    },
    "tags": []
   },
   "source": [
    "Try to identify the bug and fix it in the cell below:"
   ]
  },
  {
   "cell_type": "code",
   "execution_count": 3,
   "id": "493c2bf3",
   "metadata": {
    "execution": {
     "iopub.execute_input": "2021-08-06T09:13:12.094073Z",
     "iopub.status.busy": "2021-08-06T09:13:12.093400Z",
     "iopub.status.idle": "2021-08-06T09:13:12.098788Z",
     "shell.execute_reply": "2021-08-06T09:13:12.099316Z",
     "shell.execute_reply.started": "2021-08-06T08:40:33.571163Z"
    },
    "papermill": {
     "duration": 0.031389,
     "end_time": "2021-08-06T09:13:12.099508",
     "exception": false,
     "start_time": "2021-08-06T09:13:12.068119",
     "status": "completed"
    },
    "tags": []
   },
   "outputs": [
    {
     "data": {
      "application/javascript": [
       "parent.postMessage({\"jupyterEvent\": \"custom.exercise_interaction\", \"data\": {\"outcomeType\": 1, \"valueTowardsCompletion\": 0.25, \"interactionType\": 1, \"questionType\": 2, \"questionId\": \"1_EarlyExitDebugging\", \"learnToolsVersion\": \"0.3.4\", \"failureMessage\": \"\", \"exceptionClass\": \"\", \"trace\": \"\"}}, \"*\")"
      ],
      "text/plain": [
       "<IPython.core.display.Javascript object>"
      ]
     },
     "metadata": {},
     "output_type": "display_data"
    },
    {
     "data": {
      "text/markdown": [
       "<span style=\"color:#33cc33\">Correct:</span> \n",
       "\n",
       "Remember that `return` causes a function to exit immediately. So our original implementation always ran for just one iteration. We can only return `False` if we've looked at every element of the list (and confirmed that none of them are lucky). Though we can return early if the answer is `True`:\n",
       "\n",
       "```python\n",
       "def has_lucky_number(nums):\n",
       "    for num in nums:\n",
       "        if num % 7 == 0:\n",
       "            return True\n",
       "    # We've exhausted the list without finding a lucky number\n",
       "    return False\n",
       "```\n",
       "\n",
       "Here's a one-line version using a list comprehension with Python's `any` function (you can read about what it does by calling `help(any)`):\n",
       "\n",
       "```python\n",
       "def has_lucky_number(nums):\n",
       "    return any([num % 7 == 0 for num in nums])\n",
       "```\n"
      ],
      "text/plain": [
       "Correct: \n",
       "\n",
       "Remember that `return` causes a function to exit immediately. So our original implementation always ran for just one iteration. We can only return `False` if we've looked at every element of the list (and confirmed that none of them are lucky). Though we can return early if the answer is `True`:\n",
       "\n",
       "```python\n",
       "def has_lucky_number(nums):\n",
       "    for num in nums:\n",
       "        if num % 7 == 0:\n",
       "            return True\n",
       "    # We've exhausted the list without finding a lucky number\n",
       "    return False\n",
       "```\n",
       "\n",
       "Here's a one-line version using a list comprehension with Python's `any` function (you can read about what it does by calling `help(any)`):\n",
       "\n",
       "```python\n",
       "def has_lucky_number(nums):\n",
       "    return any([num % 7 == 0 for num in nums])\n",
       "```"
      ]
     },
     "metadata": {},
     "output_type": "display_data"
    }
   ],
   "source": [
    "def has_lucky_number(nums):\n",
    "    \"\"\"Return whether the given list of numbers is lucky. A lucky list contains\n",
    "    at least one number divisible by 7.\n",
    "    \"\"\"\n",
    "    for num in nums:\n",
    "        if num % 7 == 0:\n",
    "            return True\n",
    "    return False\n",
    "\n",
    "# Check your answer\n",
    "q1.check()"
   ]
  },
  {
   "cell_type": "code",
   "execution_count": 4,
   "id": "084cc38a",
   "metadata": {
    "execution": {
     "iopub.execute_input": "2021-08-06T09:13:12.141525Z",
     "iopub.status.busy": "2021-08-06T09:13:12.140829Z",
     "iopub.status.idle": "2021-08-06T09:13:12.142959Z",
     "shell.execute_reply": "2021-08-06T09:13:12.143450Z",
     "shell.execute_reply.started": "2021-08-06T08:35:53.30278Z"
    },
    "papermill": {
     "duration": 0.024844,
     "end_time": "2021-08-06T09:13:12.143630",
     "exception": false,
     "start_time": "2021-08-06T09:13:12.118786",
     "status": "completed"
    },
    "tags": []
   },
   "outputs": [],
   "source": [
    "#q1.hint()\n",
    "#q1.solution()"
   ]
  },
  {
   "cell_type": "markdown",
   "id": "049976d1",
   "metadata": {
    "papermill": {
     "duration": 0.01722,
     "end_time": "2021-08-06T09:13:12.178685",
     "exception": false,
     "start_time": "2021-08-06T09:13:12.161465",
     "status": "completed"
    },
    "tags": []
   },
   "source": [
    "# 2.\n",
    "Look at the Python expression below. What do you think we'll get when we run it? When you've made your prediction, uncomment the code and run the cell to see if you were right."
   ]
  },
  {
   "cell_type": "code",
   "execution_count": 5,
   "id": "ea8f2bb0",
   "metadata": {
    "execution": {
     "iopub.execute_input": "2021-08-06T09:13:12.217258Z",
     "iopub.status.busy": "2021-08-06T09:13:12.216637Z",
     "iopub.status.idle": "2021-08-06T09:13:12.220322Z",
     "shell.execute_reply": "2021-08-06T09:13:12.220863Z",
     "shell.execute_reply.started": "2021-08-06T08:40:49.799661Z"
    },
    "papermill": {
     "duration": 0.024504,
     "end_time": "2021-08-06T09:13:12.221038",
     "exception": false,
     "start_time": "2021-08-06T09:13:12.196534",
     "status": "completed"
    },
    "tags": []
   },
   "outputs": [],
   "source": [
    "#[1, 2, 3, 4] > 2"
   ]
  },
  {
   "cell_type": "markdown",
   "id": "75ff75d1",
   "metadata": {
    "papermill": {
     "duration": 0.017399,
     "end_time": "2021-08-06T09:13:12.256346",
     "exception": false,
     "start_time": "2021-08-06T09:13:12.238947",
     "status": "completed"
    },
    "tags": []
   },
   "source": [
    "R and Python have some libraries (like numpy and pandas) compare each element of the list to 2 (i.e. do an 'element-wise' comparison) and give us a list of booleans like `[False, False, True, True]`. \n",
    "\n",
    "Implement a function that reproduces this behaviour, returning a list of booleans corresponding to whether the corresponding element is greater than n."
   ]
  },
  {
   "cell_type": "code",
   "execution_count": 6,
   "id": "5bd644bf",
   "metadata": {
    "execution": {
     "iopub.execute_input": "2021-08-06T09:13:12.294880Z",
     "iopub.status.busy": "2021-08-06T09:13:12.294206Z",
     "iopub.status.idle": "2021-08-06T09:13:12.301926Z",
     "shell.execute_reply": "2021-08-06T09:13:12.302472Z",
     "shell.execute_reply.started": "2021-08-06T08:53:25.286455Z"
    },
    "papermill": {
     "duration": 0.028773,
     "end_time": "2021-08-06T09:13:12.302661",
     "exception": false,
     "start_time": "2021-08-06T09:13:12.273888",
     "status": "completed"
    },
    "tags": []
   },
   "outputs": [
    {
     "data": {
      "application/javascript": [
       "parent.postMessage({\"jupyterEvent\": \"custom.exercise_interaction\", \"data\": {\"outcomeType\": 1, \"valueTowardsCompletion\": 0.25, \"interactionType\": 1, \"questionType\": 2, \"questionId\": \"2_ElementWiseComparison\", \"learnToolsVersion\": \"0.3.4\", \"failureMessage\": \"\", \"exceptionClass\": \"\", \"trace\": \"\"}}, \"*\")"
      ],
      "text/plain": [
       "<IPython.core.display.Javascript object>"
      ]
     },
     "metadata": {},
     "output_type": "display_data"
    },
    {
     "data": {
      "text/markdown": [
       "<span style=\"color:#33cc33\">Correct:</span> \n",
       "\n",
       "Here's one solution:\n",
       "```python\n",
       "def elementwise_greater_than(L, thresh):\n",
       "    res = []\n",
       "    for ele in L:\n",
       "        res.append(ele > thresh)\n",
       "    return res\n",
       "```\n",
       "\n",
       "And here's the list comprehension version:\n",
       "```python\n",
       "def elementwise_greater_than(L, thresh):\n",
       "    return [ele > thresh for ele in L]\n",
       "```\n"
      ],
      "text/plain": [
       "Correct: \n",
       "\n",
       "Here's one solution:\n",
       "```python\n",
       "def elementwise_greater_than(L, thresh):\n",
       "    res = []\n",
       "    for ele in L:\n",
       "        res.append(ele > thresh)\n",
       "    return res\n",
       "```\n",
       "\n",
       "And here's the list comprehension version:\n",
       "```python\n",
       "def elementwise_greater_than(L, thresh):\n",
       "    return [ele > thresh for ele in L]\n",
       "```"
      ]
     },
     "metadata": {},
     "output_type": "display_data"
    }
   ],
   "source": [
    "def elementwise_greater_than(L, thresh):\n",
    "    \"\"\"Return a list with the same length as L, where the value at index i is \n",
    "    True if L[i] is greater than thresh, and False otherwise.\n",
    "    \n",
    "    >>> elementwise_greater_than([1, 2, 3, 4], 2)\n",
    "    [False, False, True, True]\n",
    "    \"\"\"\n",
    "    result = []\n",
    "    for num in L:\n",
    "        result.append(num > thresh)\n",
    "    return result\n",
    "\n",
    "# Check your answer\n",
    "q2.check()"
   ]
  },
  {
   "cell_type": "code",
   "execution_count": 7,
   "id": "3d48fdce",
   "metadata": {
    "execution": {
     "iopub.execute_input": "2021-08-06T09:13:12.347158Z",
     "iopub.status.busy": "2021-08-06T09:13:12.346202Z",
     "iopub.status.idle": "2021-08-06T09:13:12.348417Z",
     "shell.execute_reply": "2021-08-06T09:13:12.348900Z",
     "shell.execute_reply.started": "2021-08-06T08:35:53.376822Z"
    },
    "papermill": {
     "duration": 0.026905,
     "end_time": "2021-08-06T09:13:12.349065",
     "exception": false,
     "start_time": "2021-08-06T09:13:12.322160",
     "status": "completed"
    },
    "tags": []
   },
   "outputs": [],
   "source": [
    "#q2.solution()"
   ]
  },
  {
   "cell_type": "markdown",
   "id": "f7f64810",
   "metadata": {
    "papermill": {
     "duration": 0.020073,
     "end_time": "2021-08-06T09:13:12.387876",
     "exception": false,
     "start_time": "2021-08-06T09:13:12.367803",
     "status": "completed"
    },
    "tags": []
   },
   "source": [
    "# 3.\n",
    "\n",
    "Complete the body of the function below according to its docstring."
   ]
  },
  {
   "cell_type": "code",
   "execution_count": 8,
   "id": "dce46f6f",
   "metadata": {
    "execution": {
     "iopub.execute_input": "2021-08-06T09:13:12.432818Z",
     "iopub.status.busy": "2021-08-06T09:13:12.432043Z",
     "iopub.status.idle": "2021-08-06T09:13:12.438288Z",
     "shell.execute_reply": "2021-08-06T09:13:12.438818Z",
     "shell.execute_reply.started": "2021-08-06T08:42:25.816713Z"
    },
    "papermill": {
     "duration": 0.031556,
     "end_time": "2021-08-06T09:13:12.438993",
     "exception": false,
     "start_time": "2021-08-06T09:13:12.407437",
     "status": "completed"
    },
    "tags": []
   },
   "outputs": [
    {
     "data": {
      "application/javascript": [
       "parent.postMessage({\"jupyterEvent\": \"custom.exercise_interaction\", \"data\": {\"outcomeType\": 1, \"valueTowardsCompletion\": 0.25, \"interactionType\": 1, \"questionType\": 2, \"questionId\": \"3_BoringMenu\", \"learnToolsVersion\": \"0.3.4\", \"failureMessage\": \"\", \"exceptionClass\": \"\", \"trace\": \"\"}}, \"*\")"
      ],
      "text/plain": [
       "<IPython.core.display.Javascript object>"
      ]
     },
     "metadata": {},
     "output_type": "display_data"
    },
    {
     "data": {
      "text/markdown": [
       "<span style=\"color:#33cc33\">Correct:</span> \n",
       "\n",
       "\n",
       "\n",
       "```python\n",
       "def menu_is_boring(meals):\n",
       "    # Iterate over all indices of the list, except the last one\n",
       "    for i in range(len(meals)-1):\n",
       "        if meals[i] == meals[i+1]:\n",
       "            return True\n",
       "    return False\n",
       "```\n",
       "\n",
       "The key to our solution is the call to `range`. `range(len(meals))` would give us all the indices of `meals`. If we had used that range, the last iteration of the loop would be comparing the last element to the element after it, which is... `IndexError`! `range(len(meals)-1)` gives us all the indices except the index of the last element.\n",
       "\n",
       "But don't we need to check if `meals` is empty? Turns out that `range(0) == range(-1)` - they're both empty. So if `meals` has length 0 or 1, we just won't do any iterations of our for loop.\n"
      ],
      "text/plain": [
       "Correct: \n",
       "\n",
       "\n",
       "\n",
       "```python\n",
       "def menu_is_boring(meals):\n",
       "    # Iterate over all indices of the list, except the last one\n",
       "    for i in range(len(meals)-1):\n",
       "        if meals[i] == meals[i+1]:\n",
       "            return True\n",
       "    return False\n",
       "```\n",
       "\n",
       "The key to our solution is the call to `range`. `range(len(meals))` would give us all the indices of `meals`. If we had used that range, the last iteration of the loop would be comparing the last element to the element after it, which is... `IndexError`! `range(len(meals)-1)` gives us all the indices except the index of the last element.\n",
       "\n",
       "But don't we need to check if `meals` is empty? Turns out that `range(0) == range(-1)` - they're both empty. So if `meals` has length 0 or 1, we just won't do any iterations of our for loop."
      ]
     },
     "metadata": {},
     "output_type": "display_data"
    }
   ],
   "source": [
    "def menu_is_boring(meals):\n",
    "    \"\"\"Given a list of meals served over some period of time, return True if the\n",
    "    same meal has ever been served two days in a row, and False otherwise.\n",
    "    \"\"\"\n",
    "    for i in range(len(meals)-1):\n",
    "        if meals[i] == meals[i+1]:\n",
    "            return True\n",
    "    return False\n",
    "\n",
    "# Check your answer\n",
    "q3.check()"
   ]
  },
  {
   "cell_type": "code",
   "execution_count": 9,
   "id": "2228aaeb",
   "metadata": {
    "execution": {
     "iopub.execute_input": "2021-08-06T09:13:12.483457Z",
     "iopub.status.busy": "2021-08-06T09:13:12.482689Z",
     "iopub.status.idle": "2021-08-06T09:13:12.485603Z",
     "shell.execute_reply": "2021-08-06T09:13:12.486077Z",
     "shell.execute_reply.started": "2021-08-06T08:36:06.96457Z"
    },
    "papermill": {
     "duration": 0.027411,
     "end_time": "2021-08-06T09:13:12.486313",
     "exception": false,
     "start_time": "2021-08-06T09:13:12.458902",
     "status": "completed"
    },
    "tags": []
   },
   "outputs": [],
   "source": [
    "#q3.hint()\n",
    "#q3.solution()"
   ]
  },
  {
   "cell_type": "markdown",
   "id": "c5be8b68",
   "metadata": {
    "papermill": {
     "duration": 0.019521,
     "end_time": "2021-08-06T09:13:12.525761",
     "exception": false,
     "start_time": "2021-08-06T09:13:12.506240",
     "status": "completed"
    },
    "tags": []
   },
   "source": [
    "# 4. <span title=\"A bit spicy\" style=\"color: darkgreen \">🌶️</span>\n",
    "\n",
    "Next to the Blackjack table, the Python Challenge Casino has a slot machine. You can get a result from the slot machine by calling `play_slot_machine()`. The number it returns is your winnings in dollars. Usually it returns 0.  But sometimes you'll get lucky and get a big payday. Try running it below:"
   ]
  },
  {
   "cell_type": "code",
   "execution_count": 10,
   "id": "10ba46f9",
   "metadata": {
    "execution": {
     "iopub.execute_input": "2021-08-06T09:13:12.571435Z",
     "iopub.status.busy": "2021-08-06T09:13:12.570396Z",
     "iopub.status.idle": "2021-08-06T09:13:12.575292Z",
     "shell.execute_reply": "2021-08-06T09:13:12.574714Z",
     "shell.execute_reply.started": "2021-08-06T08:57:56.220845Z"
    },
    "papermill": {
     "duration": 0.029802,
     "end_time": "2021-08-06T09:13:12.575444",
     "exception": false,
     "start_time": "2021-08-06T09:13:12.545642",
     "status": "completed"
    },
    "tags": []
   },
   "outputs": [
    {
     "data": {
      "text/plain": [
       "0"
      ]
     },
     "execution_count": 10,
     "metadata": {},
     "output_type": "execute_result"
    }
   ],
   "source": [
    "play_slot_machine()"
   ]
  },
  {
   "cell_type": "markdown",
   "id": "63f274c9",
   "metadata": {
    "papermill": {
     "duration": 0.019811,
     "end_time": "2021-08-06T09:13:12.615345",
     "exception": false,
     "start_time": "2021-08-06T09:13:12.595534",
     "status": "completed"
    },
    "tags": []
   },
   "source": [
    "By the way, did we mention that each play costs $1? Don't worry, we'll send you the bill later.\n",
    "\n",
    "On average, how much money can you expect to gain (or lose) every time you play the machine?  The casino keeps it a secret, but you can estimate the average value of each pull using a technique called the **Monte Carlo method**. To estimate the average outcome, we simulate the scenario many times, and return the average result.\n",
    "\n",
    "Complete the following function to calculate the average value per play of the slot machine."
   ]
  },
  {
   "cell_type": "code",
   "execution_count": 11,
   "id": "520bb3f0",
   "metadata": {
    "execution": {
     "iopub.execute_input": "2021-08-06T09:13:12.659837Z",
     "iopub.status.busy": "2021-08-06T09:13:12.658851Z",
     "iopub.status.idle": "2021-08-06T09:13:12.708254Z",
     "shell.execute_reply": "2021-08-06T09:13:12.708719Z",
     "shell.execute_reply.started": "2021-08-06T09:10:36.599471Z"
    },
    "papermill": {
     "duration": 0.072718,
     "end_time": "2021-08-06T09:13:12.708903",
     "exception": false,
     "start_time": "2021-08-06T09:13:12.636185",
     "status": "completed"
    },
    "tags": []
   },
   "outputs": [
    {
     "data": {
      "text/plain": [
       "0.015885"
      ]
     },
     "execution_count": 11,
     "metadata": {},
     "output_type": "execute_result"
    }
   ],
   "source": [
    "def estimate_average_slot_payout(n_runs):\n",
    "    \"\"\"Run the slot machine n_runs times and return the average net profit per run.\n",
    "    Example calls (note that return value is nondeterministic!):\n",
    "    >>> estimate_average_slot_payout(1)\n",
    "    -1\n",
    "    >>> estimate_average_slot_payout(1)\n",
    "    0.5\n",
    "    \"\"\"\n",
    "    result = 0\n",
    "    for x in range(n_runs):\n",
    "        result += play_slot_machine()\n",
    "    return (result - n_runs)/n_runs\n",
    "\n",
    "estimate_average_slot_payout(100000)"
   ]
  },
  {
   "cell_type": "markdown",
   "id": "0483617c",
   "metadata": {
    "papermill": {
     "duration": 0.020014,
     "end_time": "2021-08-06T09:13:12.749304",
     "exception": false,
     "start_time": "2021-08-06T09:13:12.729290",
     "status": "completed"
    },
    "tags": []
   },
   "source": [
    "When you think you know the expected value per spin, run the code cell below to view the solution and get credit for answering the question."
   ]
  },
  {
   "cell_type": "code",
   "execution_count": 12,
   "id": "d89fc154",
   "metadata": {
    "execution": {
     "iopub.execute_input": "2021-08-06T09:13:12.793511Z",
     "iopub.status.busy": "2021-08-06T09:13:12.792558Z",
     "iopub.status.idle": "2021-08-06T09:13:12.799776Z",
     "shell.execute_reply": "2021-08-06T09:13:12.800252Z",
     "shell.execute_reply.started": "2021-08-06T08:56:14.242700Z"
    },
    "papermill": {
     "duration": 0.030865,
     "end_time": "2021-08-06T09:13:12.800431",
     "exception": false,
     "start_time": "2021-08-06T09:13:12.769566",
     "status": "completed"
    },
    "tags": []
   },
   "outputs": [
    {
     "data": {
      "application/javascript": [
       "parent.postMessage({\"jupyterEvent\": \"custom.exercise_interaction\", \"data\": {\"interactionType\": 3, \"questionType\": 4, \"questionId\": \"4_ExpectedSlotsPayout\", \"learnToolsVersion\": \"0.3.4\", \"valueTowardsCompletion\": 0.0, \"failureMessage\": \"\", \"exceptionClass\": \"\", \"trace\": \"\", \"outcomeType\": 4}}, \"*\")"
      ],
      "text/plain": [
       "<IPython.core.display.Javascript object>"
      ]
     },
     "metadata": {},
     "output_type": "display_data"
    },
    {
     "data": {
      "text/markdown": [
       "<span style=\"color:#33cc99\">Solution:</span> The exact expected value of one pull of the slot machine is 0.025 - i.e. a little more than 2 cents. See? Not every game in the Python Challenge Casino is rigged against the player!\n",
       "\n",
       "Because of the high variance of the outcome (there are some very rare high payout results that significantly affect the average) you might need to run your function with a very high value of `n_runs` to get a stable answer close to the true expectation.\n",
       "\n",
       "If your answer is way higher than 0.025, then maybe you forgot to account for the $1 cost per play?"
      ],
      "text/plain": [
       "Solution: The exact expected value of one pull of the slot machine is 0.025 - i.e. a little more than 2 cents. See? Not every game in the Python Challenge Casino is rigged against the player!\n",
       "\n",
       "Because of the high variance of the outcome (there are some very rare high payout results that significantly affect the average) you might need to run your function with a very high value of `n_runs` to get a stable answer close to the true expectation.\n",
       "\n",
       "If your answer is way higher than 0.025, then maybe you forgot to account for the $1 cost per play?"
      ]
     },
     "metadata": {},
     "output_type": "display_data"
    }
   ],
   "source": [
    "# Check your answer (Run this code cell to receive credit!)\n",
    "q4.solution()"
   ]
  },
  {
   "cell_type": "markdown",
   "id": "82c5df64",
   "metadata": {
    "papermill": {
     "duration": 0.021302,
     "end_time": "2021-08-06T09:13:12.843874",
     "exception": false,
     "start_time": "2021-08-06T09:13:12.822572",
     "status": "completed"
    },
    "tags": []
   },
   "source": [
    "# Keep Going\n",
    "\n",
    "Many programmers report that dictionaries are their favorite data structure. You'll get to **[learn about them](https://www.kaggle.com/colinmorris/strings-and-dictionaries)** (as well as strings) in the next lesson."
   ]
  },
  {
   "cell_type": "markdown",
   "id": "02c251f9",
   "metadata": {
    "papermill": {
     "duration": 0.022144,
     "end_time": "2021-08-06T09:13:12.887898",
     "exception": false,
     "start_time": "2021-08-06T09:13:12.865754",
     "status": "completed"
    },
    "tags": []
   },
   "source": [
    "---\n",
    "\n",
    "\n",
    "\n",
    "\n",
    "*Have questions or comments? Visit the [Learn Discussion forum](https://www.kaggle.com/learn-forum/161283) to chat with other Learners.*"
   ]
  }
 ],
 "metadata": {
  "kernelspec": {
   "display_name": "Python 3",
   "language": "python",
   "name": "python3"
  },
  "language_info": {
   "codemirror_mode": {
    "name": "ipython",
    "version": 3
   },
   "file_extension": ".py",
   "mimetype": "text/x-python",
   "name": "python",
   "nbconvert_exporter": "python",
   "pygments_lexer": "ipython3",
   "version": "3.7.10"
  },
  "papermill": {
   "default_parameters": {},
   "duration": 11.93324,
   "end_time": "2021-08-06T09:13:14.137819",
   "environment_variables": {},
   "exception": null,
   "input_path": "__notebook__.ipynb",
   "output_path": "__notebook__.ipynb",
   "parameters": {},
   "start_time": "2021-08-06T09:13:02.204579",
   "version": "2.3.3"
  }
 },
 "nbformat": 4,
 "nbformat_minor": 5
}
