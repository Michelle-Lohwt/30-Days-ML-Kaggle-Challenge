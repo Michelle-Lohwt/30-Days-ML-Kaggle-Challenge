{
 "cells": [
  {
   "cell_type": "markdown",
   "id": "617fc179",
   "metadata": {
    "papermill": {
     "duration": 0.00813,
     "end_time": "2021-08-11T08:33:49.123061",
     "exception": false,
     "start_time": "2021-08-11T08:33:49.114931",
     "status": "completed"
    },
    "tags": []
   },
   "source": [
    "**This notebook is an exercise in the [Introduction to Machine Learning](https://www.kaggle.com/learn/intro-to-machine-learning) course.  You can reference the tutorial at [this link](https://www.kaggle.com/dansbecker/underfitting-and-overfitting).**\n",
    "\n",
    "---\n"
   ]
  },
  {
   "cell_type": "markdown",
   "id": "e52c29dd",
   "metadata": {
    "papermill": {
     "duration": 0.006856,
     "end_time": "2021-08-11T08:33:49.137865",
     "exception": false,
     "start_time": "2021-08-11T08:33:49.131009",
     "status": "completed"
    },
    "tags": []
   },
   "source": [
    "## Recap\n",
    "You've built your first model, and now it's time to optimize the size of the tree to make better predictions. Run this cell to set up your coding environment where the previous step left off."
   ]
  },
  {
   "cell_type": "code",
   "execution_count": 1,
   "id": "75e9a15f",
   "metadata": {
    "execution": {
     "iopub.execute_input": "2021-08-11T08:33:49.156108Z",
     "iopub.status.busy": "2021-08-11T08:33:49.155017Z",
     "iopub.status.idle": "2021-08-11T08:33:50.458257Z",
     "shell.execute_reply": "2021-08-11T08:33:50.457651Z",
     "shell.execute_reply.started": "2021-08-11T08:31:01.551468Z"
    },
    "papermill": {
     "duration": 1.313396,
     "end_time": "2021-08-11T08:33:50.458424",
     "exception": false,
     "start_time": "2021-08-11T08:33:49.145028",
     "status": "completed"
    },
    "tags": []
   },
   "outputs": [
    {
     "name": "stdout",
     "output_type": "stream",
     "text": [
      "Validation MAE: 29,653\n",
      "\n",
      "Setup complete\n"
     ]
    }
   ],
   "source": [
    "# Code you have previously used to load data\n",
    "import pandas as pd\n",
    "from sklearn.metrics import mean_absolute_error\n",
    "from sklearn.model_selection import train_test_split\n",
    "from sklearn.tree import DecisionTreeRegressor\n",
    "\n",
    "\n",
    "# Path of the file to read\n",
    "iowa_file_path = '../input/home-data-for-ml-course/train.csv'\n",
    "\n",
    "home_data = pd.read_csv(iowa_file_path)\n",
    "# Create target object and call it y\n",
    "y = home_data.SalePrice\n",
    "# Create X\n",
    "features = ['LotArea', 'YearBuilt', '1stFlrSF', '2ndFlrSF', 'FullBath', 'BedroomAbvGr', 'TotRmsAbvGrd']\n",
    "X = home_data[features]\n",
    "\n",
    "# Split into validation and training data\n",
    "train_X, val_X, train_y, val_y = train_test_split(X, y, random_state=1)\n",
    "\n",
    "# Specify Model\n",
    "iowa_model = DecisionTreeRegressor(random_state=1)\n",
    "# Fit Model\n",
    "iowa_model.fit(train_X, train_y)\n",
    "\n",
    "# Make validation predictions and calculate mean absolute error\n",
    "val_predictions = iowa_model.predict(val_X)\n",
    "val_mae = mean_absolute_error(val_predictions, val_y)\n",
    "print(\"Validation MAE: {:,.0f}\".format(val_mae))\n",
    "\n",
    "# Set up code checking\n",
    "from learntools.core import binder\n",
    "binder.bind(globals())\n",
    "from learntools.machine_learning.ex5 import *\n",
    "print(\"\\nSetup complete\")"
   ]
  },
  {
   "cell_type": "markdown",
   "id": "6dd6064d",
   "metadata": {
    "papermill": {
     "duration": 0.007186,
     "end_time": "2021-08-11T08:33:50.473596",
     "exception": false,
     "start_time": "2021-08-11T08:33:50.466410",
     "status": "completed"
    },
    "tags": []
   },
   "source": [
    "# Exercises\n",
    "You could write the function `get_mae` yourself. For now, we'll supply it. This is the same function you read about in the previous lesson. Just run the cell below."
   ]
  },
  {
   "cell_type": "code",
   "execution_count": 2,
   "id": "e9371b42",
   "metadata": {
    "execution": {
     "iopub.execute_input": "2021-08-11T08:33:50.493850Z",
     "iopub.status.busy": "2021-08-11T08:33:50.493229Z",
     "iopub.status.idle": "2021-08-11T08:33:50.495229Z",
     "shell.execute_reply": "2021-08-11T08:33:50.495638Z",
     "shell.execute_reply.started": "2021-08-11T08:31:04.096718Z"
    },
    "papermill": {
     "duration": 0.014736,
     "end_time": "2021-08-11T08:33:50.495808",
     "exception": false,
     "start_time": "2021-08-11T08:33:50.481072",
     "status": "completed"
    },
    "tags": []
   },
   "outputs": [],
   "source": [
    "def get_mae(max_leaf_nodes, train_X, val_X, train_y, val_y):\n",
    "    model = DecisionTreeRegressor(max_leaf_nodes=max_leaf_nodes, random_state=0)\n",
    "    model.fit(train_X, train_y)\n",
    "    preds_val = model.predict(val_X)\n",
    "    mae = mean_absolute_error(val_y, preds_val)\n",
    "    return(mae)"
   ]
  },
  {
   "cell_type": "markdown",
   "id": "1b8a0913",
   "metadata": {
    "papermill": {
     "duration": 0.00724,
     "end_time": "2021-08-11T08:33:50.510748",
     "exception": false,
     "start_time": "2021-08-11T08:33:50.503508",
     "status": "completed"
    },
    "tags": []
   },
   "source": [
    "## Step 1: Compare Different Tree Sizes\n",
    "Write a loop that tries the following values for *max_leaf_nodes* from a set of possible values.\n",
    "\n",
    "Call the *get_mae* function on each value of max_leaf_nodes. Store the output in some way that allows you to select the value of `max_leaf_nodes` that gives the most accurate model on your data."
   ]
  },
  {
   "cell_type": "code",
   "execution_count": 3,
   "id": "a9c24878",
   "metadata": {
    "execution": {
     "iopub.execute_input": "2021-08-11T08:33:50.528836Z",
     "iopub.status.busy": "2021-08-11T08:33:50.528202Z",
     "iopub.status.idle": "2021-08-11T08:33:50.591306Z",
     "shell.execute_reply": "2021-08-11T08:33:50.590808Z",
     "shell.execute_reply.started": "2021-08-11T08:31:09.401549Z"
    },
    "papermill": {
     "duration": 0.073209,
     "end_time": "2021-08-11T08:33:50.591448",
     "exception": false,
     "start_time": "2021-08-11T08:33:50.518239",
     "status": "completed"
    },
    "tags": []
   },
   "outputs": [
    {
     "data": {
      "application/javascript": [
       "parent.postMessage({\"jupyterEvent\": \"custom.exercise_interaction\", \"data\": {\"outcomeType\": 1, \"valueTowardsCompletion\": 0.5, \"interactionType\": 1, \"questionType\": 1, \"questionId\": \"1_BestTreeSize\", \"learnToolsVersion\": \"0.3.4\", \"failureMessage\": \"\", \"exceptionClass\": \"\", \"trace\": \"\"}}, \"*\")"
      ],
      "text/plain": [
       "<IPython.core.display.Javascript object>"
      ]
     },
     "metadata": {},
     "output_type": "display_data"
    },
    {
     "data": {
      "text/markdown": [
       "<span style=\"color:#33cc33\">Correct</span>"
      ],
      "text/plain": [
       "Correct"
      ]
     },
     "metadata": {},
     "output_type": "display_data"
    }
   ],
   "source": [
    "candidate_max_leaf_nodes = [5, 25, 50, 100, 250, 500]\n",
    "# Write loop to find the ideal tree size from candidate_max_leaf_nodes\n",
    "scores = {}\n",
    "for max_leaf_node in candidate_max_leaf_nodes:\n",
    "    mae = get_mae(max_leaf_node, train_X, val_X, train_y, val_y)\n",
    "    scores[max_leaf_node] = mae\n",
    "\n",
    "# Store the best value of max_leaf_nodes (it will be either 5, 25, 50, 100, 250 or 500)\n",
    "best_tree_size = min(scores, key = scores.get)\n",
    "\n",
    "# Check your answer\n",
    "step_1.check()"
   ]
  },
  {
   "cell_type": "code",
   "execution_count": 4,
   "id": "f00f2113",
   "metadata": {
    "execution": {
     "iopub.execute_input": "2021-08-11T08:33:50.618528Z",
     "iopub.status.busy": "2021-08-11T08:33:50.617638Z",
     "iopub.status.idle": "2021-08-11T08:33:50.625696Z",
     "shell.execute_reply": "2021-08-11T08:33:50.625076Z",
     "shell.execute_reply.started": "2021-08-11T08:31:12.395092Z"
    },
    "papermill": {
     "duration": 0.020736,
     "end_time": "2021-08-11T08:33:50.625839",
     "exception": false,
     "start_time": "2021-08-11T08:33:50.605103",
     "status": "completed"
    },
    "tags": []
   },
   "outputs": [
    {
     "data": {
      "application/javascript": [
       "parent.postMessage({\"jupyterEvent\": \"custom.exercise_interaction\", \"data\": {\"interactionType\": 3, \"questionType\": 1, \"questionId\": \"1_BestTreeSize\", \"learnToolsVersion\": \"0.3.4\", \"valueTowardsCompletion\": 0.0, \"failureMessage\": \"\", \"exceptionClass\": \"\", \"trace\": \"\", \"outcomeType\": 4}}, \"*\")"
      ],
      "text/plain": [
       "<IPython.core.display.Javascript object>"
      ]
     },
     "metadata": {},
     "output_type": "display_data"
    },
    {
     "data": {
      "text/markdown": [
       "<span style=\"color:#33cc99\">Solution:</span> \n",
       "```python\n",
       "# Here is a short solution with a dict comprehension.\n",
       "# The lesson gives an example of how to do this with an explicit loop.\n",
       "scores = {leaf_size: get_mae(leaf_size, train_X, val_X, train_y, val_y) for leaf_size in candidate_max_leaf_nodes}\n",
       "best_tree_size = min(scores, key=scores.get)\n",
       "\n",
       "```"
      ],
      "text/plain": [
       "Solution: \n",
       "```python\n",
       "# Here is a short solution with a dict comprehension.\n",
       "# The lesson gives an example of how to do this with an explicit loop.\n",
       "scores = {leaf_size: get_mae(leaf_size, train_X, val_X, train_y, val_y) for leaf_size in candidate_max_leaf_nodes}\n",
       "best_tree_size = min(scores, key=scores.get)\n",
       "\n",
       "```"
      ]
     },
     "metadata": {},
     "output_type": "display_data"
    }
   ],
   "source": [
    "# The lines below will show you a hint or the solution.\n",
    "# step_1.hint() \n",
    "step_1.solution()"
   ]
  },
  {
   "cell_type": "markdown",
   "id": "5e768f5c",
   "metadata": {
    "papermill": {
     "duration": 0.008739,
     "end_time": "2021-08-11T08:33:50.643660",
     "exception": false,
     "start_time": "2021-08-11T08:33:50.634921",
     "status": "completed"
    },
    "tags": []
   },
   "source": [
    "## Step 2: Fit Model Using All Data\n",
    "You know the best tree size. If you were going to deploy this model in practice, you would make it even more accurate by using all of the data and keeping that tree size.  That is, you don't need to hold out the validation data now that you've made all your modeling decisions."
   ]
  },
  {
   "cell_type": "code",
   "execution_count": 5,
   "id": "57f4c219",
   "metadata": {
    "execution": {
     "iopub.execute_input": "2021-08-11T08:33:50.667682Z",
     "iopub.status.busy": "2021-08-11T08:33:50.667026Z",
     "iopub.status.idle": "2021-08-11T08:33:50.684938Z",
     "shell.execute_reply": "2021-08-11T08:33:50.684345Z",
     "shell.execute_reply.started": "2021-08-11T08:33:14.950908Z"
    },
    "papermill": {
     "duration": 0.029595,
     "end_time": "2021-08-11T08:33:50.685081",
     "exception": false,
     "start_time": "2021-08-11T08:33:50.655486",
     "status": "completed"
    },
    "tags": []
   },
   "outputs": [
    {
     "data": {
      "application/javascript": [
       "parent.postMessage({\"jupyterEvent\": \"custom.exercise_interaction\", \"data\": {\"outcomeType\": 1, \"valueTowardsCompletion\": 0.5, \"interactionType\": 1, \"questionType\": 2, \"questionId\": \"2_FitModelWithAllData\", \"learnToolsVersion\": \"0.3.4\", \"failureMessage\": \"\", \"exceptionClass\": \"\", \"trace\": \"\"}}, \"*\")"
      ],
      "text/plain": [
       "<IPython.core.display.Javascript object>"
      ]
     },
     "metadata": {},
     "output_type": "display_data"
    },
    {
     "data": {
      "text/markdown": [
       "<span style=\"color:#33cc33\">Correct</span>"
      ],
      "text/plain": [
       "Correct"
      ]
     },
     "metadata": {},
     "output_type": "display_data"
    }
   ],
   "source": [
    "# Fill in argument to make optimal size and uncomment\n",
    "final_model = DecisionTreeRegressor(max_leaf_nodes = best_tree_size, random_state = 0)\n",
    "\n",
    "# fit the final model and uncomment the next two lines\n",
    "final_model.fit(X, y)\n",
    "\n",
    "# Check your answer\n",
    "step_2.check()"
   ]
  },
  {
   "cell_type": "code",
   "execution_count": 6,
   "id": "ae463d8e",
   "metadata": {
    "execution": {
     "iopub.execute_input": "2021-08-11T08:33:50.710635Z",
     "iopub.status.busy": "2021-08-11T08:33:50.709696Z",
     "iopub.status.idle": "2021-08-11T08:33:50.714763Z",
     "shell.execute_reply": "2021-08-11T08:33:50.715220Z",
     "shell.execute_reply.started": "2021-08-11T08:33:06.003456Z"
    },
    "papermill": {
     "duration": 0.020026,
     "end_time": "2021-08-11T08:33:50.715389",
     "exception": false,
     "start_time": "2021-08-11T08:33:50.695363",
     "status": "completed"
    },
    "tags": []
   },
   "outputs": [
    {
     "data": {
      "application/javascript": [
       "parent.postMessage({\"jupyterEvent\": \"custom.exercise_interaction\", \"data\": {\"interactionType\": 3, \"questionType\": 2, \"questionId\": \"2_FitModelWithAllData\", \"learnToolsVersion\": \"0.3.4\", \"valueTowardsCompletion\": 0.0, \"failureMessage\": \"\", \"exceptionClass\": \"\", \"trace\": \"\", \"outcomeType\": 4}}, \"*\")"
      ],
      "text/plain": [
       "<IPython.core.display.Javascript object>"
      ]
     },
     "metadata": {},
     "output_type": "display_data"
    },
    {
     "data": {
      "text/markdown": [
       "<span style=\"color:#33cc99\">Solution:</span> \n",
       "```python\n",
       "# Fit the model with best_tree_size. Fill in argument to make optimal size\n",
       "final_model = DecisionTreeRegressor(max_leaf_nodes=best_tree_size, random_state=1)\n",
       "\n",
       "# fit the final model\n",
       "final_model.fit(X, y)\n",
       "```"
      ],
      "text/plain": [
       "Solution: \n",
       "```python\n",
       "# Fit the model with best_tree_size. Fill in argument to make optimal size\n",
       "final_model = DecisionTreeRegressor(max_leaf_nodes=best_tree_size, random_state=1)\n",
       "\n",
       "# fit the final model\n",
       "final_model.fit(X, y)\n",
       "```"
      ]
     },
     "metadata": {},
     "output_type": "display_data"
    }
   ],
   "source": [
    "# step_2.hint()\n",
    "step_2.solution()"
   ]
  },
  {
   "cell_type": "markdown",
   "id": "66476eab",
   "metadata": {
    "papermill": {
     "duration": 0.010247,
     "end_time": "2021-08-11T08:33:50.736365",
     "exception": false,
     "start_time": "2021-08-11T08:33:50.726118",
     "status": "completed"
    },
    "tags": []
   },
   "source": [
    "You've tuned this model and improved your results. But we are still using Decision Tree models, which are not very sophisticated by modern machine learning standards. In the next step you will learn to use Random Forests to improve your models even more.\n",
    "\n",
    "# Keep Going\n",
    "\n",
    "You are ready for **[Random Forests](https://www.kaggle.com/dansbecker/random-forests).**\n"
   ]
  },
  {
   "cell_type": "markdown",
   "id": "6983b73a",
   "metadata": {
    "papermill": {
     "duration": 0.010171,
     "end_time": "2021-08-11T08:33:50.757081",
     "exception": false,
     "start_time": "2021-08-11T08:33:50.746910",
     "status": "completed"
    },
    "tags": []
   },
   "source": [
    "---\n",
    "\n",
    "\n",
    "\n",
    "\n",
    "*Have questions or comments? Visit the [Learn Discussion forum](https://www.kaggle.com/learn-forum/161285) to chat with other Learners.*"
   ]
  }
 ],
 "metadata": {
  "kernelspec": {
   "display_name": "Python 3",
   "language": "python",
   "name": "python3"
  },
  "language_info": {
   "codemirror_mode": {
    "name": "ipython",
    "version": 3
   },
   "file_extension": ".py",
   "mimetype": "text/x-python",
   "name": "python",
   "nbconvert_exporter": "python",
   "pygments_lexer": "ipython3",
   "version": "3.7.10"
  },
  "papermill": {
   "default_parameters": {},
   "duration": 9.546927,
   "end_time": "2021-08-11T08:33:51.476997",
   "environment_variables": {},
   "exception": null,
   "input_path": "__notebook__.ipynb",
   "output_path": "__notebook__.ipynb",
   "parameters": {},
   "start_time": "2021-08-11T08:33:41.930070",
   "version": "2.3.3"
  }
 },
 "nbformat": 4,
 "nbformat_minor": 5
}
