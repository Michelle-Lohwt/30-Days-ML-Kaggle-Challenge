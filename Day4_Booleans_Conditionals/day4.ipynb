{
 "cells": [
  {
   "cell_type": "markdown",
   "id": "881f7cb1",
   "metadata": {
    "papermill": {
     "duration": 0.028982,
     "end_time": "2021-08-05T17:02:48.008975",
     "exception": false,
     "start_time": "2021-08-05T17:02:47.979993",
     "status": "completed"
    },
    "tags": []
   },
   "source": [
    "**This notebook is an exercise in the [Python](https://www.kaggle.com/learn/python) course.  You can reference the tutorial at [this link](https://www.kaggle.com/colinmorris/booleans-and-conditionals).**\n",
    "\n",
    "---\n"
   ]
  },
  {
   "cell_type": "markdown",
   "id": "99c0e5d3",
   "metadata": {
    "papermill": {
     "duration": 0.02772,
     "end_time": "2021-08-05T17:02:48.066075",
     "exception": false,
     "start_time": "2021-08-05T17:02:48.038355",
     "status": "completed"
    },
    "tags": []
   },
   "source": [
    "In this exercise, you'll put to work what you have learned about booleans and conditionals.\n",
    "\n",
    "To get started, **run the setup code below** before writing your own code (and if you leave this notebook and come back later, don't forget to run the setup code again)."
   ]
  },
  {
   "cell_type": "code",
   "execution_count": 1,
   "id": "1a316407",
   "metadata": {
    "execution": {
     "iopub.execute_input": "2021-08-05T17:02:48.127023Z",
     "iopub.status.busy": "2021-08-05T17:02:48.125889Z",
     "iopub.status.idle": "2021-08-05T17:02:48.270385Z",
     "shell.execute_reply": "2021-08-05T17:02:48.269551Z",
     "shell.execute_reply.started": "2021-08-05T15:10:02.577514Z"
    },
    "papermill": {
     "duration": 0.175546,
     "end_time": "2021-08-05T17:02:48.270563",
     "exception": false,
     "start_time": "2021-08-05T17:02:48.095017",
     "status": "completed"
    },
    "tags": []
   },
   "outputs": [
    {
     "name": "stdout",
     "output_type": "stream",
     "text": [
      "Setup complete.\n"
     ]
    }
   ],
   "source": [
    "from learntools.core import binder; binder.bind(globals())\n",
    "from learntools.python.ex3 import *\n",
    "print('Setup complete.')"
   ]
  },
  {
   "cell_type": "markdown",
   "id": "c5bfc646",
   "metadata": {
    "papermill": {
     "duration": 0.028061,
     "end_time": "2021-08-05T17:02:48.327329",
     "exception": false,
     "start_time": "2021-08-05T17:02:48.299268",
     "status": "completed"
    },
    "tags": []
   },
   "source": [
    "# 1.\n",
    "\n",
    "Many programming languages have [`sign`](https://en.wikipedia.org/wiki/Sign_function) available as a built-in function. Python doesn't, but we can define our own!\n",
    "\n",
    "In the cell below, define a function called `sign` which takes a numerical argument and returns -1 if it's negative, 1 if it's positive, and 0 if it's 0."
   ]
  },
  {
   "cell_type": "code",
   "execution_count": 2,
   "id": "76887078",
   "metadata": {
    "execution": {
     "iopub.execute_input": "2021-08-05T17:02:48.394875Z",
     "iopub.status.busy": "2021-08-05T17:02:48.393830Z",
     "iopub.status.idle": "2021-08-05T17:02:48.400240Z",
     "shell.execute_reply": "2021-08-05T17:02:48.400771Z",
     "shell.execute_reply.started": "2021-08-05T15:11:00.538230Z"
    },
    "papermill": {
     "duration": 0.044129,
     "end_time": "2021-08-05T17:02:48.400954",
     "exception": false,
     "start_time": "2021-08-05T17:02:48.356825",
     "status": "completed"
    },
    "tags": []
   },
   "outputs": [
    {
     "data": {
      "application/javascript": [
       "parent.postMessage({\"jupyterEvent\": \"custom.exercise_interaction\", \"data\": {\"outcomeType\": 1, \"valueTowardsCompletion\": 0.2, \"interactionType\": 1, \"questionType\": 2, \"questionId\": \"1_SignFunctionProblem\", \"learnToolsVersion\": \"0.3.4\", \"failureMessage\": \"\", \"exceptionClass\": \"\", \"trace\": \"\"}}, \"*\")"
      ],
      "text/plain": [
       "<IPython.core.display.Javascript object>"
      ]
     },
     "metadata": {},
     "output_type": "display_data"
    },
    {
     "data": {
      "text/markdown": [
       "<span style=\"color:#33cc33\">Correct</span>"
      ],
      "text/plain": [
       "Correct"
      ]
     },
     "metadata": {},
     "output_type": "display_data"
    }
   ],
   "source": [
    "def sign(num):\n",
    "    if num < 0:\n",
    "        return -1\n",
    "    elif num > 0:\n",
    "        return 1\n",
    "    else:\n",
    "        return 0\n",
    "\n",
    "# Check your answer\n",
    "q1.check()"
   ]
  },
  {
   "cell_type": "code",
   "execution_count": 3,
   "id": "f9897551",
   "metadata": {
    "execution": {
     "iopub.execute_input": "2021-08-05T17:02:48.465090Z",
     "iopub.status.busy": "2021-08-05T17:02:48.464432Z",
     "iopub.status.idle": "2021-08-05T17:02:48.467479Z",
     "shell.execute_reply": "2021-08-05T17:02:48.466981Z"
    },
    "papermill": {
     "duration": 0.037352,
     "end_time": "2021-08-05T17:02:48.467638",
     "exception": false,
     "start_time": "2021-08-05T17:02:48.430286",
     "status": "completed"
    },
    "tags": []
   },
   "outputs": [],
   "source": [
    "#q1.solution()"
   ]
  },
  {
   "cell_type": "markdown",
   "id": "4d9de7d7",
   "metadata": {
    "papermill": {
     "duration": 0.029218,
     "end_time": "2021-08-05T17:02:48.526373",
     "exception": false,
     "start_time": "2021-08-05T17:02:48.497155",
     "status": "completed"
    },
    "tags": []
   },
   "source": [
    "# 2.\n",
    "\n",
    "We've decided to add \"logging\" to our `to_smash` function from the previous exercise."
   ]
  },
  {
   "cell_type": "code",
   "execution_count": 4,
   "id": "dd443e98",
   "metadata": {
    "execution": {
     "iopub.execute_input": "2021-08-05T17:02:48.595477Z",
     "iopub.status.busy": "2021-08-05T17:02:48.594380Z",
     "iopub.status.idle": "2021-08-05T17:02:48.602642Z",
     "shell.execute_reply": "2021-08-05T17:02:48.601438Z",
     "shell.execute_reply.started": "2021-08-05T15:11:31.654273Z"
    },
    "papermill": {
     "duration": 0.04694,
     "end_time": "2021-08-05T17:02:48.602897",
     "exception": false,
     "start_time": "2021-08-05T17:02:48.555957",
     "status": "completed"
    },
    "tags": []
   },
   "outputs": [
    {
     "name": "stdout",
     "output_type": "stream",
     "text": [
      "Splitting 91 candies\n"
     ]
    },
    {
     "data": {
      "text/plain": [
       "1"
      ]
     },
     "execution_count": 4,
     "metadata": {},
     "output_type": "execute_result"
    }
   ],
   "source": [
    "def to_smash(total_candies):\n",
    "    \"\"\"Return the number of leftover candies that must be smashed after distributing\n",
    "    the given number of candies evenly between 3 friends.\n",
    "    \n",
    "    >>> to_smash(91)\n",
    "    1\n",
    "    \"\"\"\n",
    "    print(\"Splitting\", total_candies, \"candies\")\n",
    "    return total_candies % 3\n",
    "\n",
    "to_smash(91)"
   ]
  },
  {
   "cell_type": "markdown",
   "id": "f84c4789",
   "metadata": {
    "papermill": {
     "duration": 0.042119,
     "end_time": "2021-08-05T17:02:48.687568",
     "exception": false,
     "start_time": "2021-08-05T17:02:48.645449",
     "status": "completed"
    },
    "tags": []
   },
   "source": [
    "What happens if we call it with `total_candies = 1`?"
   ]
  },
  {
   "cell_type": "code",
   "execution_count": 5,
   "id": "41742a2e",
   "metadata": {
    "execution": {
     "iopub.execute_input": "2021-08-05T17:02:48.757056Z",
     "iopub.status.busy": "2021-08-05T17:02:48.756004Z",
     "iopub.status.idle": "2021-08-05T17:02:48.762873Z",
     "shell.execute_reply": "2021-08-05T17:02:48.762212Z",
     "shell.execute_reply.started": "2021-08-05T15:11:42.984310Z"
    },
    "papermill": {
     "duration": 0.041262,
     "end_time": "2021-08-05T17:02:48.763018",
     "exception": false,
     "start_time": "2021-08-05T17:02:48.721756",
     "status": "completed"
    },
    "tags": []
   },
   "outputs": [
    {
     "name": "stdout",
     "output_type": "stream",
     "text": [
      "Splitting 1 candies\n"
     ]
    },
    {
     "data": {
      "text/plain": [
       "1"
      ]
     },
     "execution_count": 5,
     "metadata": {},
     "output_type": "execute_result"
    }
   ],
   "source": [
    "to_smash(1)"
   ]
  },
  {
   "cell_type": "markdown",
   "id": "d9c23be3",
   "metadata": {
    "papermill": {
     "duration": 0.030759,
     "end_time": "2021-08-05T17:02:48.826450",
     "exception": false,
     "start_time": "2021-08-05T17:02:48.795691",
     "status": "completed"
    },
    "tags": []
   },
   "source": [
    "That isn't great grammar!\n",
    "\n",
    "Modify the definition in the cell below to correct the grammar of our print statement. (If there's only one candy, we should use the singular \"candy\" instead of the plural \"candies\")"
   ]
  },
  {
   "cell_type": "code",
   "execution_count": 6,
   "id": "ad81f9c9",
   "metadata": {
    "execution": {
     "iopub.execute_input": "2021-08-05T17:02:48.892939Z",
     "iopub.status.busy": "2021-08-05T17:02:48.892284Z",
     "iopub.status.idle": "2021-08-05T17:02:48.901068Z",
     "shell.execute_reply": "2021-08-05T17:02:48.901511Z",
     "shell.execute_reply.started": "2021-08-05T15:13:58.067439Z"
    },
    "papermill": {
     "duration": 0.04345,
     "end_time": "2021-08-05T17:02:48.901700",
     "exception": false,
     "start_time": "2021-08-05T17:02:48.858250",
     "status": "completed"
    },
    "tags": []
   },
   "outputs": [
    {
     "name": "stdout",
     "output_type": "stream",
     "text": [
      "Splitting 91 candies\n",
      "Splitting 1 candy\n"
     ]
    },
    {
     "data": {
      "text/plain": [
       "1"
      ]
     },
     "execution_count": 6,
     "metadata": {},
     "output_type": "execute_result"
    }
   ],
   "source": [
    "def to_smash(total_candies):\n",
    "    \"\"\"Return the number of leftover candies that must be smashed after distributing\n",
    "    the given number of candies evenly between 3 friends.\n",
    "    \n",
    "    >>> to_smash(91)\n",
    "    1\n",
    "    \"\"\"\n",
    "    print(\"Splitting\", total_candies, \"candy\" if total_candies == 1 else \"candies\")\n",
    "    return total_candies % 3\n",
    "\n",
    "to_smash(91)\n",
    "to_smash(1)"
   ]
  },
  {
   "cell_type": "markdown",
   "id": "b01ff5bc",
   "metadata": {
    "papermill": {
     "duration": 0.030876,
     "end_time": "2021-08-05T17:02:48.963969",
     "exception": false,
     "start_time": "2021-08-05T17:02:48.933093",
     "status": "completed"
    },
    "tags": []
   },
   "source": [
    "To get credit for completing this problem, and to see the official answer, run the code cell below."
   ]
  },
  {
   "cell_type": "code",
   "execution_count": 7,
   "id": "dfe09547",
   "metadata": {
    "execution": {
     "iopub.execute_input": "2021-08-05T17:02:49.031245Z",
     "iopub.status.busy": "2021-08-05T17:02:49.030555Z",
     "iopub.status.idle": "2021-08-05T17:02:49.035457Z",
     "shell.execute_reply": "2021-08-05T17:02:49.035972Z",
     "shell.execute_reply.started": "2021-08-05T15:14:03.537968Z"
    },
    "papermill": {
     "duration": 0.04101,
     "end_time": "2021-08-05T17:02:49.036147",
     "exception": false,
     "start_time": "2021-08-05T17:02:48.995137",
     "status": "completed"
    },
    "tags": []
   },
   "outputs": [
    {
     "data": {
      "application/javascript": [
       "parent.postMessage({\"jupyterEvent\": \"custom.exercise_interaction\", \"data\": {\"interactionType\": 3, \"questionType\": 4, \"questionId\": \"2_PluralizationProblem\", \"learnToolsVersion\": \"0.3.4\", \"valueTowardsCompletion\": 0.0, \"failureMessage\": \"\", \"exceptionClass\": \"\", \"trace\": \"\", \"outcomeType\": 4}}, \"*\")"
      ],
      "text/plain": [
       "<IPython.core.display.Javascript object>"
      ]
     },
     "metadata": {},
     "output_type": "display_data"
    },
    {
     "data": {
      "text/markdown": [
       "<span style=\"color:#33cc99\">Solution:</span> A straightforward (and totally fine) solution is to replace the original `print` call with:\n",
       "\n",
       "```python\n",
       "if total_candies == 1:\n",
       "    print(\"Splitting 1 candy\")\n",
       "else:\n",
       "    print(\"Splitting\", total_candies, \"candies\")\n",
       "```\n",
       "\n",
       "Here's a slightly more succinct solution using a conditional expression:\n",
       "\n",
       "```python\n",
       "print(\"Splitting\", total_candies, \"candy\" if total_candies == 1 else \"candies\")\n",
       "```"
      ],
      "text/plain": [
       "Solution: A straightforward (and totally fine) solution is to replace the original `print` call with:\n",
       "\n",
       "```python\n",
       "if total_candies == 1:\n",
       "    print(\"Splitting 1 candy\")\n",
       "else:\n",
       "    print(\"Splitting\", total_candies, \"candies\")\n",
       "```\n",
       "\n",
       "Here's a slightly more succinct solution using a conditional expression:\n",
       "\n",
       "```python\n",
       "print(\"Splitting\", total_candies, \"candy\" if total_candies == 1 else \"candies\")\n",
       "```"
      ]
     },
     "metadata": {},
     "output_type": "display_data"
    }
   ],
   "source": [
    "# Check your answer (Run this code cell to receive credit!)\n",
    "q2.solution()"
   ]
  },
  {
   "cell_type": "markdown",
   "id": "6fbb5db8",
   "metadata": {
    "papermill": {
     "duration": 0.03223,
     "end_time": "2021-08-05T17:02:49.102010",
     "exception": false,
     "start_time": "2021-08-05T17:02:49.069780",
     "status": "completed"
    },
    "tags": []
   },
   "source": [
    "# 3. <span title=\"A bit spicy\" style=\"color: darkgreen \">🌶️</span>\n",
    "\n",
    "In the tutorial, we talked about deciding whether we're prepared for the weather. I said that I'm safe from today's weather if...\n",
    "- I have an umbrella...\n",
    "- or if the rain isn't too heavy and I have a hood...\n",
    "- otherwise, I'm still fine unless it's raining *and* it's a workday\n",
    "\n",
    "The function below uses our first attempt at turning this logic into a Python expression. I claimed that there was a bug in that code. Can you find it?\n",
    "\n",
    "To prove that `prepared_for_weather` is buggy, come up with a set of inputs where either:\n",
    "- the function returns `False` (but should have returned `True`), or\n",
    "- the function returned `True` (but should have returned `False`).\n",
    "\n",
    "To get credit for completing this question, your code should return a <font color='#33cc33'>Correct</font> result."
   ]
  },
  {
   "cell_type": "code",
   "execution_count": 8,
   "id": "535d57ec",
   "metadata": {
    "execution": {
     "iopub.execute_input": "2021-08-05T17:02:49.174815Z",
     "iopub.status.busy": "2021-08-05T17:02:49.174137Z",
     "iopub.status.idle": "2021-08-05T17:02:49.179136Z",
     "shell.execute_reply": "2021-08-05T17:02:49.179708Z",
     "shell.execute_reply.started": "2021-08-05T15:24:21.999801Z"
    },
    "papermill": {
     "duration": 0.04536,
     "end_time": "2021-08-05T17:02:49.179881",
     "exception": false,
     "start_time": "2021-08-05T17:02:49.134521",
     "status": "completed"
    },
    "tags": []
   },
   "outputs": [
    {
     "name": "stdout",
     "output_type": "stream",
     "text": [
      "False\n"
     ]
    },
    {
     "data": {
      "application/javascript": [
       "parent.postMessage({\"jupyterEvent\": \"custom.exercise_interaction\", \"data\": {\"outcomeType\": 1, \"valueTowardsCompletion\": 0.2, \"interactionType\": 1, \"questionType\": 1, \"questionId\": \"3_WeatherDebug\", \"learnToolsVersion\": \"0.3.4\", \"failureMessage\": \"\", \"exceptionClass\": \"\", \"trace\": \"\"}}, \"*\")"
      ],
      "text/plain": [
       "<IPython.core.display.Javascript object>"
      ]
     },
     "metadata": {},
     "output_type": "display_data"
    },
    {
     "data": {
      "text/markdown": [
       "<span style=\"color:#33cc33\">Correct:</span> \n",
       "\n",
       "One example of a failing test case is:\n",
       "\n",
       "```python\n",
       "have_umbrella = False\n",
       "rain_level = 0.0\n",
       "have_hood = False\n",
       "is_workday = False\n",
       "```\n",
       "\n",
       "Clearly we're prepared for the weather in this case. It's not raining. Not only that, it's not a workday, so we don't even need to leave the house! But our function will return False on these inputs.\n",
       "\n",
       "The key problem is that Python implictly parenthesizes the last part as:\n",
       "\n",
       "```python\n",
       "(not (rain_level > 0)) and is_workday\n",
       "```\n",
       "\n",
       "Whereas what we were trying to express would look more like:\n",
       "\n",
       "```python\n",
       "not (rain_level > 0 and is_workday)\n",
       "```\n"
      ],
      "text/plain": [
       "Correct: \n",
       "\n",
       "One example of a failing test case is:\n",
       "\n",
       "```python\n",
       "have_umbrella = False\n",
       "rain_level = 0.0\n",
       "have_hood = False\n",
       "is_workday = False\n",
       "```\n",
       "\n",
       "Clearly we're prepared for the weather in this case. It's not raining. Not only that, it's not a workday, so we don't even need to leave the house! But our function will return False on these inputs.\n",
       "\n",
       "The key problem is that Python implictly parenthesizes the last part as:\n",
       "\n",
       "```python\n",
       "(not (rain_level > 0)) and is_workday\n",
       "```\n",
       "\n",
       "Whereas what we were trying to express would look more like:\n",
       "\n",
       "```python\n",
       "not (rain_level > 0 and is_workday)\n",
       "```"
      ]
     },
     "metadata": {},
     "output_type": "display_data"
    }
   ],
   "source": [
    "def prepared_for_weather(have_umbrella, rain_level, have_hood, is_workday):\n",
    "    # Don't change this code. Our goal is just to find the bug, not fix it!\n",
    "    return have_umbrella or rain_level < 5 and have_hood or not rain_level > 0 and is_workday\n",
    "\n",
    "# Change the values of these inputs so they represent a case where prepared_for_weather\n",
    "# returns the wrong answer.\n",
    "have_umbrella = False\n",
    "rain_level = 0\n",
    "have_hood = False\n",
    "is_workday = False\n",
    "\n",
    "# Check what the function returns given the current values of the variables above\n",
    "actual = prepared_for_weather(have_umbrella, rain_level, have_hood, is_workday)\n",
    "print(actual)\n",
    "\n",
    "# Check your answer\n",
    "q3.check()"
   ]
  },
  {
   "cell_type": "code",
   "execution_count": 9,
   "id": "35e81715",
   "metadata": {
    "execution": {
     "iopub.execute_input": "2021-08-05T17:02:49.251508Z",
     "iopub.status.busy": "2021-08-05T17:02:49.250889Z",
     "iopub.status.idle": "2021-08-05T17:02:49.254301Z",
     "shell.execute_reply": "2021-08-05T17:02:49.254844Z"
    },
    "papermill": {
     "duration": 0.041044,
     "end_time": "2021-08-05T17:02:49.255013",
     "exception": false,
     "start_time": "2021-08-05T17:02:49.213969",
     "status": "completed"
    },
    "tags": []
   },
   "outputs": [],
   "source": [
    "#q3.hint()\n",
    "#q3.solution()"
   ]
  },
  {
   "cell_type": "markdown",
   "id": "f7160c6c",
   "metadata": {
    "papermill": {
     "duration": 0.034037,
     "end_time": "2021-08-05T17:02:49.323401",
     "exception": false,
     "start_time": "2021-08-05T17:02:49.289364",
     "status": "completed"
    },
    "tags": []
   },
   "source": [
    "# 4.\n",
    "\n",
    "The function `is_negative` below is implemented correctly - it returns True if the given number is negative and False otherwise.\n",
    "\n",
    "However, it's more verbose than it needs to be. We can actually reduce the number of lines of code in this function by *75%* while keeping the same behaviour. \n",
    "\n",
    "See if you can come up with an equivalent body that uses just **one line** of code, and put it in the function `concise_is_negative`. (HINT: you don't even need Python's ternary syntax)"
   ]
  },
  {
   "cell_type": "code",
   "execution_count": 10,
   "id": "f95195ac",
   "metadata": {
    "execution": {
     "iopub.execute_input": "2021-08-05T17:02:49.397787Z",
     "iopub.status.busy": "2021-08-05T17:02:49.397145Z",
     "iopub.status.idle": "2021-08-05T17:02:49.402118Z",
     "shell.execute_reply": "2021-08-05T17:02:49.401600Z",
     "shell.execute_reply.started": "2021-08-05T15:25:38.045034Z"
    },
    "papermill": {
     "duration": 0.044915,
     "end_time": "2021-08-05T17:02:49.402251",
     "exception": false,
     "start_time": "2021-08-05T17:02:49.357336",
     "status": "completed"
    },
    "tags": []
   },
   "outputs": [
    {
     "data": {
      "application/javascript": [
       "parent.postMessage({\"jupyterEvent\": \"custom.exercise_interaction\", \"data\": {\"outcomeType\": 1, \"valueTowardsCompletion\": 0.2, \"interactionType\": 1, \"questionType\": 2, \"questionId\": \"4_ConciseIsNegative\", \"learnToolsVersion\": \"0.3.4\", \"failureMessage\": \"\", \"exceptionClass\": \"\", \"trace\": \"\"}}, \"*\")"
      ],
      "text/plain": [
       "<IPython.core.display.Javascript object>"
      ]
     },
     "metadata": {},
     "output_type": "display_data"
    },
    {
     "data": {
      "text/markdown": [
       "<span style=\"color:#33cc33\">Correct</span>"
      ],
      "text/plain": [
       "Correct"
      ]
     },
     "metadata": {},
     "output_type": "display_data"
    }
   ],
   "source": [
    "def is_negative(number):\n",
    "    if number < 0:\n",
    "        return True\n",
    "    else:\n",
    "        return False\n",
    "\n",
    "def concise_is_negative(number):\n",
    "   return True if number < 0 else False\n",
    "\n",
    "# Check your answer\n",
    "q4.check()"
   ]
  },
  {
   "cell_type": "code",
   "execution_count": 11,
   "id": "6169b79a",
   "metadata": {
    "execution": {
     "iopub.execute_input": "2021-08-05T17:02:49.476429Z",
     "iopub.status.busy": "2021-08-05T17:02:49.475816Z",
     "iopub.status.idle": "2021-08-05T17:02:49.478570Z",
     "shell.execute_reply": "2021-08-05T17:02:49.478095Z"
    },
    "papermill": {
     "duration": 0.04121,
     "end_time": "2021-08-05T17:02:49.478741",
     "exception": false,
     "start_time": "2021-08-05T17:02:49.437531",
     "status": "completed"
    },
    "tags": []
   },
   "outputs": [],
   "source": [
    "#q4.hint()\n",
    "#q4.solution()"
   ]
  },
  {
   "cell_type": "markdown",
   "id": "48d24e1d",
   "metadata": {
    "papermill": {
     "duration": 0.034729,
     "end_time": "2021-08-05T17:02:49.548143",
     "exception": false,
     "start_time": "2021-08-05T17:02:49.513414",
     "status": "completed"
    },
    "tags": []
   },
   "source": [
    "# 5a.\n",
    "\n",
    "The boolean variables `ketchup`, `mustard` and `onion` represent whether a customer wants a particular topping on their hot dog. We want to implement a number of boolean functions that correspond to some yes-or-no questions about the customer's order. For example:"
   ]
  },
  {
   "cell_type": "code",
   "execution_count": 12,
   "id": "f412a613",
   "metadata": {
    "execution": {
     "iopub.execute_input": "2021-08-05T17:02:49.623187Z",
     "iopub.status.busy": "2021-08-05T17:02:49.622505Z",
     "iopub.status.idle": "2021-08-05T17:02:49.624295Z",
     "shell.execute_reply": "2021-08-05T17:02:49.624768Z",
     "shell.execute_reply.started": "2021-08-05T15:28:39.138261Z"
    },
    "papermill": {
     "duration": 0.041528,
     "end_time": "2021-08-05T17:02:49.624940",
     "exception": false,
     "start_time": "2021-08-05T17:02:49.583412",
     "status": "completed"
    },
    "tags": []
   },
   "outputs": [],
   "source": [
    "def onionless(ketchup, mustard, onion):\n",
    "    \"\"\"Return whether the customer doesn't want onions.\n",
    "    \"\"\"\n",
    "    return not onion"
   ]
  },
  {
   "cell_type": "code",
   "execution_count": 13,
   "id": "b6d9656b",
   "metadata": {
    "execution": {
     "iopub.execute_input": "2021-08-05T17:02:49.698351Z",
     "iopub.status.busy": "2021-08-05T17:02:49.697746Z",
     "iopub.status.idle": "2021-08-05T17:02:49.705672Z",
     "shell.execute_reply": "2021-08-05T17:02:49.705149Z",
     "shell.execute_reply.started": "2021-08-05T15:34:31.372723Z"
    },
    "papermill": {
     "duration": 0.045289,
     "end_time": "2021-08-05T17:02:49.705807",
     "exception": false,
     "start_time": "2021-08-05T17:02:49.660518",
     "status": "completed"
    },
    "tags": []
   },
   "outputs": [
    {
     "data": {
      "application/javascript": [
       "parent.postMessage({\"jupyterEvent\": \"custom.exercise_interaction\", \"data\": {\"outcomeType\": 1, \"valueTowardsCompletion\": 0.2, \"interactionType\": 1, \"questionType\": 2, \"questionId\": \"5.1_AllToppings\", \"learnToolsVersion\": \"0.3.4\", \"failureMessage\": \"\", \"exceptionClass\": \"\", \"trace\": \"\"}}, \"*\")"
      ],
      "text/plain": [
       "<IPython.core.display.Javascript object>"
      ]
     },
     "metadata": {},
     "output_type": "display_data"
    },
    {
     "data": {
      "text/markdown": [
       "<span style=\"color:#33cc33\">Correct</span>"
      ],
      "text/plain": [
       "Correct"
      ]
     },
     "metadata": {},
     "output_type": "display_data"
    }
   ],
   "source": [
    "def wants_all_toppings(ketchup, mustard, onion):\n",
    "    \"\"\"Return whether the customer wants \"the works\" (all 3 toppings)\n",
    "    \"\"\"\n",
    "    return ketchup and mustard and onion\n",
    "\n",
    "# Check your answer\n",
    "q5.a.check()"
   ]
  },
  {
   "cell_type": "code",
   "execution_count": 14,
   "id": "29e5df35",
   "metadata": {
    "execution": {
     "iopub.execute_input": "2021-08-05T17:02:49.782811Z",
     "iopub.status.busy": "2021-08-05T17:02:49.782150Z",
     "iopub.status.idle": "2021-08-05T17:02:49.786570Z",
     "shell.execute_reply": "2021-08-05T17:02:49.787111Z",
     "shell.execute_reply.started": "2021-08-05T15:34:33.922023Z"
    },
    "papermill": {
     "duration": 0.045418,
     "end_time": "2021-08-05T17:02:49.787271",
     "exception": false,
     "start_time": "2021-08-05T17:02:49.741853",
     "status": "completed"
    },
    "tags": []
   },
   "outputs": [
    {
     "data": {
      "application/javascript": [
       "parent.postMessage({\"jupyterEvent\": \"custom.exercise_interaction\", \"data\": {\"interactionType\": 3, \"questionType\": 2, \"questionId\": \"5.1_AllToppings\", \"learnToolsVersion\": \"0.3.4\", \"valueTowardsCompletion\": 0.0, \"failureMessage\": \"\", \"exceptionClass\": \"\", \"trace\": \"\", \"outcomeType\": 4}}, \"*\")"
      ],
      "text/plain": [
       "<IPython.core.display.Javascript object>"
      ]
     },
     "metadata": {},
     "output_type": "display_data"
    },
    {
     "data": {
      "text/markdown": [
       "<span style=\"color:#33cc99\">Solution:</span> \n",
       "```python\n",
       "return ketchup and mustard and onion\n",
       "```"
      ],
      "text/plain": [
       "Solution: \n",
       "```python\n",
       "return ketchup and mustard and onion\n",
       "```"
      ]
     },
     "metadata": {},
     "output_type": "display_data"
    }
   ],
   "source": [
    "#q5.a.hint()\n",
    "q5.a.solution()"
   ]
  },
  {
   "cell_type": "markdown",
   "id": "157973ea",
   "metadata": {
    "papermill": {
     "duration": 0.037311,
     "end_time": "2021-08-05T17:02:49.861331",
     "exception": false,
     "start_time": "2021-08-05T17:02:49.824020",
     "status": "completed"
    },
    "tags": []
   },
   "source": [
    "# 5b.\n",
    "\n",
    "For the next function, fill in the body to match the English description in the docstring. "
   ]
  },
  {
   "cell_type": "code",
   "execution_count": 15,
   "id": "d9d53e17",
   "metadata": {
    "execution": {
     "iopub.execute_input": "2021-08-05T17:02:49.938583Z",
     "iopub.status.busy": "2021-08-05T17:02:49.937908Z",
     "iopub.status.idle": "2021-08-05T17:02:49.944790Z",
     "shell.execute_reply": "2021-08-05T17:02:49.945351Z",
     "shell.execute_reply.started": "2021-08-05T15:37:38.236607Z"
    },
    "papermill": {
     "duration": 0.047457,
     "end_time": "2021-08-05T17:02:49.945518",
     "exception": false,
     "start_time": "2021-08-05T17:02:49.898061",
     "status": "completed"
    },
    "tags": []
   },
   "outputs": [
    {
     "data": {
      "application/javascript": [
       "parent.postMessage({\"jupyterEvent\": \"custom.exercise_interaction\", \"data\": {\"outcomeType\": 1, \"valueTowardsCompletion\": 0.2, \"interactionType\": 1, \"questionType\": 2, \"questionId\": \"5.2_PlainDog\", \"learnToolsVersion\": \"0.3.4\", \"failureMessage\": \"\", \"exceptionClass\": \"\", \"trace\": \"\"}}, \"*\")"
      ],
      "text/plain": [
       "<IPython.core.display.Javascript object>"
      ]
     },
     "metadata": {},
     "output_type": "display_data"
    },
    {
     "data": {
      "text/markdown": [
       "<span style=\"color:#33cc33\">Correct:</span> \n",
       "\n",
       "One solution looks like:\n",
       "```python\n",
       "return not ketchup and not mustard and not onion\n",
       "```\n",
       "\n",
       "We can also [\"factor out\" the nots](https://en.wikipedia.org/wiki/De_Morgan%27s_laws) to get:\n",
       "\n",
       "```python\n",
       "return not (ketchup or mustard or onion)\n",
       "```"
      ],
      "text/plain": [
       "Correct: \n",
       "\n",
       "One solution looks like:\n",
       "```python\n",
       "return not ketchup and not mustard and not onion\n",
       "```\n",
       "\n",
       "We can also [\"factor out\" the nots](https://en.wikipedia.org/wiki/De_Morgan%27s_laws) to get:\n",
       "\n",
       "```python\n",
       "return not (ketchup or mustard or onion)\n",
       "```"
      ]
     },
     "metadata": {},
     "output_type": "display_data"
    }
   ],
   "source": [
    "def wants_plain_hotdog(ketchup, mustard, onion):\n",
    "    \"\"\"Return whether the customer wants a plain hot dog with no toppings.\n",
    "    \"\"\"\n",
    "    return not (ketchup or mustard or onion)\n",
    "\n",
    "# Check your answer\n",
    "q5.b.check()"
   ]
  },
  {
   "cell_type": "code",
   "execution_count": 16,
   "id": "df5c9599",
   "metadata": {
    "execution": {
     "iopub.execute_input": "2021-08-05T17:02:50.026083Z",
     "iopub.status.busy": "2021-08-05T17:02:50.025354Z",
     "iopub.status.idle": "2021-08-05T17:02:50.028434Z",
     "shell.execute_reply": "2021-08-05T17:02:50.029019Z"
    },
    "papermill": {
     "duration": 0.04523,
     "end_time": "2021-08-05T17:02:50.029194",
     "exception": false,
     "start_time": "2021-08-05T17:02:49.983964",
     "status": "completed"
    },
    "tags": []
   },
   "outputs": [],
   "source": [
    "#q5.b.hint()\n",
    "#q5.b.solution()"
   ]
  },
  {
   "cell_type": "markdown",
   "id": "ad621499",
   "metadata": {
    "papermill": {
     "duration": 0.039064,
     "end_time": "2021-08-05T17:02:50.106646",
     "exception": false,
     "start_time": "2021-08-05T17:02:50.067582",
     "status": "completed"
    },
    "tags": []
   },
   "source": [
    "# 5c.\n",
    "\n",
    "You know what to do: for the next function, fill in the body to match the English description in the docstring."
   ]
  },
  {
   "cell_type": "code",
   "execution_count": 17,
   "id": "e2fad3db",
   "metadata": {
    "execution": {
     "iopub.execute_input": "2021-08-05T17:02:50.186819Z",
     "iopub.status.busy": "2021-08-05T17:02:50.185816Z",
     "iopub.status.idle": "2021-08-05T17:02:50.193955Z",
     "shell.execute_reply": "2021-08-05T17:02:50.194438Z",
     "shell.execute_reply.started": "2021-08-05T15:40:21.697191Z"
    },
    "papermill": {
     "duration": 0.049793,
     "end_time": "2021-08-05T17:02:50.194638",
     "exception": false,
     "start_time": "2021-08-05T17:02:50.144845",
     "status": "completed"
    },
    "tags": []
   },
   "outputs": [
    {
     "data": {
      "application/javascript": [
       "parent.postMessage({\"jupyterEvent\": \"custom.exercise_interaction\", \"data\": {\"outcomeType\": 1, \"valueTowardsCompletion\": 0.2, \"interactionType\": 1, \"questionType\": 2, \"questionId\": \"5.3_OneSauce\", \"learnToolsVersion\": \"0.3.4\", \"failureMessage\": \"\", \"exceptionClass\": \"\", \"trace\": \"\"}}, \"*\")"
      ],
      "text/plain": [
       "<IPython.core.display.Javascript object>"
      ]
     },
     "metadata": {},
     "output_type": "display_data"
    },
    {
     "data": {
      "text/markdown": [
       "<span style=\"color:#33cc33\">Correct</span>"
      ],
      "text/plain": [
       "Correct"
      ]
     },
     "metadata": {},
     "output_type": "display_data"
    }
   ],
   "source": [
    "def exactly_one_sauce(ketchup, mustard, onion):\n",
    "    \"\"\"Return whether the customer wants either ketchup or mustard, but not both.\n",
    "    (You may be familiar with this operation under the name \"exclusive or\")\n",
    "    \"\"\"\n",
    "    return (ketchup or mustard) and (not (ketchup and mustard))\n",
    "\n",
    "# Check your answer\n",
    "q5.c.check()"
   ]
  },
  {
   "cell_type": "code",
   "execution_count": 18,
   "id": "8c13633c",
   "metadata": {
    "execution": {
     "iopub.execute_input": "2021-08-05T17:02:50.276649Z",
     "iopub.status.busy": "2021-08-05T17:02:50.276006Z",
     "iopub.status.idle": "2021-08-05T17:02:50.282647Z",
     "shell.execute_reply": "2021-08-05T17:02:50.282016Z",
     "shell.execute_reply.started": "2021-08-05T15:40:26.094984Z"
    },
    "papermill": {
     "duration": 0.049074,
     "end_time": "2021-08-05T17:02:50.282787",
     "exception": false,
     "start_time": "2021-08-05T17:02:50.233713",
     "status": "completed"
    },
    "tags": []
   },
   "outputs": [
    {
     "data": {
      "application/javascript": [
       "parent.postMessage({\"jupyterEvent\": \"custom.exercise_interaction\", \"data\": {\"interactionType\": 3, \"questionType\": 2, \"questionId\": \"5.3_OneSauce\", \"learnToolsVersion\": \"0.3.4\", \"valueTowardsCompletion\": 0.0, \"failureMessage\": \"\", \"exceptionClass\": \"\", \"trace\": \"\", \"outcomeType\": 4}}, \"*\")"
      ],
      "text/plain": [
       "<IPython.core.display.Javascript object>"
      ]
     },
     "metadata": {},
     "output_type": "display_data"
    },
    {
     "data": {
      "text/markdown": [
       "<span style=\"color:#33cc99\">Solution:</span> \n",
       "```python\n",
       "return (ketchup and not mustard) or (mustard and not ketchup)\n",
       "```"
      ],
      "text/plain": [
       "Solution: \n",
       "```python\n",
       "return (ketchup and not mustard) or (mustard and not ketchup)\n",
       "```"
      ]
     },
     "metadata": {},
     "output_type": "display_data"
    }
   ],
   "source": [
    "#q5.c.hint()\n",
    "q5.c.solution()"
   ]
  },
  {
   "cell_type": "markdown",
   "id": "54109a86",
   "metadata": {
    "papermill": {
     "duration": 0.039581,
     "end_time": "2021-08-05T17:02:50.362892",
     "exception": false,
     "start_time": "2021-08-05T17:02:50.323311",
     "status": "completed"
    },
    "tags": []
   },
   "source": [
    "# 6. <span title=\"A bit spicy\" style=\"color: darkgreen \">🌶️</span>\n",
    "\n",
    "We’ve seen that calling `bool()` on an integer returns `False` if it’s equal to 0 and `True` otherwise. What happens if we call `int()` on a bool? Try it out in the notebook cell below.\n",
    "\n",
    "Can you take advantage of this to write a succinct function that corresponds to the English sentence \"does the customer want exactly one topping?\"?"
   ]
  },
  {
   "cell_type": "code",
   "execution_count": 19,
   "id": "1dba11a3",
   "metadata": {
    "execution": {
     "iopub.execute_input": "2021-08-05T17:02:50.447249Z",
     "iopub.status.busy": "2021-08-05T17:02:50.446584Z",
     "iopub.status.idle": "2021-08-05T17:02:50.453164Z",
     "shell.execute_reply": "2021-08-05T17:02:50.453659Z",
     "shell.execute_reply.started": "2021-08-05T15:56:32.576105Z"
    },
    "papermill": {
     "duration": 0.049909,
     "end_time": "2021-08-05T17:02:50.453827",
     "exception": false,
     "start_time": "2021-08-05T17:02:50.403918",
     "status": "completed"
    },
    "tags": []
   },
   "outputs": [
    {
     "data": {
      "application/javascript": [
       "parent.postMessage({\"jupyterEvent\": \"custom.exercise_interaction\", \"data\": {\"outcomeType\": 1, \"valueTowardsCompletion\": 0.2, \"interactionType\": 1, \"questionType\": 2, \"questionId\": \"6_OneTopping\", \"learnToolsVersion\": \"0.3.4\", \"failureMessage\": \"\", \"exceptionClass\": \"\", \"trace\": \"\"}}, \"*\")"
      ],
      "text/plain": [
       "<IPython.core.display.Javascript object>"
      ]
     },
     "metadata": {},
     "output_type": "display_data"
    },
    {
     "data": {
      "text/markdown": [
       "<span style=\"color:#33cc33\">Correct:</span> \n",
       "\n",
       "This condition would be pretty complicated to express using just `and`, `or` and `not`, but using boolean-to-integer conversion gives us this short solution:\n",
       "```python\n",
       "return (int(ketchup) + int(mustard) + int(onion)) == 1\n",
       "```\n",
       "\n",
       "Fun fact: we don't technically need to call `int` on the arguments. Just by doing addition with booleans, Python implicitly does the integer conversion. So we could also write...\n",
       "\n",
       "```python\n",
       "return (ketchup + mustard + onion) == 1\n",
       "```"
      ],
      "text/plain": [
       "Correct: \n",
       "\n",
       "This condition would be pretty complicated to express using just `and`, `or` and `not`, but using boolean-to-integer conversion gives us this short solution:\n",
       "```python\n",
       "return (int(ketchup) + int(mustard) + int(onion)) == 1\n",
       "```\n",
       "\n",
       "Fun fact: we don't technically need to call `int` on the arguments. Just by doing addition with booleans, Python implicitly does the integer conversion. So we could also write...\n",
       "\n",
       "```python\n",
       "return (ketchup + mustard + onion) == 1\n",
       "```"
      ]
     },
     "metadata": {},
     "output_type": "display_data"
    }
   ],
   "source": [
    "def exactly_one_topping(ketchup, mustard, onion):\n",
    "    \"\"\"Return whether the customer wants exactly one of the three available toppings\n",
    "    on their hot dog.\n",
    "    \"\"\"\n",
    "    return ketchup + mustard + onion == 1\n",
    "\n",
    "# Check your answer\n",
    "q6.check()"
   ]
  },
  {
   "cell_type": "code",
   "execution_count": 20,
   "id": "a24aa14d",
   "metadata": {
    "execution": {
     "iopub.execute_input": "2021-08-05T17:02:50.539867Z",
     "iopub.status.busy": "2021-08-05T17:02:50.538920Z",
     "iopub.status.idle": "2021-08-05T17:02:50.542096Z",
     "shell.execute_reply": "2021-08-05T17:02:50.542591Z"
    },
    "papermill": {
     "duration": 0.047952,
     "end_time": "2021-08-05T17:02:50.542774",
     "exception": false,
     "start_time": "2021-08-05T17:02:50.494822",
     "status": "completed"
    },
    "tags": []
   },
   "outputs": [],
   "source": [
    "#q6.hint()\n",
    "#q6.solution()"
   ]
  },
  {
   "cell_type": "markdown",
   "id": "98b3acfc",
   "metadata": {
    "papermill": {
     "duration": 0.040939,
     "end_time": "2021-08-05T17:02:50.625076",
     "exception": false,
     "start_time": "2021-08-05T17:02:50.584137",
     "status": "completed"
    },
    "tags": []
   },
   "source": [
    "# 7. <span title=\"A bit spicy\" style=\"color: darkgreen \">🌶️</span> (Optional)\n",
    "\n",
    "In this problem we'll be working with a simplified version of [blackjack](https://en.wikipedia.org/wiki/Blackjack) (aka twenty-one). In this version there is one player (who you'll control) and a dealer. Play proceeds as follows:\n",
    "\n",
    "- The player is dealt two face-up cards. The dealer is dealt one face-up card.\n",
    "- The player may ask to be dealt another card ('hit') as many times as they wish. If the sum of their cards exceeds 21, they lose the round immediately.\n",
    "- The dealer then deals additional cards to himself until either:\n",
    "    - the sum of the dealer's cards exceeds 21, in which case the player wins the round\n",
    "    - the sum of the dealer's cards is greater than or equal to 17. If the player's total is greater than the dealer's, the player wins. Otherwise, the dealer wins (even in case of a tie).\n",
    "    \n",
    "When calculating the sum of cards, Jack, Queen, and King count for 10. Aces can count as 1 or 11 (when referring to a player's \"total\" above, we mean the largest total that can be made without exceeding 21. So e.g. A+8 = 19, A+8+8 = 17)\n",
    "\n",
    "For this problem, you'll write a function representing the player's decision-making strategy in this game. We've provided a very unintelligent implementation below:"
   ]
  },
  {
   "cell_type": "code",
   "execution_count": 21,
   "id": "c4a17e91",
   "metadata": {
    "execution": {
     "iopub.execute_input": "2021-08-05T17:02:50.711563Z",
     "iopub.status.busy": "2021-08-05T17:02:50.710603Z",
     "iopub.status.idle": "2021-08-05T17:02:50.715227Z",
     "shell.execute_reply": "2021-08-05T17:02:50.715768Z",
     "shell.execute_reply.started": "2021-08-05T16:52:21.027496Z"
    },
    "papermill": {
     "duration": 0.048858,
     "end_time": "2021-08-05T17:02:50.715944",
     "exception": false,
     "start_time": "2021-08-05T17:02:50.667086",
     "status": "completed"
    },
    "tags": []
   },
   "outputs": [],
   "source": [
    "def should_hit(dealer_total, player_total, player_low_aces, player_high_aces):\n",
    "    \"\"\"Return True if the player should hit (request another card) given the current game\n",
    "    state, or False if the player should stay.\n",
    "    When calculating a hand's total value, we count aces as \"high\" (with value 11) if doing so\n",
    "    doesn't bring the total above 21, otherwise we count them as low (with value 1). \n",
    "    For example, if the player's hand is {A, A, A, 7}, we will count it as 11 + 1 + 1 + 7,\n",
    "    and therefore set player_total=20, player_low_aces=2, player_high_aces=1.\n",
    "    \"\"\"\n",
    "    if player_total < 17:\n",
    "        return True\n",
    "    else:\n",
    "        return False"
   ]
  },
  {
   "cell_type": "markdown",
   "id": "65fe1764",
   "metadata": {
    "papermill": {
     "duration": 0.040519,
     "end_time": "2021-08-05T17:02:50.797705",
     "exception": false,
     "start_time": "2021-08-05T17:02:50.757186",
     "status": "completed"
    },
    "tags": []
   },
   "source": [
    "This very conservative agent *always* sticks with the hand of two cards that they're dealt.\n",
    "\n",
    "We'll be simulating games between your player agent and our own dealer agent by calling your function.\n",
    "\n",
    "Try running the function below to see an example of a simulated game:"
   ]
  },
  {
   "cell_type": "code",
   "execution_count": 22,
   "id": "79798de1",
   "metadata": {
    "execution": {
     "iopub.execute_input": "2021-08-05T17:02:50.884314Z",
     "iopub.status.busy": "2021-08-05T17:02:50.883364Z",
     "iopub.status.idle": "2021-08-05T17:02:50.890145Z",
     "shell.execute_reply": "2021-08-05T17:02:50.890812Z",
     "shell.execute_reply.started": "2021-08-05T16:52:23.999486Z"
    },
    "papermill": {
     "duration": 0.052519,
     "end_time": "2021-08-05T17:02:50.891034",
     "exception": false,
     "start_time": "2021-08-05T17:02:50.838515",
     "status": "completed"
    },
    "tags": []
   },
   "outputs": [
    {
     "name": "stdout",
     "output_type": "stream",
     "text": [
      "Player starts with 8 and 2 (total = 10)\n",
      "Dealer starts with Q\n",
      "\n",
      "__Player's turn__\n",
      "Player hits and receives 9. (total = 19)\n",
      "Player stays\n",
      "\n",
      "__Dealer's turn__\n",
      "Dealer hits and receives A. (total = 21)\n",
      "Dealer stands.\n",
      "Dealer wins. 21 >= 19\n"
     ]
    }
   ],
   "source": [
    "q7.simulate_one_game()"
   ]
  },
  {
   "cell_type": "markdown",
   "id": "cec6e9f1",
   "metadata": {
    "papermill": {
     "duration": 0.040861,
     "end_time": "2021-08-05T17:02:50.974541",
     "exception": false,
     "start_time": "2021-08-05T17:02:50.933680",
     "status": "completed"
    },
    "tags": []
   },
   "source": [
    "The real test of your agent's mettle is their average win rate over many games. Try calling the function below to simulate 50000 games of blackjack (it may take a couple seconds):"
   ]
  },
  {
   "cell_type": "code",
   "execution_count": 23,
   "id": "6a38f117",
   "metadata": {
    "execution": {
     "iopub.execute_input": "2021-08-05T17:02:51.086501Z",
     "iopub.status.busy": "2021-08-05T17:02:51.081428Z",
     "iopub.status.idle": "2021-08-05T17:02:53.246560Z",
     "shell.execute_reply": "2021-08-05T17:02:53.245831Z",
     "shell.execute_reply.started": "2021-08-05T16:52:58.520273Z"
    },
    "papermill": {
     "duration": 2.230578,
     "end_time": "2021-08-05T17:02:53.246787",
     "exception": false,
     "start_time": "2021-08-05T17:02:51.016209",
     "status": "completed"
    },
    "tags": []
   },
   "outputs": [
    {
     "name": "stdout",
     "output_type": "stream",
     "text": [
      "Player won 20301 out of 50000 games (win rate = 40.6%)\n"
     ]
    }
   ],
   "source": [
    "q7.simulate(n_games=50000)"
   ]
  },
  {
   "cell_type": "markdown",
   "id": "b0501dc2",
   "metadata": {
    "papermill": {
     "duration": 0.041147,
     "end_time": "2021-08-05T17:02:53.331686",
     "exception": false,
     "start_time": "2021-08-05T17:02:53.290539",
     "status": "completed"
    },
    "tags": []
   },
   "source": [
    "Our dumb agent that completely ignores the game state still manages to win shockingly often!\n",
    "\n",
    "Try adding some more smarts to the `should_hit` function and see how it affects the results."
   ]
  },
  {
   "cell_type": "code",
   "execution_count": 24,
   "id": "e0e4fc0d",
   "metadata": {
    "execution": {
     "iopub.execute_input": "2021-08-05T17:02:53.429884Z",
     "iopub.status.busy": "2021-08-05T17:02:53.424638Z",
     "iopub.status.idle": "2021-08-05T17:02:55.606914Z",
     "shell.execute_reply": "2021-08-05T17:02:55.606376Z",
     "shell.execute_reply.started": "2021-08-05T17:02:13.003401Z"
    },
    "papermill": {
     "duration": 2.233715,
     "end_time": "2021-08-05T17:02:55.607059",
     "exception": false,
     "start_time": "2021-08-05T17:02:53.373344",
     "status": "completed"
    },
    "tags": []
   },
   "outputs": [
    {
     "name": "stdout",
     "output_type": "stream",
     "text": [
      "Player won 20527 out of 50000 games (win rate = 41.1%)\n"
     ]
    }
   ],
   "source": [
    "def should_hit(dealer_total, player_total, player_low_aces, player_high_aces):\n",
    "    \"\"\"Return True if the player should hit (request another card) given the current game\n",
    "    state, or False if the player should stay.\n",
    "    When calculating a hand's total value, we count aces as \"high\" (with value 11) if doing so\n",
    "    doesn't bring the total above 21, otherwise we count them as low (with value 1). \n",
    "    For example, if the player's hand is {A, A, A, 7}, we will count it as 11 + 1 + 1 + 7,\n",
    "    and therefore set player_total=20, player_low_aces=2, player_high_aces=1.\n",
    "    \"\"\"\n",
    "    if dealer_total >= 17 and (player_total <= dealer_total) and player_total <= 17:\n",
    "        return True\n",
    "    elif player_total < 11:\n",
    "        return True\n",
    "    elif player_high_aces > 1 and player_high_aces < 4 and player_total < 17:\n",
    "        return True\n",
    "    elif player_total < 17:\n",
    "        return True\n",
    "    elif player_total < dealer_total:\n",
    "        return True\n",
    "    else:\n",
    "        return False\n",
    "\n",
    "q7.simulate(n_games=50000)"
   ]
  },
  {
   "cell_type": "markdown",
   "id": "53e1090a",
   "metadata": {
    "papermill": {
     "duration": 0.043056,
     "end_time": "2021-08-05T17:02:55.692396",
     "exception": false,
     "start_time": "2021-08-05T17:02:55.649340",
     "status": "completed"
    },
    "tags": []
   },
   "source": [
    "# Keep Going\n",
    "\n",
    "Learn about **[lists and tuples](https://www.kaggle.com/colinmorris/lists)** to handle multiple items of data in a systematic way."
   ]
  },
  {
   "cell_type": "markdown",
   "id": "eff3ee8c",
   "metadata": {
    "papermill": {
     "duration": 0.041876,
     "end_time": "2021-08-05T17:02:55.776675",
     "exception": false,
     "start_time": "2021-08-05T17:02:55.734799",
     "status": "completed"
    },
    "tags": []
   },
   "source": [
    "---\n",
    "\n",
    "\n",
    "\n",
    "\n",
    "*Have questions or comments? Visit the [Learn Discussion forum](https://www.kaggle.com/learn-forum/161283) to chat with other Learners.*"
   ]
  }
 ],
 "metadata": {
  "kernelspec": {
   "display_name": "Python 3",
   "language": "python",
   "name": "python3"
  },
  "language_info": {
   "codemirror_mode": {
    "name": "ipython",
    "version": 3
   },
   "file_extension": ".py",
   "mimetype": "text/x-python",
   "name": "python",
   "nbconvert_exporter": "python",
   "pygments_lexer": "ipython3",
   "version": "3.7.10"
  },
  "papermill": {
   "default_parameters": {},
   "duration": 16.68863,
   "end_time": "2021-08-05T17:02:56.530231",
   "environment_variables": {},
   "exception": null,
   "input_path": "__notebook__.ipynb",
   "output_path": "__notebook__.ipynb",
   "parameters": {},
   "start_time": "2021-08-05T17:02:39.841601",
   "version": "2.3.3"
  }
 },
 "nbformat": 4,
 "nbformat_minor": 5
}
