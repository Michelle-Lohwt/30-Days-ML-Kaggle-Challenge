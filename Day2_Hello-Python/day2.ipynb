{
 "cells": [
  {
   "cell_type": "markdown",
   "id": "046850cb",
   "metadata": {
    "papermill": {
     "duration": 0.026189,
     "end_time": "2021-08-03T15:31:01.751789",
     "exception": false,
     "start_time": "2021-08-03T15:31:01.725600",
     "status": "completed"
    },
    "tags": []
   },
   "source": [
    "**This notebook is an exercise in the [Python](https://www.kaggle.com/learn/python) course.  You can reference the tutorial at [this link](https://www.kaggle.com/colinmorris/hello-python).**\n",
    "\n",
    "---\n"
   ]
  },
  {
   "cell_type": "markdown",
   "id": "a63b1c64",
   "metadata": {
    "papermill": {
     "duration": 0.025088,
     "end_time": "2021-08-03T15:31:01.803796",
     "exception": false,
     "start_time": "2021-08-03T15:31:01.778708",
     "status": "completed"
    },
    "tags": []
   },
   "source": [
    "Welcome to your first set of Python coding problems.  If this is your first time using Kaggle Notebooks, welcome! \n",
    "\n",
    "Notebooks are composed of blocks (called \"cells\") of text and code. Each of these is editable, though you'll mainly be editing the code cells to answer some questions.\n",
    "\n",
    "To get started, try running the code cell below (by pressing the ► button, or clicking on the cell and pressing ctrl+enter on your keyboard)."
   ]
  },
  {
   "cell_type": "code",
   "execution_count": 1,
   "id": "a5803ca3",
   "metadata": {
    "execution": {
     "iopub.execute_input": "2021-08-03T15:31:01.865046Z",
     "iopub.status.busy": "2021-08-03T15:31:01.864371Z",
     "iopub.status.idle": "2021-08-03T15:31:01.869257Z",
     "shell.execute_reply": "2021-08-03T15:31:01.868559Z",
     "shell.execute_reply.started": "2021-08-03T14:49:39.664331Z"
    },
    "papermill": {
     "duration": 0.040716,
     "end_time": "2021-08-03T15:31:01.869429",
     "exception": false,
     "start_time": "2021-08-03T15:31:01.828713",
     "status": "completed"
    },
    "tags": []
   },
   "outputs": [
    {
     "name": "stdout",
     "output_type": "stream",
     "text": [
      "You've successfully run some Python code\n",
      "Congratulations!\n"
     ]
    }
   ],
   "source": [
    "print(\"You've successfully run some Python code\")\n",
    "print(\"Congratulations!\")"
   ]
  },
  {
   "cell_type": "markdown",
   "id": "3ba886cc",
   "metadata": {
    "papermill": {
     "duration": 0.025143,
     "end_time": "2021-08-03T15:31:01.920845",
     "exception": false,
     "start_time": "2021-08-03T15:31:01.895702",
     "status": "completed"
    },
    "tags": []
   },
   "source": [
    "Try adding another line of code in the cell above and re-running it."
   ]
  },
  {
   "cell_type": "markdown",
   "id": "fd0de64e",
   "metadata": {
    "papermill": {
     "duration": 0.024984,
     "end_time": "2021-08-03T15:31:01.971151",
     "exception": false,
     "start_time": "2021-08-03T15:31:01.946167",
     "status": "completed"
    },
    "tags": []
   },
   "source": [
    "Now let's get a little fancier: Add a new code cell by clicking on an existing code cell, hitting the escape key, and then hitting the a or b key. The a key will add a cell above the current cell, and b adds a cell below."
   ]
  },
  {
   "cell_type": "code",
   "execution_count": 2,
   "id": "342d5824",
   "metadata": {
    "execution": {
     "iopub.execute_input": "2021-08-03T15:31:02.026090Z",
     "iopub.status.busy": "2021-08-03T15:31:02.025395Z",
     "iopub.status.idle": "2021-08-03T15:31:02.028169Z",
     "shell.execute_reply": "2021-08-03T15:31:02.027531Z"
    },
    "papermill": {
     "duration": 0.031805,
     "end_time": "2021-08-03T15:31:02.028305",
     "exception": false,
     "start_time": "2021-08-03T15:31:01.996500",
     "status": "completed"
    },
    "tags": []
   },
   "outputs": [],
   "source": [
    "# Esc + a"
   ]
  },
  {
   "cell_type": "code",
   "execution_count": 3,
   "id": "1343add2",
   "metadata": {
    "execution": {
     "iopub.execute_input": "2021-08-03T15:31:02.085203Z",
     "iopub.status.busy": "2021-08-03T15:31:02.084148Z",
     "iopub.status.idle": "2021-08-03T15:31:02.087116Z",
     "shell.execute_reply": "2021-08-03T15:31:02.086460Z"
    },
    "papermill": {
     "duration": 0.032697,
     "end_time": "2021-08-03T15:31:02.087255",
     "exception": false,
     "start_time": "2021-08-03T15:31:02.054558",
     "status": "completed"
    },
    "tags": []
   },
   "outputs": [],
   "source": [
    "# Esc + b"
   ]
  },
  {
   "cell_type": "markdown",
   "id": "080e821b",
   "metadata": {
    "papermill": {
     "duration": 0.027229,
     "end_time": "2021-08-03T15:31:02.140294",
     "exception": false,
     "start_time": "2021-08-03T15:31:02.113065",
     "status": "completed"
    },
    "tags": []
   },
   "source": [
    "Great! Now you know how to use Notebooks.\n",
    "\n",
    "Each hands-on exercise starts by setting up our feedback and code checking mechanism. Run the code cell below to do that. Then you'll be ready to move on to question 0."
   ]
  },
  {
   "cell_type": "code",
   "execution_count": 4,
   "id": "a716c096",
   "metadata": {
    "_kg_hide-input": true,
    "_kg_hide-output": true,
    "execution": {
     "iopub.execute_input": "2021-08-03T15:31:02.197142Z",
     "iopub.status.busy": "2021-08-03T15:31:02.196443Z",
     "iopub.status.idle": "2021-08-03T15:31:02.327426Z",
     "shell.execute_reply": "2021-08-03T15:31:02.326890Z",
     "shell.execute_reply.started": "2021-08-03T14:51:26.588099Z"
    },
    "papermill": {
     "duration": 0.161207,
     "end_time": "2021-08-03T15:31:02.327569",
     "exception": false,
     "start_time": "2021-08-03T15:31:02.166362",
     "status": "completed"
    },
    "tags": []
   },
   "outputs": [
    {
     "name": "stdout",
     "output_type": "stream",
     "text": [
      "Setup complete! You're ready to start question 0.\n"
     ]
    }
   ],
   "source": [
    "from learntools.core import binder; binder.bind(globals())\n",
    "from learntools.python.ex1 import *\n",
    "print(\"Setup complete! You're ready to start question 0.\")"
   ]
  },
  {
   "cell_type": "markdown",
   "id": "3940b26d",
   "metadata": {
    "papermill": {
     "duration": 0.026395,
     "end_time": "2021-08-03T15:31:02.380550",
     "exception": false,
     "start_time": "2021-08-03T15:31:02.354155",
     "status": "completed"
    },
    "tags": []
   },
   "source": [
    "`learntools` is a package and `core` is a subpackage of `learntools`. \n",
    "\n",
    "We import the `binder` module from the `learntools.core` subpackage. \n",
    "\n",
    "We also import every modules (`*`) in the `learntools.python.ex1` subpackage."
   ]
  },
  {
   "cell_type": "markdown",
   "id": "f5001411",
   "metadata": {
    "papermill": {
     "duration": 0.026411,
     "end_time": "2021-08-03T15:31:02.433580",
     "exception": false,
     "start_time": "2021-08-03T15:31:02.407169",
     "status": "completed"
    },
    "tags": []
   },
   "source": [
    "`binder.bind(globals())` \n",
    "`binder` is a variable assigned to a class called `Binder`. Note that `binder` and `Binder` are different. `binder` is a variable while `Binder` is a class in the `globals_binder.py`. Read more at [here](https://github.com/Kaggle/learntools/blob/master/learntools/core/globals_binder.py)\n",
    "\n",
    "`bind()` is a function defined in the class `Binder`.\n",
    "\n",
    "`globals()` is a builtin-method that returns the dictionary of the current global symbol table. Read `globals()` in [here](http://https://www.programiz.com/python-programming/methods/built-in/globals)"
   ]
  },
  {
   "cell_type": "markdown",
   "id": "291ff0ec",
   "metadata": {
    "papermill": {
     "duration": 0.025714,
     "end_time": "2021-08-03T15:31:02.486019",
     "exception": false,
     "start_time": "2021-08-03T15:31:02.460305",
     "status": "completed"
    },
    "tags": []
   },
   "source": [
    "# 0.\n",
    "\n",
    "*This is a silly question intended as an introduction to the format we use for hands-on exercises throughout all Kaggle courses.*\n",
    "\n",
    "**What is your favorite color? **\n",
    "\n",
    "To complete this question, create a variable called `color` in the cell below with an appropriate value. The function call `q0.check()` (which we've already provided in the cell below) will check your answer."
   ]
  },
  {
   "cell_type": "code",
   "execution_count": 5,
   "id": "b6daa8f5",
   "metadata": {
    "execution": {
     "iopub.execute_input": "2021-08-03T15:31:02.546443Z",
     "iopub.status.busy": "2021-08-03T15:31:02.545538Z",
     "iopub.status.idle": "2021-08-03T15:31:02.552061Z",
     "shell.execute_reply": "2021-08-03T15:31:02.551512Z",
     "shell.execute_reply.started": "2021-08-03T15:14:05.280279Z"
    },
    "papermill": {
     "duration": 0.03998,
     "end_time": "2021-08-03T15:31:02.552211",
     "exception": false,
     "start_time": "2021-08-03T15:31:02.512231",
     "status": "completed"
    },
    "tags": []
   },
   "outputs": [
    {
     "data": {
      "application/javascript": [
       "parent.postMessage({\"jupyterEvent\": \"custom.exercise_interaction\", \"data\": {\"outcomeType\": 2, \"failureMessage\": \"\", \"interactionType\": 1, \"questionType\": 2, \"questionId\": \"0_ExerciseFormatTutorial\", \"learnToolsVersion\": \"0.3.4\", \"valueTowardsCompletion\": 0.0, \"exceptionClass\": \"\", \"trace\": \"\"}}, \"*\")"
      ],
      "text/plain": [
       "<IPython.core.display.Javascript object>"
      ]
     },
     "metadata": {},
     "output_type": "display_data"
    },
    {
     "data": {
      "text/markdown": [
       "<span style=\"color:#cc3333\">Incorrect</span>"
      ],
      "text/plain": [
       "Incorrect"
      ]
     },
     "metadata": {},
     "output_type": "display_data"
    }
   ],
   "source": [
    "# create a variable called color with an appropriate value on the line below\n",
    "# (Remember, strings in Python must be enclosed in 'single' or \"double\" quotes)\n",
    "color = \"black\"\n",
    "\n",
    "# Check your answer\n",
    "q0.check()"
   ]
  },
  {
   "cell_type": "markdown",
   "id": "0880264e",
   "metadata": {
    "papermill": {
     "duration": 0.029682,
     "end_time": "2021-08-03T15:31:02.608885",
     "exception": false,
     "start_time": "2021-08-03T15:31:02.579203",
     "status": "completed"
    },
    "tags": []
   },
   "source": [
    "Didn't get the right answer? How do you not even know your own favorite color?!\n",
    "\n",
    "Delete the `#` in the line below to make one of the lines run. You can choose between getting a hint or the full answer by choosing which line to remove the `#` from. \n",
    "\n",
    "Removing the `#` is called uncommenting, because it changes that line from a \"comment\" which Python doesn't run to code, which Python does run."
   ]
  },
  {
   "cell_type": "code",
   "execution_count": 6,
   "id": "78616fe8",
   "metadata": {
    "execution": {
     "iopub.execute_input": "2021-08-03T15:31:02.677663Z",
     "iopub.status.busy": "2021-08-03T15:31:02.676969Z",
     "iopub.status.idle": "2021-08-03T15:31:02.683120Z",
     "shell.execute_reply": "2021-08-03T15:31:02.682447Z",
     "shell.execute_reply.started": "2021-08-03T15:14:59.280868Z"
    },
    "papermill": {
     "duration": 0.045674,
     "end_time": "2021-08-03T15:31:02.683272",
     "exception": false,
     "start_time": "2021-08-03T15:31:02.637598",
     "status": "completed"
    },
    "tags": []
   },
   "outputs": [
    {
     "data": {
      "application/javascript": [
       "parent.postMessage({\"jupyterEvent\": \"custom.exercise_interaction\", \"data\": {\"interactionType\": 2, \"questionType\": 2, \"questionId\": \"0_ExerciseFormatTutorial\", \"learnToolsVersion\": \"0.3.4\", \"valueTowardsCompletion\": 0.0, \"failureMessage\": \"\", \"exceptionClass\": \"\", \"trace\": \"\", \"outcomeType\": 4}}, \"*\")"
      ],
      "text/plain": [
       "<IPython.core.display.Javascript object>"
      ]
     },
     "metadata": {},
     "output_type": "display_data"
    },
    {
     "data": {
      "text/markdown": [
       "<span style=\"color:#3366cc\">Hint:</span> Your favorite color rhymes with *glue*."
      ],
      "text/plain": [
       "Hint: Your favorite color rhymes with *glue*."
      ]
     },
     "metadata": {},
     "output_type": "display_data"
    }
   ],
   "source": [
    "q0.hint()\n",
    "#q0.solution()"
   ]
  },
  {
   "cell_type": "code",
   "execution_count": 7,
   "id": "b11cefd1",
   "metadata": {
    "execution": {
     "iopub.execute_input": "2021-08-03T15:31:02.751415Z",
     "iopub.status.busy": "2021-08-03T15:31:02.750653Z",
     "iopub.status.idle": "2021-08-03T15:31:02.755209Z",
     "shell.execute_reply": "2021-08-03T15:31:02.755826Z",
     "shell.execute_reply.started": "2021-08-03T15:15:41.451091Z"
    },
    "papermill": {
     "duration": 0.038703,
     "end_time": "2021-08-03T15:31:02.755994",
     "exception": false,
     "start_time": "2021-08-03T15:31:02.717291",
     "status": "completed"
    },
    "tags": []
   },
   "outputs": [
    {
     "data": {
      "application/javascript": [
       "parent.postMessage({\"jupyterEvent\": \"custom.exercise_interaction\", \"data\": {\"outcomeType\": 1, \"valueTowardsCompletion\": 0.25, \"interactionType\": 1, \"questionType\": 2, \"questionId\": \"0_ExerciseFormatTutorial\", \"learnToolsVersion\": \"0.3.4\", \"failureMessage\": \"\", \"exceptionClass\": \"\", \"trace\": \"\"}}, \"*\")"
      ],
      "text/plain": [
       "<IPython.core.display.Javascript object>"
      ]
     },
     "metadata": {},
     "output_type": "display_data"
    },
    {
     "data": {
      "text/markdown": [
       "<span style=\"color:#33cc33\">Correct</span>"
      ],
      "text/plain": [
       "Correct"
      ]
     },
     "metadata": {},
     "output_type": "display_data"
    }
   ],
   "source": [
    "# create a variable called color with an appropriate value on the line below\n",
    "# (Remember, strings in Python must be enclosed in 'single' or \"double\" quotes)\n",
    "color = \"blue\"\n",
    "\n",
    "# Check your answer\n",
    "q0.check()"
   ]
  },
  {
   "cell_type": "markdown",
   "id": "be82d701",
   "metadata": {
    "papermill": {
     "duration": 0.028731,
     "end_time": "2021-08-03T15:31:02.814680",
     "exception": false,
     "start_time": "2021-08-03T15:31:02.785949",
     "status": "completed"
    },
    "tags": []
   },
   "source": [
    "The upcoming questions work the same way. The only thing that will change are the question numbers. For the next question, you'll call `q1.check()`, `q1.hint()`, `q1.solution()`, for question 2, you'll call `q2.check()`, and so on."
   ]
  },
  {
   "cell_type": "markdown",
   "id": "1879d2f7",
   "metadata": {
    "papermill": {
     "duration": 0.028707,
     "end_time": "2021-08-03T15:31:02.872481",
     "exception": false,
     "start_time": "2021-08-03T15:31:02.843774",
     "status": "completed"
    },
    "tags": []
   },
   "source": [
    "<hr/>\n",
    "\n",
    "# 1.\n",
    "\n",
    "Complete the code below. In case it's helpful, here is the table of available arithmetic operations:\n",
    "\n",
    "\n",
    "\n",
    "| Operator     | Name           | Description                                            |\n",
    "|--------------|----------------|--------------------------------------------------------|\n",
    "| ``a + b``    | Addition       | Sum of ``a`` and ``b``                                 |\n",
    "| ``a - b``    | Subtraction    | Difference of ``a`` and ``b``                          |\n",
    "| ``a * b``    | Multiplication | Product of ``a`` and ``b``                             |\n",
    "| ``a / b``    | True division  | Quotient of ``a`` and ``b``                            |\n",
    "| ``a // b``   | Floor division | Quotient of ``a`` and ``b``, removing fractional parts |\n",
    "| ``a % b``    | Modulus        | Integer remainder after division of ``a`` by ``b``     |\n",
    "| ``a ** b``   | Exponentiation | ``a`` raised to the power of ``b``                     |\n",
    "| ``-a``       | Negation       | The negative of ``a``                                  |\n",
    "\n",
    "<span style=\"display:none\"></span>\n"
   ]
  },
  {
   "cell_type": "code",
   "execution_count": 8,
   "id": "fbb80f4d",
   "metadata": {
    "execution": {
     "iopub.execute_input": "2021-08-03T15:31:02.933311Z",
     "iopub.status.busy": "2021-08-03T15:31:02.932684Z",
     "iopub.status.idle": "2021-08-03T15:31:02.941380Z",
     "shell.execute_reply": "2021-08-03T15:31:02.940879Z",
     "shell.execute_reply.started": "2021-08-03T15:16:35.919423Z"
    },
    "papermill": {
     "duration": 0.040185,
     "end_time": "2021-08-03T15:31:02.941524",
     "exception": false,
     "start_time": "2021-08-03T15:31:02.901339",
     "status": "completed"
    },
    "tags": []
   },
   "outputs": [
    {
     "data": {
      "application/javascript": [
       "parent.postMessage({\"jupyterEvent\": \"custom.exercise_interaction\", \"data\": {\"outcomeType\": 1, \"valueTowardsCompletion\": 0.25, \"interactionType\": 1, \"questionType\": 1, \"questionId\": \"1_CircleArea\", \"learnToolsVersion\": \"0.3.4\", \"failureMessage\": \"\", \"exceptionClass\": \"\", \"trace\": \"\"}}, \"*\")"
      ],
      "text/plain": [
       "<IPython.core.display.Javascript object>"
      ]
     },
     "metadata": {},
     "output_type": "display_data"
    },
    {
     "data": {
      "text/markdown": [
       "<span style=\"color:#33cc33\">Correct</span>"
      ],
      "text/plain": [
       "Correct"
      ]
     },
     "metadata": {},
     "output_type": "display_data"
    }
   ],
   "source": [
    "pi = 3.14159 # approximate\n",
    "diameter = 3\n",
    "\n",
    "# Create a variable called 'radius' equal to half the diameter\n",
    "radius = diameter / 2\n",
    "\n",
    "# Create a variable called 'area', using the formula for the area of a circle: pi times the radius squared\n",
    "area = pi * radius ** 2\n",
    "\n",
    "# Check your answer\n",
    "q1.check()"
   ]
  },
  {
   "cell_type": "code",
   "execution_count": 9,
   "id": "bfbe4aa1",
   "metadata": {
    "execution": {
     "iopub.execute_input": "2021-08-03T15:31:03.005763Z",
     "iopub.status.busy": "2021-08-03T15:31:03.004981Z",
     "iopub.status.idle": "2021-08-03T15:31:03.008150Z",
     "shell.execute_reply": "2021-08-03T15:31:03.007582Z"
    },
    "papermill": {
     "duration": 0.036734,
     "end_time": "2021-08-03T15:31:03.008285",
     "exception": false,
     "start_time": "2021-08-03T15:31:02.971551",
     "status": "completed"
    },
    "tags": []
   },
   "outputs": [],
   "source": [
    "# Uncomment and run the lines below if you need help.\n",
    "#q1.hint()\n",
    "#q1.solution()"
   ]
  },
  {
   "cell_type": "markdown",
   "id": "2c481f12",
   "metadata": {
    "papermill": {
     "duration": 0.029966,
     "end_time": "2021-08-03T15:31:03.068507",
     "exception": false,
     "start_time": "2021-08-03T15:31:03.038541",
     "status": "completed"
    },
    "tags": []
   },
   "source": [
    "<hr/>\n",
    "\n",
    "# 2.\n",
    "\n",
    "Add code to the following cell to swap variables `a` and `b` (so that `a` refers to the object previously referred to by `b` and vice versa)."
   ]
  },
  {
   "cell_type": "code",
   "execution_count": 10,
   "id": "fd1abdbe",
   "metadata": {
    "execution": {
     "iopub.execute_input": "2021-08-03T15:31:03.135206Z",
     "iopub.status.busy": "2021-08-03T15:31:03.134366Z",
     "iopub.status.idle": "2021-08-03T15:31:03.140750Z",
     "shell.execute_reply": "2021-08-03T15:31:03.140117Z",
     "shell.execute_reply.started": "2021-08-03T15:18:28.544946Z"
    },
    "papermill": {
     "duration": 0.042,
     "end_time": "2021-08-03T15:31:03.140890",
     "exception": false,
     "start_time": "2021-08-03T15:31:03.098890",
     "status": "completed"
    },
    "tags": []
   },
   "outputs": [
    {
     "data": {
      "application/javascript": [
       "parent.postMessage({\"jupyterEvent\": \"custom.exercise_interaction\", \"data\": {\"outcomeType\": 1, \"valueTowardsCompletion\": 0.25, \"interactionType\": 1, \"questionType\": 2, \"questionId\": \"2_VariableSwap\", \"learnToolsVersion\": \"0.3.4\", \"failureMessage\": \"\", \"exceptionClass\": \"\", \"trace\": \"\"}}, \"*\")"
      ],
      "text/plain": [
       "<IPython.core.display.Javascript object>"
      ]
     },
     "metadata": {},
     "output_type": "display_data"
    },
    {
     "data": {
      "text/markdown": [
       "<span style=\"color:#33cc33\">Correct:</span> \n",
       "\n",
       "The most straightforward solution is to use a third variable to temporarily store one of the old values. e.g.:\n",
       "\n",
       "    tmp = a\n",
       "    a = b\n",
       "    b = tmp\n",
       "\n",
       "If you've read lots of Python code, you might have seen the following trick to swap two variables in one line:\n",
       "\n",
       "    a, b = b, a\n",
       "\n",
       "We'll demystify this bit of Python magic later when we talk about *tuples*."
      ],
      "text/plain": [
       "Correct: \n",
       "\n",
       "The most straightforward solution is to use a third variable to temporarily store one of the old values. e.g.:\n",
       "\n",
       "    tmp = a\n",
       "    a = b\n",
       "    b = tmp\n",
       "\n",
       "If you've read lots of Python code, you might have seen the following trick to swap two variables in one line:\n",
       "\n",
       "    a, b = b, a\n",
       "\n",
       "We'll demystify this bit of Python magic later when we talk about *tuples*."
      ]
     },
     "metadata": {},
     "output_type": "display_data"
    }
   ],
   "source": [
    "########### Setup code - don't touch this part ######################\n",
    "# If you're curious, these are examples of lists. We'll talk about \n",
    "# them in depth a few lessons from now. For now, just know that they're\n",
    "# yet another type of Python object, like int or float.\n",
    "a = [1, 2, 3]\n",
    "b = [3, 2, 1]\n",
    "q2.store_original_ids()\n",
    "######################################################################\n",
    "\n",
    "a, b = b, a\n",
    "\n",
    "######################################################################\n",
    "\n",
    "# Check your answer\n",
    "q2.check()"
   ]
  },
  {
   "cell_type": "code",
   "execution_count": 11,
   "id": "f5b2e652",
   "metadata": {
    "execution": {
     "iopub.execute_input": "2021-08-03T15:31:03.207544Z",
     "iopub.status.busy": "2021-08-03T15:31:03.206818Z",
     "iopub.status.idle": "2021-08-03T15:31:03.209358Z",
     "shell.execute_reply": "2021-08-03T15:31:03.208809Z"
    },
    "papermill": {
     "duration": 0.037158,
     "end_time": "2021-08-03T15:31:03.209504",
     "exception": false,
     "start_time": "2021-08-03T15:31:03.172346",
     "status": "completed"
    },
    "tags": []
   },
   "outputs": [],
   "source": [
    "#q2.hint()"
   ]
  },
  {
   "cell_type": "code",
   "execution_count": 12,
   "id": "78fd5b9d",
   "metadata": {
    "execution": {
     "iopub.execute_input": "2021-08-03T15:31:03.276714Z",
     "iopub.status.busy": "2021-08-03T15:31:03.276064Z",
     "iopub.status.idle": "2021-08-03T15:31:03.278624Z",
     "shell.execute_reply": "2021-08-03T15:31:03.279115Z"
    },
    "papermill": {
     "duration": 0.038342,
     "end_time": "2021-08-03T15:31:03.279279",
     "exception": false,
     "start_time": "2021-08-03T15:31:03.240937",
     "status": "completed"
    },
    "tags": []
   },
   "outputs": [],
   "source": [
    "#q2.solution()"
   ]
  },
  {
   "cell_type": "markdown",
   "id": "c5bd5fa7",
   "metadata": {
    "papermill": {
     "duration": 0.03161,
     "end_time": "2021-08-03T15:31:03.343362",
     "exception": false,
     "start_time": "2021-08-03T15:31:03.311752",
     "status": "completed"
    },
    "tags": []
   },
   "source": [
    "<hr/>\n",
    "\n",
    "# 3a.\n",
    "\n",
    "Add parentheses to the following expression so that it evaluates to 1."
   ]
  },
  {
   "cell_type": "code",
   "execution_count": 13,
   "id": "e96804bb",
   "metadata": {
    "execution": {
     "iopub.execute_input": "2021-08-03T15:31:03.424704Z",
     "iopub.status.busy": "2021-08-03T15:31:03.423673Z",
     "iopub.status.idle": "2021-08-03T15:31:03.428097Z",
     "shell.execute_reply": "2021-08-03T15:31:03.427200Z",
     "shell.execute_reply.started": "2021-08-03T15:18:57.917130Z"
    },
    "papermill": {
     "duration": 0.04775,
     "end_time": "2021-08-03T15:31:03.428294",
     "exception": false,
     "start_time": "2021-08-03T15:31:03.380544",
     "status": "completed"
    },
    "tags": []
   },
   "outputs": [
    {
     "data": {
      "text/plain": [
       "4"
      ]
     },
     "execution_count": 13,
     "metadata": {},
     "output_type": "execute_result"
    }
   ],
   "source": [
    "5 - 3 // 2"
   ]
  },
  {
   "cell_type": "code",
   "execution_count": 14,
   "id": "d0e99c5f",
   "metadata": {
    "execution": {
     "iopub.execute_input": "2021-08-03T15:31:03.507073Z",
     "iopub.status.busy": "2021-08-03T15:31:03.506163Z",
     "iopub.status.idle": "2021-08-03T15:31:03.509942Z",
     "shell.execute_reply": "2021-08-03T15:31:03.509416Z",
     "shell.execute_reply.started": "2021-08-03T15:19:14.072407Z"
    },
    "papermill": {
     "duration": 0.040188,
     "end_time": "2021-08-03T15:31:03.510078",
     "exception": false,
     "start_time": "2021-08-03T15:31:03.469890",
     "status": "completed"
    },
    "tags": []
   },
   "outputs": [
    {
     "data": {
      "text/plain": [
       "1"
      ]
     },
     "execution_count": 14,
     "metadata": {},
     "output_type": "execute_result"
    }
   ],
   "source": [
    "(5 - 3) // 2"
   ]
  },
  {
   "cell_type": "code",
   "execution_count": 15,
   "id": "e0691bbb",
   "metadata": {
    "execution": {
     "iopub.execute_input": "2021-08-03T15:31:03.578149Z",
     "iopub.status.busy": "2021-08-03T15:31:03.577500Z",
     "iopub.status.idle": "2021-08-03T15:31:03.580486Z",
     "shell.execute_reply": "2021-08-03T15:31:03.579967Z"
    },
    "papermill": {
     "duration": 0.038446,
     "end_time": "2021-08-03T15:31:03.580618",
     "exception": false,
     "start_time": "2021-08-03T15:31:03.542172",
     "status": "completed"
    },
    "tags": []
   },
   "outputs": [],
   "source": [
    "#q3.a.hint()"
   ]
  },
  {
   "cell_type": "code",
   "execution_count": 16,
   "id": "8ea514f0",
   "metadata": {
    "execution": {
     "iopub.execute_input": "2021-08-03T15:31:03.650157Z",
     "iopub.status.busy": "2021-08-03T15:31:03.649451Z",
     "iopub.status.idle": "2021-08-03T15:31:03.654939Z",
     "shell.execute_reply": "2021-08-03T15:31:03.655388Z",
     "shell.execute_reply.started": "2021-08-03T15:24:23.748087Z"
    },
    "papermill": {
     "duration": 0.042536,
     "end_time": "2021-08-03T15:31:03.655554",
     "exception": false,
     "start_time": "2021-08-03T15:31:03.613018",
     "status": "completed"
    },
    "tags": []
   },
   "outputs": [
    {
     "data": {
      "application/javascript": [
       "parent.postMessage({\"jupyterEvent\": \"custom.exercise_interaction\", \"data\": {\"interactionType\": 3, \"questionType\": 4, \"questionId\": \"3.1_ArithmeticParensEasy\", \"learnToolsVersion\": \"0.3.4\", \"valueTowardsCompletion\": 0.0, \"failureMessage\": \"\", \"exceptionClass\": \"\", \"trace\": \"\", \"outcomeType\": 4}}, \"*\")"
      ],
      "text/plain": [
       "<IPython.core.display.Javascript object>"
      ]
     },
     "metadata": {},
     "output_type": "display_data"
    },
    {
     "data": {
      "text/markdown": [
       "<span style=\"color:#33cc99\">Solution:</span> \n",
       "```python\n",
       "(5 - 3) // 2\n",
       "```"
      ],
      "text/plain": [
       "Solution: \n",
       "```python\n",
       "(5 - 3) // 2\n",
       "```"
      ]
     },
     "metadata": {},
     "output_type": "display_data"
    }
   ],
   "source": [
    "# Check your answer (Run this code cell to receive credit!)\n",
    "q3.a.solution()"
   ]
  },
  {
   "cell_type": "markdown",
   "id": "7552e0da",
   "metadata": {
    "papermill": {
     "duration": 0.033092,
     "end_time": "2021-08-03T15:31:03.721632",
     "exception": false,
     "start_time": "2021-08-03T15:31:03.688540",
     "status": "completed"
    },
    "tags": []
   },
   "source": [
    "# 3b.  <span title=\"A bit spicy\" style=\"color: darkgreen \">🌶️</span>\n",
    "\n",
    "<small>Questions, like this one, marked a spicy pepper are a bit harder.</small>\n",
    "\n",
    "Add parentheses to the following expression so that it evaluates to 0."
   ]
  },
  {
   "cell_type": "code",
   "execution_count": 17,
   "id": "5641f555",
   "metadata": {
    "execution": {
     "iopub.execute_input": "2021-08-03T15:31:03.793320Z",
     "iopub.status.busy": "2021-08-03T15:31:03.792393Z",
     "iopub.status.idle": "2021-08-03T15:31:03.796839Z",
     "shell.execute_reply": "2021-08-03T15:31:03.796339Z",
     "shell.execute_reply.started": "2021-08-03T15:19:51.487626Z"
    },
    "papermill": {
     "duration": 0.042404,
     "end_time": "2021-08-03T15:31:03.796990",
     "exception": false,
     "start_time": "2021-08-03T15:31:03.754586",
     "status": "completed"
    },
    "tags": []
   },
   "outputs": [
    {
     "data": {
      "text/plain": [
       "2"
      ]
     },
     "execution_count": 17,
     "metadata": {},
     "output_type": "execute_result"
    }
   ],
   "source": [
    "8 - 3 * 2 - 1 + 1"
   ]
  },
  {
   "cell_type": "code",
   "execution_count": 18,
   "id": "91264e7b",
   "metadata": {
    "execution": {
     "iopub.execute_input": "2021-08-03T15:31:03.868975Z",
     "iopub.status.busy": "2021-08-03T15:31:03.868307Z",
     "iopub.status.idle": "2021-08-03T15:31:03.873629Z",
     "shell.execute_reply": "2021-08-03T15:31:03.874123Z",
     "shell.execute_reply.started": "2021-08-03T15:23:40.250858Z"
    },
    "papermill": {
     "duration": 0.043888,
     "end_time": "2021-08-03T15:31:03.874298",
     "exception": false,
     "start_time": "2021-08-03T15:31:03.830410",
     "status": "completed"
    },
    "tags": []
   },
   "outputs": [
    {
     "data": {
      "application/javascript": [
       "parent.postMessage({\"jupyterEvent\": \"custom.exercise_interaction\", \"data\": {\"interactionType\": 2, \"questionType\": 4, \"questionId\": \"3.2_ArithmeticParensHard\", \"learnToolsVersion\": \"0.3.4\", \"valueTowardsCompletion\": 0.0, \"failureMessage\": \"\", \"exceptionClass\": \"\", \"trace\": \"\", \"outcomeType\": 4}}, \"*\")"
      ],
      "text/plain": [
       "<IPython.core.display.Javascript object>"
      ]
     },
     "metadata": {},
     "output_type": "display_data"
    },
    {
     "data": {
      "text/markdown": [
       "<span style=\"color:#3366cc\">Hint:</span> You may need to use several pairs of parentheses."
      ],
      "text/plain": [
       "Hint: You may need to use several pairs of parentheses."
      ]
     },
     "metadata": {},
     "output_type": "display_data"
    }
   ],
   "source": [
    "q3.b.hint()"
   ]
  },
  {
   "cell_type": "code",
   "execution_count": 19,
   "id": "07f70244",
   "metadata": {
    "execution": {
     "iopub.execute_input": "2021-08-03T15:31:03.948662Z",
     "iopub.status.busy": "2021-08-03T15:31:03.948025Z",
     "iopub.status.idle": "2021-08-03T15:31:03.951869Z",
     "shell.execute_reply": "2021-08-03T15:31:03.951246Z",
     "shell.execute_reply.started": "2021-08-03T15:25:17.135147Z"
    },
    "papermill": {
     "duration": 0.042978,
     "end_time": "2021-08-03T15:31:03.952007",
     "exception": false,
     "start_time": "2021-08-03T15:31:03.909029",
     "status": "completed"
    },
    "tags": []
   },
   "outputs": [
    {
     "data": {
      "text/plain": [
       "0"
      ]
     },
     "execution_count": 19,
     "metadata": {},
     "output_type": "execute_result"
    }
   ],
   "source": [
    "(8 - 3) * (2 - (1 + 1))"
   ]
  },
  {
   "cell_type": "code",
   "execution_count": 20,
   "id": "cf075800",
   "metadata": {
    "execution": {
     "iopub.execute_input": "2021-08-03T15:31:04.026716Z",
     "iopub.status.busy": "2021-08-03T15:31:04.026060Z",
     "iopub.status.idle": "2021-08-03T15:31:04.031256Z",
     "shell.execute_reply": "2021-08-03T15:31:04.031762Z",
     "shell.execute_reply.started": "2021-08-03T15:25:19.160349Z"
    },
    "papermill": {
     "duration": 0.045258,
     "end_time": "2021-08-03T15:31:04.031945",
     "exception": false,
     "start_time": "2021-08-03T15:31:03.986687",
     "status": "completed"
    },
    "tags": []
   },
   "outputs": [
    {
     "data": {
      "application/javascript": [
       "parent.postMessage({\"jupyterEvent\": \"custom.exercise_interaction\", \"data\": {\"interactionType\": 3, \"questionType\": 4, \"questionId\": \"3.2_ArithmeticParensHard\", \"learnToolsVersion\": \"0.3.4\", \"valueTowardsCompletion\": 0.0, \"failureMessage\": \"\", \"exceptionClass\": \"\", \"trace\": \"\", \"outcomeType\": 4}}, \"*\")"
      ],
      "text/plain": [
       "<IPython.core.display.Javascript object>"
      ]
     },
     "metadata": {},
     "output_type": "display_data"
    },
    {
     "data": {
      "text/markdown": [
       "<span style=\"color:#33cc99\">Solution:</span> `(8 - 3) * (2 - (1 + 1))` is one solution. There may be others."
      ],
      "text/plain": [
       "Solution: `(8 - 3) * (2 - (1 + 1))` is one solution. There may be others."
      ]
     },
     "metadata": {},
     "output_type": "display_data"
    }
   ],
   "source": [
    "# Check your answer (Run this code cell to receive credit!)\n",
    "q3.b.solution()"
   ]
  },
  {
   "cell_type": "markdown",
   "id": "93e5c591",
   "metadata": {
    "papermill": {
     "duration": 0.035505,
     "end_time": "2021-08-03T15:31:04.103217",
     "exception": false,
     "start_time": "2021-08-03T15:31:04.067712",
     "status": "completed"
    },
    "tags": []
   },
   "source": [
    "<hr/>\n",
    "\n",
    "# 4. \n",
    "Alice, Bob and Carol have agreed to pool their Halloween candy and split it evenly among themselves.\n",
    "For the sake of their friendship, any candies left over will be smashed. For example, if they collectively\n",
    "bring home 91 candies, they'll take 30 each and smash 1.\n",
    "\n",
    "Write an arithmetic expression below to calculate how many candies they must smash for a given haul."
   ]
  },
  {
   "cell_type": "code",
   "execution_count": 21,
   "id": "44377443",
   "metadata": {
    "execution": {
     "iopub.execute_input": "2021-08-03T15:31:04.181961Z",
     "iopub.status.busy": "2021-08-03T15:31:04.181126Z",
     "iopub.status.idle": "2021-08-03T15:31:04.186950Z",
     "shell.execute_reply": "2021-08-03T15:31:04.186320Z",
     "shell.execute_reply.started": "2021-08-03T15:27:22.199281Z"
    },
    "papermill": {
     "duration": 0.047985,
     "end_time": "2021-08-03T15:31:04.187089",
     "exception": false,
     "start_time": "2021-08-03T15:31:04.139104",
     "status": "completed"
    },
    "tags": []
   },
   "outputs": [
    {
     "data": {
      "application/javascript": [
       "parent.postMessage({\"jupyterEvent\": \"custom.exercise_interaction\", \"data\": {\"outcomeType\": 1, \"valueTowardsCompletion\": 0.25, \"interactionType\": 1, \"questionType\": 1, \"questionId\": \"4_CandySplitting\", \"learnToolsVersion\": \"0.3.4\", \"failureMessage\": \"\", \"exceptionClass\": \"\", \"trace\": \"\"}}, \"*\")"
      ],
      "text/plain": [
       "<IPython.core.display.Javascript object>"
      ]
     },
     "metadata": {},
     "output_type": "display_data"
    },
    {
     "data": {
      "text/markdown": [
       "<span style=\"color:#33cc33\">Correct</span>"
      ],
      "text/plain": [
       "Correct"
      ]
     },
     "metadata": {},
     "output_type": "display_data"
    }
   ],
   "source": [
    "# Variables representing the number of candies collected by alice, bob, and carol\n",
    "alice_candies = 121\n",
    "bob_candies = 77\n",
    "carol_candies = 109\n",
    "\n",
    "# Your code goes here! Replace the right-hand side of this assignment with an expression\n",
    "# involving alice_candies, bob_candies, and carol_candies\n",
    "to_smash = (alice_candies + bob_candies + carol_candies) % 3\n",
    "\n",
    "# % is modulus, it gets the remainders after division\n",
    "# For example: 5/2 = 2 remains 1, then 3%2 = 1\n",
    "\n",
    "# Check your answer\n",
    "q4.check()"
   ]
  },
  {
   "cell_type": "code",
   "execution_count": 22,
   "id": "2db8cc9d",
   "metadata": {
    "execution": {
     "iopub.execute_input": "2021-08-03T15:31:04.274584Z",
     "iopub.status.busy": "2021-08-03T15:31:04.273514Z",
     "iopub.status.idle": "2021-08-03T15:31:04.276324Z",
     "shell.execute_reply": "2021-08-03T15:31:04.275501Z"
    },
    "papermill": {
     "duration": 0.052493,
     "end_time": "2021-08-03T15:31:04.276544",
     "exception": false,
     "start_time": "2021-08-03T15:31:04.224051",
     "status": "completed"
    },
    "tags": []
   },
   "outputs": [],
   "source": [
    "#q4.hint()\n",
    "#q4.solution()"
   ]
  },
  {
   "cell_type": "markdown",
   "id": "edee47f8",
   "metadata": {
    "papermill": {
     "duration": 0.039712,
     "end_time": "2021-08-03T15:31:04.368889",
     "exception": false,
     "start_time": "2021-08-03T15:31:04.329177",
     "status": "completed"
    },
    "tags": []
   },
   "source": [
    "# Keep Going\n",
    "\n",
    "Next up, you'll **[learn to write new functions and understand functions others write](https://www.kaggle.com/colinmorris/functions-and-getting-help)**. This will make you at least 10 times more productive as a Python programmer. "
   ]
  },
  {
   "cell_type": "markdown",
   "id": "2a4ca57b",
   "metadata": {
    "papermill": {
     "duration": 0.036319,
     "end_time": "2021-08-03T15:31:04.442349",
     "exception": false,
     "start_time": "2021-08-03T15:31:04.406030",
     "status": "completed"
    },
    "tags": []
   },
   "source": [
    "---\n",
    "\n",
    "\n",
    "\n",
    "\n",
    "*Have questions or comments? Visit the [Learn Discussion forum](https://www.kaggle.com/learn-forum/161283) to chat with other Learners.*"
   ]
  }
 ],
 "metadata": {
  "kernelspec": {
   "display_name": "Python 3",
   "language": "python",
   "name": "python3"
  },
  "language_info": {
   "codemirror_mode": {
    "name": "ipython",
    "version": 3
   },
   "file_extension": ".py",
   "mimetype": "text/x-python",
   "name": "python",
   "nbconvert_exporter": "python",
   "pygments_lexer": "ipython3",
   "version": "3.7.10"
  },
  "papermill": {
   "default_parameters": {},
   "duration": 11.714455,
   "end_time": "2021-08-03T15:31:05.788349",
   "environment_variables": {},
   "exception": null,
   "input_path": "__notebook__.ipynb",
   "output_path": "__notebook__.ipynb",
   "parameters": {},
   "start_time": "2021-08-03T15:30:54.073894",
   "version": "2.3.3"
  }
 },
 "nbformat": 4,
 "nbformat_minor": 5
}
