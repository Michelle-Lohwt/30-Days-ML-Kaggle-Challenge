{
 "cells": [
  {
   "cell_type": "markdown",
   "id": "1c9fa099",
   "metadata": {
    "papermill": {
     "duration": 0.017522,
     "end_time": "2021-08-04T15:33:01.899289",
     "exception": false,
     "start_time": "2021-08-04T15:33:01.881767",
     "status": "completed"
    },
    "tags": []
   },
   "source": [
    "**This notebook is an exercise in the [Python](https://www.kaggle.com/learn/python) course.  You can reference the tutorial at [this link](https://www.kaggle.com/colinmorris/functions-and-getting-help).**\n",
    "\n",
    "---\n"
   ]
  },
  {
   "cell_type": "markdown",
   "id": "281588c6",
   "metadata": {
    "papermill": {
     "duration": 0.016545,
     "end_time": "2021-08-04T15:33:01.934608",
     "exception": false,
     "start_time": "2021-08-04T15:33:01.918063",
     "status": "completed"
    },
    "tags": []
   },
   "source": [
    "Functions are powerful. Try writing some yourself.\n",
    "\n",
    "As before, don't forget to run the setup code below before jumping into question 1."
   ]
  },
  {
   "cell_type": "code",
   "execution_count": 1,
   "id": "87d210d6",
   "metadata": {
    "_kg_hide-input": true,
    "_kg_hide-output": true,
    "execution": {
     "iopub.execute_input": "2021-08-04T15:33:01.972448Z",
     "iopub.status.busy": "2021-08-04T15:33:01.971269Z",
     "iopub.status.idle": "2021-08-04T15:33:02.111119Z",
     "shell.execute_reply": "2021-08-04T15:33:02.111695Z",
     "shell.execute_reply.started": "2021-08-04T15:18:27.768108Z"
    },
    "papermill": {
     "duration": 0.160531,
     "end_time": "2021-08-04T15:33:02.111991",
     "exception": false,
     "start_time": "2021-08-04T15:33:01.951460",
     "status": "completed"
    },
    "tags": []
   },
   "outputs": [
    {
     "name": "stdout",
     "output_type": "stream",
     "text": [
      "Setup complete.\n"
     ]
    }
   ],
   "source": [
    "# SETUP. You don't need to worry for now about what this code does or how it works.\n",
    "from learntools.core import binder; binder.bind(globals())\n",
    "from learntools.python.ex2 import *\n",
    "print('Setup complete.')"
   ]
  },
  {
   "cell_type": "markdown",
   "id": "288f5c89",
   "metadata": {
    "papermill": {
     "duration": 0.016508,
     "end_time": "2021-08-04T15:33:02.146028",
     "exception": false,
     "start_time": "2021-08-04T15:33:02.129520",
     "status": "completed"
    },
    "tags": []
   },
   "source": [
    "# 1.\n",
    "\n",
    "Complete the body of the following function according to its docstring.\n",
    "\n",
    "HINT: Python has a built-in function `round`."
   ]
  },
  {
   "cell_type": "code",
   "execution_count": 2,
   "id": "eaca6a45",
   "metadata": {
    "execution": {
     "iopub.execute_input": "2021-08-04T15:33:02.187832Z",
     "iopub.status.busy": "2021-08-04T15:33:02.187158Z",
     "iopub.status.idle": "2021-08-04T15:33:02.192486Z",
     "shell.execute_reply": "2021-08-04T15:33:02.192954Z",
     "shell.execute_reply.started": "2021-08-04T15:18:30.388167Z"
    },
    "papermill": {
     "duration": 0.030406,
     "end_time": "2021-08-04T15:33:02.193130",
     "exception": false,
     "start_time": "2021-08-04T15:33:02.162724",
     "status": "completed"
    },
    "tags": []
   },
   "outputs": [
    {
     "data": {
      "application/javascript": [
       "parent.postMessage({\"jupyterEvent\": \"custom.exercise_interaction\", \"data\": {\"outcomeType\": 1, \"valueTowardsCompletion\": 0.16666666666666666, \"interactionType\": 1, \"questionType\": 2, \"questionId\": \"1_RoundFunctionProblem\", \"learnToolsVersion\": \"0.3.4\", \"failureMessage\": \"\", \"exceptionClass\": \"\", \"trace\": \"\"}}, \"*\")"
      ],
      "text/plain": [
       "<IPython.core.display.Javascript object>"
      ]
     },
     "metadata": {},
     "output_type": "display_data"
    },
    {
     "data": {
      "text/markdown": [
       "<span style=\"color:#33cc33\">Correct</span>"
      ],
      "text/plain": [
       "Correct"
      ]
     },
     "metadata": {},
     "output_type": "display_data"
    }
   ],
   "source": [
    "def round_to_two_places(num):\n",
    "    \"\"\"Return the given number rounded to two decimal places. \n",
    "    \n",
    "    >>> round_to_two_places(3.14159)\n",
    "    3.14\n",
    "    \"\"\"\n",
    "    return round(num, ndigits = 2)\n",
    "\n",
    "# Check your answer\n",
    "q1.check()"
   ]
  },
  {
   "cell_type": "code",
   "execution_count": 3,
   "id": "53dbbdcd",
   "metadata": {
    "execution": {
     "iopub.execute_input": "2021-08-04T15:33:02.232981Z",
     "iopub.status.busy": "2021-08-04T15:33:02.232343Z",
     "iopub.status.idle": "2021-08-04T15:33:02.235591Z",
     "shell.execute_reply": "2021-08-04T15:33:02.235061Z"
    },
    "papermill": {
     "duration": 0.024634,
     "end_time": "2021-08-04T15:33:02.235727",
     "exception": false,
     "start_time": "2021-08-04T15:33:02.211093",
     "status": "completed"
    },
    "tags": []
   },
   "outputs": [],
   "source": [
    "# Uncomment the following for a hint\n",
    "#q1.hint()\n",
    "# Or uncomment the following to peek at the solution\n",
    "#q1.solution()"
   ]
  },
  {
   "cell_type": "markdown",
   "id": "eb195852",
   "metadata": {
    "papermill": {
     "duration": 0.017619,
     "end_time": "2021-08-04T15:33:02.271371",
     "exception": false,
     "start_time": "2021-08-04T15:33:02.253752",
     "status": "completed"
    },
    "tags": []
   },
   "source": [
    "# 2.\n",
    "The help for `round` says that `ndigits` (the second argument) may be negative.\n",
    "What do you think will happen when it is? Try some examples in the following cell."
   ]
  },
  {
   "cell_type": "code",
   "execution_count": 4,
   "id": "315d1647",
   "metadata": {
    "execution": {
     "iopub.execute_input": "2021-08-04T15:33:02.313070Z",
     "iopub.status.busy": "2021-08-04T15:33:02.312360Z",
     "iopub.status.idle": "2021-08-04T15:33:02.315227Z",
     "shell.execute_reply": "2021-08-04T15:33:02.315748Z",
     "shell.execute_reply.started": "2021-08-04T15:18:34.605995Z"
    },
    "papermill": {
     "duration": 0.026529,
     "end_time": "2021-08-04T15:33:02.315930",
     "exception": false,
     "start_time": "2021-08-04T15:33:02.289401",
     "status": "completed"
    },
    "tags": []
   },
   "outputs": [
    {
     "data": {
      "text/plain": [
       "0.0"
      ]
     },
     "execution_count": 4,
     "metadata": {},
     "output_type": "execute_result"
    }
   ],
   "source": [
    "round(1.32, -1)"
   ]
  },
  {
   "cell_type": "code",
   "execution_count": 5,
   "id": "8a3c9780",
   "metadata": {
    "execution": {
     "iopub.execute_input": "2021-08-04T15:33:02.355555Z",
     "iopub.status.busy": "2021-08-04T15:33:02.354842Z",
     "iopub.status.idle": "2021-08-04T15:33:02.359495Z",
     "shell.execute_reply": "2021-08-04T15:33:02.360001Z",
     "shell.execute_reply.started": "2021-08-04T15:18:37.100978Z"
    },
    "papermill": {
     "duration": 0.025914,
     "end_time": "2021-08-04T15:33:02.360174",
     "exception": false,
     "start_time": "2021-08-04T15:33:02.334260",
     "status": "completed"
    },
    "tags": []
   },
   "outputs": [
    {
     "data": {
      "text/plain": [
       "10.0"
      ]
     },
     "execution_count": 5,
     "metadata": {},
     "output_type": "execute_result"
    }
   ],
   "source": [
    "round(5.32, -1)"
   ]
  },
  {
   "cell_type": "markdown",
   "id": "2440b750",
   "metadata": {
    "papermill": {
     "duration": 0.018369,
     "end_time": "2021-08-04T15:33:02.397330",
     "exception": false,
     "start_time": "2021-08-04T15:33:02.378961",
     "status": "completed"
    },
    "tags": []
   },
   "source": [
    "Can you think of a case where this would be useful?  Once you're ready, run the code cell below to see the answer and to receive credit for completing the problem."
   ]
  },
  {
   "cell_type": "code",
   "execution_count": 6,
   "id": "7885c2b4",
   "metadata": {
    "execution": {
     "iopub.execute_input": "2021-08-04T15:33:02.437459Z",
     "iopub.status.busy": "2021-08-04T15:33:02.436756Z",
     "iopub.status.idle": "2021-08-04T15:33:02.442518Z",
     "shell.execute_reply": "2021-08-04T15:33:02.443007Z",
     "shell.execute_reply.started": "2021-08-04T15:18:42.097911Z"
    },
    "papermill": {
     "duration": 0.027338,
     "end_time": "2021-08-04T15:33:02.443173",
     "exception": false,
     "start_time": "2021-08-04T15:33:02.415835",
     "status": "completed"
    },
    "tags": []
   },
   "outputs": [
    {
     "data": {
      "application/javascript": [
       "parent.postMessage({\"jupyterEvent\": \"custom.exercise_interaction\", \"data\": {\"interactionType\": 3, \"questionType\": 4, \"questionId\": \"2_RoundNdigitsProblem\", \"learnToolsVersion\": \"0.3.4\", \"valueTowardsCompletion\": 0.0, \"failureMessage\": \"\", \"exceptionClass\": \"\", \"trace\": \"\", \"outcomeType\": 4}}, \"*\")"
      ],
      "text/plain": [
       "<IPython.core.display.Javascript object>"
      ]
     },
     "metadata": {},
     "output_type": "display_data"
    },
    {
     "data": {
      "text/markdown": [
       "<span style=\"color:#33cc99\">Solution:</span> As you've seen, `ndigits=-1` rounds to the nearest 10, `ndigits=-2` rounds to the nearest 100 and so on. Where might this be useful? Suppose we're dealing with large numbers:\n",
       "\n",
       "> The area of Finland is 338,424 km²  \n",
       "> The area of Greenland is 2,166,086 km²\n",
       "\n",
       "We probably don't care whether it's really 338,424, or 338,425, or 338,177. All those digits of accuracy are just distracting. We can chop them off by calling `round()` with `ndigits=-3`:\n",
       "\n",
       "> The area of Finland is 338,000 km²  \n",
       "> The area of Greenland is 2,166,000 km²\n",
       "\n",
       "(We'll talk about how we would get the commas later when we talk about string formatting :))\n"
      ],
      "text/plain": [
       "Solution: As you've seen, `ndigits=-1` rounds to the nearest 10, `ndigits=-2` rounds to the nearest 100 and so on. Where might this be useful? Suppose we're dealing with large numbers:\n",
       "\n",
       "> The area of Finland is 338,424 km²  \n",
       "> The area of Greenland is 2,166,086 km²\n",
       "\n",
       "We probably don't care whether it's really 338,424, or 338,425, or 338,177. All those digits of accuracy are just distracting. We can chop them off by calling `round()` with `ndigits=-3`:\n",
       "\n",
       "> The area of Finland is 338,000 km²  \n",
       "> The area of Greenland is 2,166,000 km²\n",
       "\n",
       "(We'll talk about how we would get the commas later when we talk about string formatting :))"
      ]
     },
     "metadata": {},
     "output_type": "display_data"
    }
   ],
   "source": [
    "# Check your answer (Run this code cell to receive credit!)\n",
    "q2.solution()"
   ]
  },
  {
   "cell_type": "markdown",
   "id": "af5755b1",
   "metadata": {
    "papermill": {
     "duration": 0.019615,
     "end_time": "2021-08-04T15:33:02.482367",
     "exception": false,
     "start_time": "2021-08-04T15:33:02.462752",
     "status": "completed"
    },
    "tags": []
   },
   "source": [
    "# 3.\n",
    "\n",
    "In the previous exercise, the candy-sharing friends Alice, Bob and Carol tried to split candies evenly. For the sake of their friendship, any candies left over would be smashed. For example, if they collectively bring home 91 candies, they'll take 30 each and smash 1.\n",
    "\n",
    "Below is a simple function that will calculate the number of candies to smash for *any* number of total candies.\n",
    "\n",
    "Modify it so that it optionally takes a second argument representing the number of friends the candies are being split between. If no second argument is provided, it should assume 3 friends, as before.\n",
    "\n",
    "Update the docstring to reflect this new behaviour."
   ]
  },
  {
   "cell_type": "code",
   "execution_count": 7,
   "id": "5993d639",
   "metadata": {
    "execution": {
     "iopub.execute_input": "2021-08-04T15:33:02.524796Z",
     "iopub.status.busy": "2021-08-04T15:33:02.524138Z",
     "iopub.status.idle": "2021-08-04T15:33:02.530782Z",
     "shell.execute_reply": "2021-08-04T15:33:02.531387Z",
     "shell.execute_reply.started": "2021-08-04T15:21:27.618108Z"
    },
    "papermill": {
     "duration": 0.029361,
     "end_time": "2021-08-04T15:33:02.531558",
     "exception": false,
     "start_time": "2021-08-04T15:33:02.502197",
     "status": "completed"
    },
    "tags": []
   },
   "outputs": [
    {
     "data": {
      "application/javascript": [
       "parent.postMessage({\"jupyterEvent\": \"custom.exercise_interaction\", \"data\": {\"outcomeType\": 1, \"valueTowardsCompletion\": 0.16666666666666666, \"interactionType\": 1, \"questionType\": 2, \"questionId\": \"3_CandySmashingFunctionProblem\", \"learnToolsVersion\": \"0.3.4\", \"failureMessage\": \"\", \"exceptionClass\": \"\", \"trace\": \"\"}}, \"*\")"
      ],
      "text/plain": [
       "<IPython.core.display.Javascript object>"
      ]
     },
     "metadata": {},
     "output_type": "display_data"
    },
    {
     "data": {
      "text/markdown": [
       "<span style=\"color:#33cc33\">Correct</span>"
      ],
      "text/plain": [
       "Correct"
      ]
     },
     "metadata": {},
     "output_type": "display_data"
    }
   ],
   "source": [
    "def to_smash(total_candies, friends = 3):\n",
    "    \"\"\"Return the number of leftover candies that must be smashed after distributing\n",
    "    the given number of candies evenly between 3 friends.\n",
    "    \n",
    "    >>> to_smash(91)\n",
    "    1\n",
    "    \"\"\"\n",
    "    return total_candies % friends\n",
    "\n",
    "# Check your answer\n",
    "q3.check()"
   ]
  },
  {
   "cell_type": "code",
   "execution_count": 8,
   "id": "c5d98ced",
   "metadata": {
    "execution": {
     "iopub.execute_input": "2021-08-04T15:33:02.577472Z",
     "iopub.status.busy": "2021-08-04T15:33:02.576784Z",
     "iopub.status.idle": "2021-08-04T15:33:02.579922Z",
     "shell.execute_reply": "2021-08-04T15:33:02.580449Z"
    },
    "papermill": {
     "duration": 0.028106,
     "end_time": "2021-08-04T15:33:02.580615",
     "exception": false,
     "start_time": "2021-08-04T15:33:02.552509",
     "status": "completed"
    },
    "tags": []
   },
   "outputs": [],
   "source": [
    "#q3.hint()"
   ]
  },
  {
   "cell_type": "code",
   "execution_count": 9,
   "id": "476dc60a",
   "metadata": {
    "execution": {
     "iopub.execute_input": "2021-08-04T15:33:02.625432Z",
     "iopub.status.busy": "2021-08-04T15:33:02.624735Z",
     "iopub.status.idle": "2021-08-04T15:33:02.627906Z",
     "shell.execute_reply": "2021-08-04T15:33:02.628425Z"
    },
    "papermill": {
     "duration": 0.027143,
     "end_time": "2021-08-04T15:33:02.628595",
     "exception": false,
     "start_time": "2021-08-04T15:33:02.601452",
     "status": "completed"
    },
    "tags": []
   },
   "outputs": [],
   "source": [
    "#q3.solution()"
   ]
  },
  {
   "cell_type": "markdown",
   "id": "d837a41a",
   "metadata": {
    "papermill": {
     "duration": 0.027333,
     "end_time": "2021-08-04T15:33:02.676837",
     "exception": false,
     "start_time": "2021-08-04T15:33:02.649504",
     "status": "completed"
    },
    "tags": []
   },
   "source": [
    "# 4. (Optional)\n",
    "\n",
    "It may not be fun, but reading and understanding error messages will be an important part of your Python career.\n",
    "\n",
    "Each code cell below contains some commented buggy code. For each cell...\n",
    "\n",
    "1. Read the code and predict what you think will happen when it's run.\n",
    "2. Then uncomment the code and run it to see what happens. (**Tip**: In the kernel editor, you can highlight several lines and press `ctrl`+`/` to toggle commenting.)\n",
    "3. Fix the code (so that it accomplishes its intended purpose without throwing an exception)\n",
    "\n",
    "<!-- TODO: should this be autochecked? Delta is probably pretty small. -->"
   ]
  },
  {
   "cell_type": "code",
   "execution_count": 10,
   "id": "000d919f",
   "metadata": {
    "execution": {
     "iopub.execute_input": "2021-08-04T15:33:02.732334Z",
     "iopub.status.busy": "2021-08-04T15:33:02.731628Z",
     "iopub.status.idle": "2021-08-04T15:33:02.735848Z",
     "shell.execute_reply": "2021-08-04T15:33:02.735259Z",
     "shell.execute_reply.started": "2021-08-04T15:22:17.10432Z"
    },
    "papermill": {
     "duration": 0.03744,
     "end_time": "2021-08-04T15:33:02.736000",
     "exception": false,
     "start_time": "2021-08-04T15:33:02.698560",
     "status": "completed"
    },
    "tags": []
   },
   "outputs": [],
   "source": [
    "# ruound_to_two_places(9.9999)\n",
    "# Problem: undefined function, ruound_to_two_places is not a builtin-function nor a function defined manually"
   ]
  },
  {
   "cell_type": "code",
   "execution_count": 11,
   "id": "7d3f45db",
   "metadata": {
    "execution": {
     "iopub.execute_input": "2021-08-04T15:33:02.787463Z",
     "iopub.status.busy": "2021-08-04T15:33:02.786787Z",
     "iopub.status.idle": "2021-08-04T15:33:02.789275Z",
     "shell.execute_reply": "2021-08-04T15:33:02.789773Z",
     "shell.execute_reply.started": "2021-08-04T15:22:32.24959Z"
    },
    "papermill": {
     "duration": 0.030971,
     "end_time": "2021-08-04T15:33:02.790013",
     "exception": false,
     "start_time": "2021-08-04T15:33:02.759042",
     "status": "completed"
    },
    "tags": []
   },
   "outputs": [
    {
     "data": {
      "text/plain": [
       "10.0"
      ]
     },
     "execution_count": 11,
     "metadata": {},
     "output_type": "execute_result"
    }
   ],
   "source": [
    "round(9.9999, 2)"
   ]
  },
  {
   "cell_type": "code",
   "execution_count": 12,
   "id": "d6271440",
   "metadata": {
    "execution": {
     "iopub.execute_input": "2021-08-04T15:33:02.836314Z",
     "iopub.status.busy": "2021-08-04T15:33:02.835645Z",
     "iopub.status.idle": "2021-08-04T15:33:02.838371Z",
     "shell.execute_reply": "2021-08-04T15:33:02.838847Z",
     "shell.execute_reply.started": "2021-08-04T15:22:51.818511Z"
    },
    "papermill": {
     "duration": 0.027366,
     "end_time": "2021-08-04T15:33:02.839020",
     "exception": false,
     "start_time": "2021-08-04T15:33:02.811654",
     "status": "completed"
    },
    "tags": []
   },
   "outputs": [],
   "source": [
    "# x = -10\n",
    "# y = 5\n",
    "# # Which of the two variables above has the smallest absolute value?\n",
    "# smallest_abs = min(abs(x, y))\n",
    "\n",
    "# Problem: abs() cannot take more than 1 argument and min() should at least take 2 arguments"
   ]
  },
  {
   "cell_type": "code",
   "execution_count": 13,
   "id": "b9b4dcb1",
   "metadata": {
    "execution": {
     "iopub.execute_input": "2021-08-04T15:33:02.886236Z",
     "iopub.status.busy": "2021-08-04T15:33:02.885559Z",
     "iopub.status.idle": "2021-08-04T15:33:02.891167Z",
     "shell.execute_reply": "2021-08-04T15:33:02.891719Z",
     "shell.execute_reply.started": "2021-08-04T15:23:41.925583Z"
    },
    "papermill": {
     "duration": 0.03005,
     "end_time": "2021-08-04T15:33:02.891922",
     "exception": false,
     "start_time": "2021-08-04T15:33:02.861872",
     "status": "completed"
    },
    "tags": []
   },
   "outputs": [
    {
     "name": "stdout",
     "output_type": "stream",
     "text": [
      "5\n"
     ]
    }
   ],
   "source": [
    "x = -10\n",
    "y = 5\n",
    "# Which of the two variables above has the smallest absolute value?\n",
    "smallest_abs = min(abs(x), abs(y))\n",
    "print(smallest_abs)"
   ]
  },
  {
   "cell_type": "code",
   "execution_count": 14,
   "id": "4ef925b1",
   "metadata": {
    "execution": {
     "iopub.execute_input": "2021-08-04T15:33:02.939486Z",
     "iopub.status.busy": "2021-08-04T15:33:02.938780Z",
     "iopub.status.idle": "2021-08-04T15:33:02.941651Z",
     "shell.execute_reply": "2021-08-04T15:33:02.941128Z",
     "shell.execute_reply.started": "2021-08-04T15:24:00.093733Z"
    },
    "papermill": {
     "duration": 0.028159,
     "end_time": "2021-08-04T15:33:02.941792",
     "exception": false,
     "start_time": "2021-08-04T15:33:02.913633",
     "status": "completed"
    },
    "tags": []
   },
   "outputs": [],
   "source": [
    "# def f(x):\n",
    "#     y = abs(x)\n",
    "# return y\n",
    "\n",
    "# print(f(5))\n",
    "\n",
    "# Problem: Identation Problem"
   ]
  },
  {
   "cell_type": "code",
   "execution_count": 15,
   "id": "2b7e9a2e",
   "metadata": {
    "execution": {
     "iopub.execute_input": "2021-08-04T15:33:02.990158Z",
     "iopub.status.busy": "2021-08-04T15:33:02.989526Z",
     "iopub.status.idle": "2021-08-04T15:33:02.992887Z",
     "shell.execute_reply": "2021-08-04T15:33:02.993466Z",
     "shell.execute_reply.started": "2021-08-04T15:24:13.882269Z"
    },
    "papermill": {
     "duration": 0.030058,
     "end_time": "2021-08-04T15:33:02.993633",
     "exception": false,
     "start_time": "2021-08-04T15:33:02.963575",
     "status": "completed"
    },
    "tags": []
   },
   "outputs": [
    {
     "name": "stdout",
     "output_type": "stream",
     "text": [
      "5\n"
     ]
    }
   ],
   "source": [
    "def f(x):\n",
    "    y = abs(x)\n",
    "    return y\n",
    "\n",
    "print(f(5))"
   ]
  },
  {
   "cell_type": "markdown",
   "id": "2436d357",
   "metadata": {
    "papermill": {
     "duration": 0.022729,
     "end_time": "2021-08-04T15:33:03.038326",
     "exception": false,
     "start_time": "2021-08-04T15:33:03.015597",
     "status": "completed"
    },
    "tags": []
   },
   "source": [
    "# Keep Going\n",
    "\n",
    "Nice job with the code. Next up, you'll learn about *conditionals*, which you'll need to **[write interesting programs](https://www.kaggle.com/colinmorris/booleans-and-conditionals)**. "
   ]
  },
  {
   "cell_type": "markdown",
   "id": "265c641b",
   "metadata": {
    "papermill": {
     "duration": 0.021489,
     "end_time": "2021-08-04T15:33:03.081769",
     "exception": false,
     "start_time": "2021-08-04T15:33:03.060280",
     "status": "completed"
    },
    "tags": []
   },
   "source": [
    "---\n",
    "\n",
    "\n",
    "\n",
    "\n",
    "*Have questions or comments? Visit the [Learn Discussion forum](https://www.kaggle.com/learn-forum/161283) to chat with other Learners.*"
   ]
  }
 ],
 "metadata": {
  "kernelspec": {
   "display_name": "Python 3",
   "language": "python",
   "name": "python3"
  },
  "language_info": {
   "codemirror_mode": {
    "name": "ipython",
    "version": 3
   },
   "file_extension": ".py",
   "mimetype": "text/x-python",
   "name": "python",
   "nbconvert_exporter": "python",
   "pygments_lexer": "ipython3",
   "version": "3.7.10"
  },
  "papermill": {
   "default_parameters": {},
   "duration": 10.787,
   "end_time": "2021-08-04T15:33:04.573913",
   "environment_variables": {},
   "exception": null,
   "input_path": "__notebook__.ipynb",
   "output_path": "__notebook__.ipynb",
   "parameters": {},
   "start_time": "2021-08-04T15:32:53.786913",
   "version": "2.3.3"
  }
 },
 "nbformat": 4,
 "nbformat_minor": 5
}
